{
 "cells": [
  {
   "cell_type": "code",
   "execution_count": null,
   "id": "87d6f7bf",
   "metadata": {},
   "outputs": [],
   "source": []
  }
 ],
 "metadata": {
  "kernelspec": {
   "display_name": "Python (deli_env)",
   "language": "python",
   "name": "pdf_venv"
  },
  "language_info": {
   "name": "python",
   "version": "3.13.5"
  }
 },
 "nbformat": 4,
 "nbformat_minor": 5
}
