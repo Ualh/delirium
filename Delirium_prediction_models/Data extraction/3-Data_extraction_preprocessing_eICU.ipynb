{
 "cells": [
  {
   "cell_type": "markdown",
   "metadata": {},
   "source": [
    "# Data extraction for Prediction task in time and last version of data extraction"
   ]
  },
  {
   "cell_type": "markdown",
   "metadata": {},
   "source": [
    "# Import"
   ]
  },
  {
   "cell_type": "code",
   "execution_count": 1,
   "metadata": {},
   "outputs": [],
   "source": [
    "from __future__ import absolute_import\n",
    "from __future__ import print_function\n",
    "from pandas import DataFrame, Series\n",
    "from sklearn.preprocessing import MinMaxScaler\n",
    "import joblib\n",
    "import os\n",
    "import csv\n",
    "import sys\n",
    "import pandas as pd\n",
    "import numpy as np\n",
    "import re\n",
    "import os\n",
    "import shutil\n",
    "import re\n",
    "import random\n",
    "from tqdm.notebook import tqdm  # Use tqdm for progress bar in Jupyter\n",
    "\n",
    "eicu_path = r\"Z:\\eicu-collaborative-research-database-2.0\"\n",
    "data_processed_path = r\"C:\\Users\\URHU\\Documents\\data_temp\\eICU\"\n",
    "root_path = r\"C:\\Users\\URHU\\Documents\\delirium_data\"\n",
    "\n",
    "def dataframe_from_csv(path, header=0, index_col=False):\n",
    "    return pd.read_csv(path, header=header, index_col=index_col)"
   ]
  },
  {
   "cell_type": "markdown",
   "metadata": {},
   "source": [
    "# Loading"
   ]
  },
  {
   "cell_type": "code",
   "execution_count": null,
   "metadata": {},
   "outputs": [],
   "source": [
    "pats = dataframe_from_csv(os.path.join(eicu_path, 'patient.csv'),index_col=False)"
   ]
  },
  {
   "cell_type": "code",
   "execution_count": null,
   "metadata": {},
   "outputs": [
    {
     "data": {
      "text/html": [
       "<div>\n",
       "<style scoped>\n",
       "    .dataframe tbody tr th:only-of-type {\n",
       "        vertical-align: middle;\n",
       "    }\n",
       "\n",
       "    .dataframe tbody tr th {\n",
       "        vertical-align: top;\n",
       "    }\n",
       "\n",
       "    .dataframe thead th {\n",
       "        text-align: right;\n",
       "    }\n",
       "</style>\n",
       "<table border=\"1\" class=\"dataframe\">\n",
       "  <thead>\n",
       "    <tr style=\"text-align: right;\">\n",
       "      <th></th>\n",
       "      <th>patientunitstayid</th>\n",
       "      <th>patienthealthsystemstayid</th>\n",
       "      <th>gender</th>\n",
       "      <th>age</th>\n",
       "      <th>ethnicity</th>\n",
       "      <th>hospitalid</th>\n",
       "      <th>wardid</th>\n",
       "      <th>apacheadmissiondx</th>\n",
       "      <th>admissionheight</th>\n",
       "      <th>hospitaladmittime24</th>\n",
       "      <th>hospitaladmitoffset</th>\n",
       "      <th>hospitaladmitsource</th>\n",
       "      <th>hospitaldischargeyear</th>\n",
       "      <th>hospitaldischargetime24</th>\n",
       "      <th>hospitaldischargeoffset</th>\n",
       "      <th>hospitaldischargelocation</th>\n",
       "      <th>hospitaldischargestatus</th>\n",
       "      <th>unittype</th>\n",
       "      <th>unitadmittime24</th>\n",
       "      <th>unitadmitsource</th>\n",
       "      <th>unitvisitnumber</th>\n",
       "      <th>unitstaytype</th>\n",
       "      <th>admissionweight</th>\n",
       "      <th>dischargeweight</th>\n",
       "      <th>unitdischargetime24</th>\n",
       "      <th>unitdischargeoffset</th>\n",
       "      <th>unitdischargelocation</th>\n",
       "      <th>unitdischargestatus</th>\n",
       "      <th>uniquepid</th>\n",
       "    </tr>\n",
       "  </thead>\n",
       "  <tbody>\n",
       "    <tr>\n",
       "      <th>0</th>\n",
       "      <td>141168</td>\n",
       "      <td>128919</td>\n",
       "      <td>Female</td>\n",
       "      <td>70</td>\n",
       "      <td>Caucasian</td>\n",
       "      <td>59</td>\n",
       "      <td>91</td>\n",
       "      <td>Rhythm disturbance (atrial, supraventricular)</td>\n",
       "      <td>152.4</td>\n",
       "      <td>15:54:00</td>\n",
       "      <td>0</td>\n",
       "      <td>Direct Admit</td>\n",
       "      <td>2015</td>\n",
       "      <td>03:50:00</td>\n",
       "      <td>3596</td>\n",
       "      <td>Death</td>\n",
       "      <td>Expired</td>\n",
       "      <td>Med-Surg ICU</td>\n",
       "      <td>15:54:00</td>\n",
       "      <td>Direct Admit</td>\n",
       "      <td>1</td>\n",
       "      <td>admit</td>\n",
       "      <td>84.3</td>\n",
       "      <td>85.8</td>\n",
       "      <td>03:50:00</td>\n",
       "      <td>3596</td>\n",
       "      <td>Death</td>\n",
       "      <td>Expired</td>\n",
       "      <td>002-34851</td>\n",
       "    </tr>\n",
       "    <tr>\n",
       "      <th>1</th>\n",
       "      <td>141178</td>\n",
       "      <td>128927</td>\n",
       "      <td>Female</td>\n",
       "      <td>52</td>\n",
       "      <td>Caucasian</td>\n",
       "      <td>60</td>\n",
       "      <td>83</td>\n",
       "      <td>NaN</td>\n",
       "      <td>162.6</td>\n",
       "      <td>08:56:00</td>\n",
       "      <td>-14</td>\n",
       "      <td>Emergency Department</td>\n",
       "      <td>2015</td>\n",
       "      <td>19:20:00</td>\n",
       "      <td>2050</td>\n",
       "      <td>Home</td>\n",
       "      <td>Alive</td>\n",
       "      <td>Med-Surg ICU</td>\n",
       "      <td>09:10:00</td>\n",
       "      <td>Emergency Department</td>\n",
       "      <td>1</td>\n",
       "      <td>admit</td>\n",
       "      <td>54.4</td>\n",
       "      <td>54.4</td>\n",
       "      <td>09:18:00</td>\n",
       "      <td>8</td>\n",
       "      <td>Step-Down Unit (SDU)</td>\n",
       "      <td>Alive</td>\n",
       "      <td>002-33870</td>\n",
       "    </tr>\n",
       "    <tr>\n",
       "      <th>2</th>\n",
       "      <td>141179</td>\n",
       "      <td>128927</td>\n",
       "      <td>Female</td>\n",
       "      <td>52</td>\n",
       "      <td>Caucasian</td>\n",
       "      <td>60</td>\n",
       "      <td>83</td>\n",
       "      <td>NaN</td>\n",
       "      <td>162.6</td>\n",
       "      <td>08:56:00</td>\n",
       "      <td>-22</td>\n",
       "      <td>Emergency Department</td>\n",
       "      <td>2015</td>\n",
       "      <td>19:20:00</td>\n",
       "      <td>2042</td>\n",
       "      <td>Home</td>\n",
       "      <td>Alive</td>\n",
       "      <td>Med-Surg ICU</td>\n",
       "      <td>09:18:00</td>\n",
       "      <td>ICU to SDU</td>\n",
       "      <td>2</td>\n",
       "      <td>stepdown/other</td>\n",
       "      <td>NaN</td>\n",
       "      <td>60.4</td>\n",
       "      <td>19:20:00</td>\n",
       "      <td>2042</td>\n",
       "      <td>Home</td>\n",
       "      <td>Alive</td>\n",
       "      <td>002-33870</td>\n",
       "    </tr>\n",
       "    <tr>\n",
       "      <th>3</th>\n",
       "      <td>141194</td>\n",
       "      <td>128941</td>\n",
       "      <td>Male</td>\n",
       "      <td>68</td>\n",
       "      <td>Caucasian</td>\n",
       "      <td>73</td>\n",
       "      <td>92</td>\n",
       "      <td>Sepsis, renal/UTI (including bladder)</td>\n",
       "      <td>180.3</td>\n",
       "      <td>18:18:40</td>\n",
       "      <td>-780</td>\n",
       "      <td>Floor</td>\n",
       "      <td>2015</td>\n",
       "      <td>23:30:00</td>\n",
       "      <td>12492</td>\n",
       "      <td>Home</td>\n",
       "      <td>Alive</td>\n",
       "      <td>CTICU</td>\n",
       "      <td>07:18:00</td>\n",
       "      <td>Floor</td>\n",
       "      <td>1</td>\n",
       "      <td>admit</td>\n",
       "      <td>73.9</td>\n",
       "      <td>76.7</td>\n",
       "      <td>15:31:00</td>\n",
       "      <td>4813</td>\n",
       "      <td>Floor</td>\n",
       "      <td>Alive</td>\n",
       "      <td>002-5276</td>\n",
       "    </tr>\n",
       "    <tr>\n",
       "      <th>4</th>\n",
       "      <td>141196</td>\n",
       "      <td>128943</td>\n",
       "      <td>Male</td>\n",
       "      <td>71</td>\n",
       "      <td>Caucasian</td>\n",
       "      <td>67</td>\n",
       "      <td>109</td>\n",
       "      <td>NaN</td>\n",
       "      <td>162.6</td>\n",
       "      <td>20:21:00</td>\n",
       "      <td>-99</td>\n",
       "      <td>Emergency Department</td>\n",
       "      <td>2015</td>\n",
       "      <td>17:00:00</td>\n",
       "      <td>5460</td>\n",
       "      <td>Home</td>\n",
       "      <td>Alive</td>\n",
       "      <td>Med-Surg ICU</td>\n",
       "      <td>22:00:00</td>\n",
       "      <td>ICU to SDU</td>\n",
       "      <td>2</td>\n",
       "      <td>stepdown/other</td>\n",
       "      <td>NaN</td>\n",
       "      <td>63.2</td>\n",
       "      <td>22:23:00</td>\n",
       "      <td>1463</td>\n",
       "      <td>Floor</td>\n",
       "      <td>Alive</td>\n",
       "      <td>002-37665</td>\n",
       "    </tr>\n",
       "  </tbody>\n",
       "</table>\n",
       "</div>"
      ],
      "text/plain": [
       "   patientunitstayid  patienthealthsystemstayid  gender age  ethnicity  \\\n",
       "0             141168                     128919  Female  70  Caucasian   \n",
       "1             141178                     128927  Female  52  Caucasian   \n",
       "2             141179                     128927  Female  52  Caucasian   \n",
       "3             141194                     128941    Male  68  Caucasian   \n",
       "4             141196                     128943    Male  71  Caucasian   \n",
       "\n",
       "   hospitalid  wardid                              apacheadmissiondx  \\\n",
       "0          59      91  Rhythm disturbance (atrial, supraventricular)   \n",
       "1          60      83                                            NaN   \n",
       "2          60      83                                            NaN   \n",
       "3          73      92          Sepsis, renal/UTI (including bladder)   \n",
       "4          67     109                                            NaN   \n",
       "\n",
       "   admissionheight hospitaladmittime24  hospitaladmitoffset  \\\n",
       "0            152.4            15:54:00                    0   \n",
       "1            162.6            08:56:00                  -14   \n",
       "2            162.6            08:56:00                  -22   \n",
       "3            180.3            18:18:40                 -780   \n",
       "4            162.6            20:21:00                  -99   \n",
       "\n",
       "    hospitaladmitsource  hospitaldischargeyear hospitaldischargetime24  \\\n",
       "0          Direct Admit                   2015                03:50:00   \n",
       "1  Emergency Department                   2015                19:20:00   \n",
       "2  Emergency Department                   2015                19:20:00   \n",
       "3                 Floor                   2015                23:30:00   \n",
       "4  Emergency Department                   2015                17:00:00   \n",
       "\n",
       "   hospitaldischargeoffset hospitaldischargelocation hospitaldischargestatus  \\\n",
       "0                     3596                     Death                 Expired   \n",
       "1                     2050                      Home                   Alive   \n",
       "2                     2042                      Home                   Alive   \n",
       "3                    12492                      Home                   Alive   \n",
       "4                     5460                      Home                   Alive   \n",
       "\n",
       "       unittype unitadmittime24       unitadmitsource  unitvisitnumber  \\\n",
       "0  Med-Surg ICU        15:54:00          Direct Admit                1   \n",
       "1  Med-Surg ICU        09:10:00  Emergency Department                1   \n",
       "2  Med-Surg ICU        09:18:00            ICU to SDU                2   \n",
       "3         CTICU        07:18:00                 Floor                1   \n",
       "4  Med-Surg ICU        22:00:00            ICU to SDU                2   \n",
       "\n",
       "     unitstaytype  admissionweight  dischargeweight unitdischargetime24  \\\n",
       "0           admit             84.3             85.8            03:50:00   \n",
       "1           admit             54.4             54.4            09:18:00   \n",
       "2  stepdown/other              NaN             60.4            19:20:00   \n",
       "3           admit             73.9             76.7            15:31:00   \n",
       "4  stepdown/other              NaN             63.2            22:23:00   \n",
       "\n",
       "   unitdischargeoffset unitdischargelocation unitdischargestatus  uniquepid  \n",
       "0                 3596                 Death             Expired  002-34851  \n",
       "1                    8  Step-Down Unit (SDU)               Alive  002-33870  \n",
       "2                 2042                  Home               Alive  002-33870  \n",
       "3                 4813                 Floor               Alive   002-5276  \n",
       "4                 1463                 Floor               Alive  002-37665  "
      ]
     },
     "metadata": {},
     "output_type": "display_data"
    },
    {
     "name": "stdout",
     "output_type": "stream",
     "text": [
      "Unique patient IDs: 200859\n",
      "Unique patient health system stay IDs: 166355\n"
     ]
    },
    {
     "data": {
      "text/html": [
       "<div>\n",
       "<style scoped>\n",
       "    .dataframe tbody tr th:only-of-type {\n",
       "        vertical-align: middle;\n",
       "    }\n",
       "\n",
       "    .dataframe tbody tr th {\n",
       "        vertical-align: top;\n",
       "    }\n",
       "\n",
       "    .dataframe thead th {\n",
       "        text-align: right;\n",
       "    }\n",
       "</style>\n",
       "<table border=\"1\" class=\"dataframe\">\n",
       "  <thead>\n",
       "    <tr style=\"text-align: right;\">\n",
       "      <th></th>\n",
       "      <th>patientunitstayid</th>\n",
       "      <th>patienthealthsystemstayid</th>\n",
       "      <th>gender</th>\n",
       "      <th>age</th>\n",
       "      <th>ethnicity</th>\n",
       "      <th>hospitalid</th>\n",
       "      <th>wardid</th>\n",
       "      <th>apacheadmissiondx</th>\n",
       "      <th>admissionheight</th>\n",
       "      <th>hospitaladmittime24</th>\n",
       "      <th>hospitaladmitoffset</th>\n",
       "      <th>hospitaladmitsource</th>\n",
       "      <th>hospitaldischargeyear</th>\n",
       "      <th>hospitaldischargetime24</th>\n",
       "      <th>hospitaldischargeoffset</th>\n",
       "      <th>hospitaldischargelocation</th>\n",
       "      <th>hospitaldischargestatus</th>\n",
       "      <th>unittype</th>\n",
       "      <th>unitadmittime24</th>\n",
       "      <th>unitadmitsource</th>\n",
       "      <th>unitvisitnumber</th>\n",
       "      <th>unitstaytype</th>\n",
       "      <th>admissionweight</th>\n",
       "      <th>dischargeweight</th>\n",
       "      <th>unitdischargetime24</th>\n",
       "      <th>unitdischargeoffset</th>\n",
       "      <th>unitdischargelocation</th>\n",
       "      <th>unitdischargestatus</th>\n",
       "      <th>uniquepid</th>\n",
       "    </tr>\n",
       "  </thead>\n",
       "  <tbody>\n",
       "    <tr>\n",
       "      <th>count</th>\n",
       "      <td>2.008590e+05</td>\n",
       "      <td>2.008590e+05</td>\n",
       "      <td>200725</td>\n",
       "      <td>200764</td>\n",
       "      <td>198569</td>\n",
       "      <td>200859.000000</td>\n",
       "      <td>200859.000000</td>\n",
       "      <td>177863</td>\n",
       "      <td>196644.000000</td>\n",
       "      <td>200859</td>\n",
       "      <td>2.008590e+05</td>\n",
       "      <td>151395</td>\n",
       "      <td>200859.000000</td>\n",
       "      <td>200859</td>\n",
       "      <td>2.008590e+05</td>\n",
       "      <td>198826</td>\n",
       "      <td>199108</td>\n",
       "      <td>200859</td>\n",
       "      <td>200859</td>\n",
       "      <td>199769</td>\n",
       "      <td>200859.000000</td>\n",
       "      <td>200859</td>\n",
       "      <td>184141.000000</td>\n",
       "      <td>109922.000000</td>\n",
       "      <td>200859</td>\n",
       "      <td>200859.000000</td>\n",
       "      <td>200525</td>\n",
       "      <td>200825</td>\n",
       "      <td>200859</td>\n",
       "    </tr>\n",
       "    <tr>\n",
       "      <th>unique</th>\n",
       "      <td>NaN</td>\n",
       "      <td>NaN</td>\n",
       "      <td>4</td>\n",
       "      <td>91</td>\n",
       "      <td>6</td>\n",
       "      <td>NaN</td>\n",
       "      <td>NaN</td>\n",
       "      <td>392</td>\n",
       "      <td>NaN</td>\n",
       "      <td>25603</td>\n",
       "      <td>NaN</td>\n",
       "      <td>15</td>\n",
       "      <td>NaN</td>\n",
       "      <td>2119</td>\n",
       "      <td>NaN</td>\n",
       "      <td>8</td>\n",
       "      <td>2</td>\n",
       "      <td>8</td>\n",
       "      <td>1590</td>\n",
       "      <td>15</td>\n",
       "      <td>NaN</td>\n",
       "      <td>4</td>\n",
       "      <td>NaN</td>\n",
       "      <td>NaN</td>\n",
       "      <td>1522</td>\n",
       "      <td>NaN</td>\n",
       "      <td>17</td>\n",
       "      <td>2</td>\n",
       "      <td>139367</td>\n",
       "    </tr>\n",
       "    <tr>\n",
       "      <th>top</th>\n",
       "      <td>NaN</td>\n",
       "      <td>NaN</td>\n",
       "      <td>Male</td>\n",
       "      <td>&gt; 89</td>\n",
       "      <td>Caucasian</td>\n",
       "      <td>NaN</td>\n",
       "      <td>NaN</td>\n",
       "      <td>Sepsis, pulmonary</td>\n",
       "      <td>NaN</td>\n",
       "      <td>11:59:00</td>\n",
       "      <td>NaN</td>\n",
       "      <td>Emergency Department</td>\n",
       "      <td>NaN</td>\n",
       "      <td>21:00:00</td>\n",
       "      <td>NaN</td>\n",
       "      <td>Home</td>\n",
       "      <td>Alive</td>\n",
       "      <td>Med-Surg ICU</td>\n",
       "      <td>21:30:00</td>\n",
       "      <td>Emergency Department</td>\n",
       "      <td>NaN</td>\n",
       "      <td>admit</td>\n",
       "      <td>NaN</td>\n",
       "      <td>NaN</td>\n",
       "      <td>20:00:00</td>\n",
       "      <td>NaN</td>\n",
       "      <td>Floor</td>\n",
       "      <td>Alive</td>\n",
       "      <td>021-239346</td>\n",
       "    </tr>\n",
       "    <tr>\n",
       "      <th>freq</th>\n",
       "      <td>NaN</td>\n",
       "      <td>NaN</td>\n",
       "      <td>108379</td>\n",
       "      <td>7081</td>\n",
       "      <td>155285</td>\n",
       "      <td>NaN</td>\n",
       "      <td>NaN</td>\n",
       "      <td>8862</td>\n",
       "      <td>NaN</td>\n",
       "      <td>314</td>\n",
       "      <td>NaN</td>\n",
       "      <td>82504</td>\n",
       "      <td>NaN</td>\n",
       "      <td>1488</td>\n",
       "      <td>NaN</td>\n",
       "      <td>116816</td>\n",
       "      <td>181104</td>\n",
       "      <td>113222</td>\n",
       "      <td>284</td>\n",
       "      <td>89594</td>\n",
       "      <td>NaN</td>\n",
       "      <td>154948</td>\n",
       "      <td>NaN</td>\n",
       "      <td>NaN</td>\n",
       "      <td>660</td>\n",
       "      <td>NaN</td>\n",
       "      <td>93121</td>\n",
       "      <td>189918</td>\n",
       "      <td>26</td>\n",
       "    </tr>\n",
       "    <tr>\n",
       "      <th>mean</th>\n",
       "      <td>1.674016e+06</td>\n",
       "      <td>1.330683e+06</td>\n",
       "      <td>NaN</td>\n",
       "      <td>NaN</td>\n",
       "      <td>NaN</td>\n",
       "      <td>262.466317</td>\n",
       "      <td>634.919013</td>\n",
       "      <td>NaN</td>\n",
       "      <td>169.247166</td>\n",
       "      <td>NaN</td>\n",
       "      <td>-2.359470e+03</td>\n",
       "      <td>NaN</td>\n",
       "      <td>2014.524477</td>\n",
       "      <td>NaN</td>\n",
       "      <td>9.763672e+03</td>\n",
       "      <td>NaN</td>\n",
       "      <td>NaN</td>\n",
       "      <td>NaN</td>\n",
       "      <td>NaN</td>\n",
       "      <td>NaN</td>\n",
       "      <td>1.279614</td>\n",
       "      <td>NaN</td>\n",
       "      <td>83.933920</td>\n",
       "      <td>84.320292</td>\n",
       "      <td>NaN</td>\n",
       "      <td>3858.131913</td>\n",
       "      <td>NaN</td>\n",
       "      <td>NaN</td>\n",
       "      <td>NaN</td>\n",
       "    </tr>\n",
       "    <tr>\n",
       "      <th>std</th>\n",
       "      <td>9.995898e+05</td>\n",
       "      <td>8.156735e+05</td>\n",
       "      <td>NaN</td>\n",
       "      <td>NaN</td>\n",
       "      <td>NaN</td>\n",
       "      <td>116.302287</td>\n",
       "      <td>306.995438</td>\n",
       "      <td>NaN</td>\n",
       "      <td>13.690182</td>\n",
       "      <td>NaN</td>\n",
       "      <td>7.402804e+03</td>\n",
       "      <td>NaN</td>\n",
       "      <td>0.499402</td>\n",
       "      <td>NaN</td>\n",
       "      <td>1.493003e+04</td>\n",
       "      <td>NaN</td>\n",
       "      <td>NaN</td>\n",
       "      <td>NaN</td>\n",
       "      <td>NaN</td>\n",
       "      <td>NaN</td>\n",
       "      <td>0.655562</td>\n",
       "      <td>NaN</td>\n",
       "      <td>27.085359</td>\n",
       "      <td>34.209650</td>\n",
       "      <td>NaN</td>\n",
       "      <td>6236.445188</td>\n",
       "      <td>NaN</td>\n",
       "      <td>NaN</td>\n",
       "      <td>NaN</td>\n",
       "    </tr>\n",
       "    <tr>\n",
       "      <th>min</th>\n",
       "      <td>1.411680e+05</td>\n",
       "      <td>1.289190e+05</td>\n",
       "      <td>NaN</td>\n",
       "      <td>NaN</td>\n",
       "      <td>NaN</td>\n",
       "      <td>56.000000</td>\n",
       "      <td>82.000000</td>\n",
       "      <td>NaN</td>\n",
       "      <td>0.000000</td>\n",
       "      <td>NaN</td>\n",
       "      <td>-1.054551e+06</td>\n",
       "      <td>NaN</td>\n",
       "      <td>2014.000000</td>\n",
       "      <td>NaN</td>\n",
       "      <td>-8.549000e+03</td>\n",
       "      <td>NaN</td>\n",
       "      <td>NaN</td>\n",
       "      <td>NaN</td>\n",
       "      <td>NaN</td>\n",
       "      <td>NaN</td>\n",
       "      <td>1.000000</td>\n",
       "      <td>NaN</td>\n",
       "      <td>0.000000</td>\n",
       "      <td>0.000000</td>\n",
       "      <td>NaN</td>\n",
       "      <td>-7687.000000</td>\n",
       "      <td>NaN</td>\n",
       "      <td>NaN</td>\n",
       "      <td>NaN</td>\n",
       "    </tr>\n",
       "    <tr>\n",
       "      <th>25%</th>\n",
       "      <td>8.311730e+05</td>\n",
       "      <td>6.291915e+05</td>\n",
       "      <td>NaN</td>\n",
       "      <td>NaN</td>\n",
       "      <td>NaN</td>\n",
       "      <td>167.000000</td>\n",
       "      <td>394.000000</td>\n",
       "      <td>NaN</td>\n",
       "      <td>162.500000</td>\n",
       "      <td>NaN</td>\n",
       "      <td>-1.586000e+03</td>\n",
       "      <td>NaN</td>\n",
       "      <td>2014.000000</td>\n",
       "      <td>NaN</td>\n",
       "      <td>3.322000e+03</td>\n",
       "      <td>NaN</td>\n",
       "      <td>NaN</td>\n",
       "      <td>NaN</td>\n",
       "      <td>NaN</td>\n",
       "      <td>NaN</td>\n",
       "      <td>1.000000</td>\n",
       "      <td>NaN</td>\n",
       "      <td>66.100000</td>\n",
       "      <td>66.500000</td>\n",
       "      <td>NaN</td>\n",
       "      <td>1179.000000</td>\n",
       "      <td>NaN</td>\n",
       "      <td>NaN</td>\n",
       "      <td>NaN</td>\n",
       "    </tr>\n",
       "    <tr>\n",
       "      <th>50%</th>\n",
       "      <td>1.579307e+06</td>\n",
       "      <td>1.220701e+06</td>\n",
       "      <td>NaN</td>\n",
       "      <td>NaN</td>\n",
       "      <td>NaN</td>\n",
       "      <td>252.000000</td>\n",
       "      <td>622.000000</td>\n",
       "      <td>NaN</td>\n",
       "      <td>170.000000</td>\n",
       "      <td>NaN</td>\n",
       "      <td>-3.030000e+02</td>\n",
       "      <td>NaN</td>\n",
       "      <td>2015.000000</td>\n",
       "      <td>NaN</td>\n",
       "      <td>6.545000e+03</td>\n",
       "      <td>NaN</td>\n",
       "      <td>NaN</td>\n",
       "      <td>NaN</td>\n",
       "      <td>NaN</td>\n",
       "      <td>NaN</td>\n",
       "      <td>1.000000</td>\n",
       "      <td>NaN</td>\n",
       "      <td>80.000000</td>\n",
       "      <td>80.900000</td>\n",
       "      <td>NaN</td>\n",
       "      <td>2266.000000</td>\n",
       "      <td>NaN</td>\n",
       "      <td>NaN</td>\n",
       "      <td>NaN</td>\n",
       "    </tr>\n",
       "    <tr>\n",
       "      <th>75%</th>\n",
       "      <td>2.695827e+06</td>\n",
       "      <td>2.163790e+06</td>\n",
       "      <td>NaN</td>\n",
       "      <td>NaN</td>\n",
       "      <td>NaN</td>\n",
       "      <td>383.000000</td>\n",
       "      <td>953.000000</td>\n",
       "      <td>NaN</td>\n",
       "      <td>177.800000</td>\n",
       "      <td>NaN</td>\n",
       "      <td>-8.600000e+01</td>\n",
       "      <td>NaN</td>\n",
       "      <td>2015.000000</td>\n",
       "      <td>NaN</td>\n",
       "      <td>1.155800e+04</td>\n",
       "      <td>NaN</td>\n",
       "      <td>NaN</td>\n",
       "      <td>NaN</td>\n",
       "      <td>NaN</td>\n",
       "      <td>NaN</td>\n",
       "      <td>1.000000</td>\n",
       "      <td>NaN</td>\n",
       "      <td>97.000000</td>\n",
       "      <td>98.000000</td>\n",
       "      <td>NaN</td>\n",
       "      <td>4279.000000</td>\n",
       "      <td>NaN</td>\n",
       "      <td>NaN</td>\n",
       "      <td>NaN</td>\n",
       "    </tr>\n",
       "    <tr>\n",
       "      <th>max</th>\n",
       "      <td>3.353263e+06</td>\n",
       "      <td>2.743110e+06</td>\n",
       "      <td>NaN</td>\n",
       "      <td>NaN</td>\n",
       "      <td>NaN</td>\n",
       "      <td>459.000000</td>\n",
       "      <td>1111.000000</td>\n",
       "      <td>NaN</td>\n",
       "      <td>612.600000</td>\n",
       "      <td>NaN</td>\n",
       "      <td>3.883700e+05</td>\n",
       "      <td>NaN</td>\n",
       "      <td>2015.000000</td>\n",
       "      <td>NaN</td>\n",
       "      <td>1.579315e+06</td>\n",
       "      <td>NaN</td>\n",
       "      <td>NaN</td>\n",
       "      <td>NaN</td>\n",
       "      <td>NaN</td>\n",
       "      <td>NaN</td>\n",
       "      <td>18.000000</td>\n",
       "      <td>NaN</td>\n",
       "      <td>953.000000</td>\n",
       "      <td>6814.000000</td>\n",
       "      <td>NaN</td>\n",
       "      <td>729176.000000</td>\n",
       "      <td>NaN</td>\n",
       "      <td>NaN</td>\n",
       "      <td>NaN</td>\n",
       "    </tr>\n",
       "  </tbody>\n",
       "</table>\n",
       "</div>"
      ],
      "text/plain": [
       "        patientunitstayid  patienthealthsystemstayid  gender     age  \\\n",
       "count        2.008590e+05               2.008590e+05  200725  200764   \n",
       "unique                NaN                        NaN       4      91   \n",
       "top                   NaN                        NaN    Male    > 89   \n",
       "freq                  NaN                        NaN  108379    7081   \n",
       "mean         1.674016e+06               1.330683e+06     NaN     NaN   \n",
       "std          9.995898e+05               8.156735e+05     NaN     NaN   \n",
       "min          1.411680e+05               1.289190e+05     NaN     NaN   \n",
       "25%          8.311730e+05               6.291915e+05     NaN     NaN   \n",
       "50%          1.579307e+06               1.220701e+06     NaN     NaN   \n",
       "75%          2.695827e+06               2.163790e+06     NaN     NaN   \n",
       "max          3.353263e+06               2.743110e+06     NaN     NaN   \n",
       "\n",
       "        ethnicity     hospitalid         wardid  apacheadmissiondx  \\\n",
       "count      198569  200859.000000  200859.000000             177863   \n",
       "unique          6            NaN            NaN                392   \n",
       "top     Caucasian            NaN            NaN  Sepsis, pulmonary   \n",
       "freq       155285            NaN            NaN               8862   \n",
       "mean          NaN     262.466317     634.919013                NaN   \n",
       "std           NaN     116.302287     306.995438                NaN   \n",
       "min           NaN      56.000000      82.000000                NaN   \n",
       "25%           NaN     167.000000     394.000000                NaN   \n",
       "50%           NaN     252.000000     622.000000                NaN   \n",
       "75%           NaN     383.000000     953.000000                NaN   \n",
       "max           NaN     459.000000    1111.000000                NaN   \n",
       "\n",
       "        admissionheight hospitaladmittime24  hospitaladmitoffset  \\\n",
       "count     196644.000000              200859         2.008590e+05   \n",
       "unique              NaN               25603                  NaN   \n",
       "top                 NaN            11:59:00                  NaN   \n",
       "freq                NaN                 314                  NaN   \n",
       "mean         169.247166                 NaN        -2.359470e+03   \n",
       "std           13.690182                 NaN         7.402804e+03   \n",
       "min            0.000000                 NaN        -1.054551e+06   \n",
       "25%          162.500000                 NaN        -1.586000e+03   \n",
       "50%          170.000000                 NaN        -3.030000e+02   \n",
       "75%          177.800000                 NaN        -8.600000e+01   \n",
       "max          612.600000                 NaN         3.883700e+05   \n",
       "\n",
       "         hospitaladmitsource  hospitaldischargeyear hospitaldischargetime24  \\\n",
       "count                 151395          200859.000000                  200859   \n",
       "unique                    15                    NaN                    2119   \n",
       "top     Emergency Department                    NaN                21:00:00   \n",
       "freq                   82504                    NaN                    1488   \n",
       "mean                     NaN            2014.524477                     NaN   \n",
       "std                      NaN               0.499402                     NaN   \n",
       "min                      NaN            2014.000000                     NaN   \n",
       "25%                      NaN            2014.000000                     NaN   \n",
       "50%                      NaN            2015.000000                     NaN   \n",
       "75%                      NaN            2015.000000                     NaN   \n",
       "max                      NaN            2015.000000                     NaN   \n",
       "\n",
       "        hospitaldischargeoffset hospitaldischargelocation  \\\n",
       "count              2.008590e+05                    198826   \n",
       "unique                      NaN                         8   \n",
       "top                         NaN                      Home   \n",
       "freq                        NaN                    116816   \n",
       "mean               9.763672e+03                       NaN   \n",
       "std                1.493003e+04                       NaN   \n",
       "min               -8.549000e+03                       NaN   \n",
       "25%                3.322000e+03                       NaN   \n",
       "50%                6.545000e+03                       NaN   \n",
       "75%                1.155800e+04                       NaN   \n",
       "max                1.579315e+06                       NaN   \n",
       "\n",
       "       hospitaldischargestatus      unittype unitadmittime24  \\\n",
       "count                   199108        200859          200859   \n",
       "unique                       2             8            1590   \n",
       "top                      Alive  Med-Surg ICU        21:30:00   \n",
       "freq                    181104        113222             284   \n",
       "mean                       NaN           NaN             NaN   \n",
       "std                        NaN           NaN             NaN   \n",
       "min                        NaN           NaN             NaN   \n",
       "25%                        NaN           NaN             NaN   \n",
       "50%                        NaN           NaN             NaN   \n",
       "75%                        NaN           NaN             NaN   \n",
       "max                        NaN           NaN             NaN   \n",
       "\n",
       "             unitadmitsource  unitvisitnumber unitstaytype  admissionweight  \\\n",
       "count                 199769    200859.000000       200859    184141.000000   \n",
       "unique                    15              NaN            4              NaN   \n",
       "top     Emergency Department              NaN        admit              NaN   \n",
       "freq                   89594              NaN       154948              NaN   \n",
       "mean                     NaN         1.279614          NaN        83.933920   \n",
       "std                      NaN         0.655562          NaN        27.085359   \n",
       "min                      NaN         1.000000          NaN         0.000000   \n",
       "25%                      NaN         1.000000          NaN        66.100000   \n",
       "50%                      NaN         1.000000          NaN        80.000000   \n",
       "75%                      NaN         1.000000          NaN        97.000000   \n",
       "max                      NaN        18.000000          NaN       953.000000   \n",
       "\n",
       "        dischargeweight unitdischargetime24  unitdischargeoffset  \\\n",
       "count     109922.000000              200859        200859.000000   \n",
       "unique              NaN                1522                  NaN   \n",
       "top                 NaN            20:00:00                  NaN   \n",
       "freq                NaN                 660                  NaN   \n",
       "mean          84.320292                 NaN          3858.131913   \n",
       "std           34.209650                 NaN          6236.445188   \n",
       "min            0.000000                 NaN         -7687.000000   \n",
       "25%           66.500000                 NaN          1179.000000   \n",
       "50%           80.900000                 NaN          2266.000000   \n",
       "75%           98.000000                 NaN          4279.000000   \n",
       "max         6814.000000                 NaN        729176.000000   \n",
       "\n",
       "       unitdischargelocation unitdischargestatus   uniquepid  \n",
       "count                 200525              200825      200859  \n",
       "unique                    17                   2      139367  \n",
       "top                    Floor               Alive  021-239346  \n",
       "freq                   93121              189918          26  \n",
       "mean                     NaN                 NaN         NaN  \n",
       "std                      NaN                 NaN         NaN  \n",
       "min                      NaN                 NaN         NaN  \n",
       "25%                      NaN                 NaN         NaN  \n",
       "50%                      NaN                 NaN         NaN  \n",
       "75%                      NaN                 NaN         NaN  \n",
       "max                      NaN                 NaN         NaN  "
      ]
     },
     "metadata": {},
     "output_type": "display_data"
    }
   ],
   "source": [
    "display(pats.head())\n",
    "print(f\"Unique patient IDs: {pats['patientunitstayid'].nunique()}\")\n",
    "#show patienthealthsystemstayid col\n",
    "print(f\"Unique patient health system stay IDs: {pats['patienthealthsystemstayid'].nunique()}\")\n",
    "# Show descriptive statistics for all columns, including those with object dtype\n",
    "pd.set_option('display.max_columns', None)\n",
    "display(pats.describe(include='all'))"
   ]
  },
  {
   "cell_type": "markdown",
   "metadata": {},
   "source": [
    "## Some function needed (patient.csv)"
   ]
  },
  {
   "cell_type": "code",
   "execution_count": 10,
   "metadata": {},
   "outputs": [],
   "source": [
    "###############################\n",
    "# Non-time series preprocessing\n",
    "###############################\n",
    "g_map = {'Female': 1, 'Male': 2, '': 0, 'NaN': 0, 'Unknown': 0, 'Other': 0}\n",
    "def transform_gender(gender_series):\n",
    "    global g_map\n",
    "    return {'gender': gender_series.fillna('').apply(lambda s: g_map[s] if s in g_map else g_map[''])}\n",
    "e_map = {'Asian': 1, 'African American': 2, 'Caucasian': 3, 'Hispanic': 4, 'Native American': 5, 'NaN': 0, '': 0}\n",
    "def transform_ethnicity(ethnicity_series):\n",
    "    global e_map\n",
    "    return {'ethnicity': ethnicity_series.fillna('').apply(lambda s: e_map[s] if s in e_map else e_map[''])}\n",
    "h_s_map = {'Expired': 0, 'Alive': 1, '': 2, 'NaN': 2}\n",
    "def transform_hospital_discharge_status(status_series):\n",
    "    global h_s_map\n",
    "    return {'hospitaldischargestatus': status_series.fillna('').apply(\n",
    "        lambda s: h_s_map[s] if s in h_s_map else h_s_map[''])}\n",
    "def transform_unit_discharge_status(status_series):\n",
    "    global h_s_map\n",
    "    return {'unitdischargestatus': status_series.fillna('').apply(\n",
    "        lambda s: h_s_map[s] if s in h_s_map else h_s_map[''])}\n",
    "def transform_dx_into_id(df):\n",
    "    dx_type = df.apacheadmissiondx.unique()\n",
    "    dict_dx_key = pd.factorize(dx_type)[1]\n",
    "    dict_dx_val = pd.factorize(dx_type)[0]\n",
    "    dictionary = dict(zip(dict_dx_key, dict_dx_val))\n",
    "    df['apacheadmissiondx'] = df['apacheadmissiondx'].map(dictionary)\n",
    "    return df\n",
    "\n",
    "def read_patients_table(eicu_path, root_path):\n",
    "    pats = dataframe_from_csv(os.path.join(eicu_path, 'patient.csv'),index_col=False)\n",
    "    pats = filter_patients_on_age(pats, min_age=18, max_age=89)\n",
    "    pats = filter_patients_on_columns(pats)\n",
    "    pats.update(transform_gender(pats.gender))\n",
    "    pats.update(transform_ethnicity(pats.ethnicity))\n",
    "    pats.update(transform_hospital_discharge_status(pats.hospitaldischargestatus))\n",
    "    pats.update(transform_unit_discharge_status(pats.unitdischargestatus))\n",
    "    pats = transform_dx_into_id(pats)\n",
    "    pats.to_csv(os.path.join(root_path, 'all_stays.csv'), index=False)\n",
    "    pats = filter_patients_on_columns_model(pats)\n",
    "    return pats\n",
    "\n",
    "def filter_patients_on_age(patient, min_age=18, max_age=89):\n",
    "    patient.loc[patient['age'] == '> 89','age'] = 90\n",
    "    patient[['age']] = patient[['age']].fillna(-1)\n",
    "    patient[['age']] = patient[['age']].astype(int)\n",
    "    patient = patient.loc[(patient.age >= min_age) & (patient.age <= max_age)]\n",
    "    return patient\n",
    "\n",
    "def filter_patients_on_columns(patients):\n",
    "    columns = ['patientunitstayid','gender', 'age', 'ethnicity','apacheadmissiondx',\n",
    "        # 'hospitaladmityear',  \n",
    "        'hospitaldischargeyear','hospitaldischargeoffset','uniquepid',        \n",
    "        'admissionheight','hospitaladmitoffset', 'admissionweight',\n",
    "        'hospitaldischargestatus','unitdischargeoffset', 'unitdischargestatus']\n",
    "    return patients[columns]\n",
    "def filter_patients_on_columns_model(patients):\n",
    "    columns = ['patientunitstayid','gender', 'age', 'ethnicity','apacheadmissiondx','uniquepid',\n",
    "         'admissionheight','hospitaladmitoffset','admissionweight',\n",
    "         'hospitaldischargestatus','unitdischargeoffset','unitdischargestatus']\n",
    "    return patients[columns]"
   ]
  },
  {
   "cell_type": "markdown",
   "metadata": {},
   "source": [
    "## Patient.csv"
   ]
  },
  {
   "cell_type": "code",
   "execution_count": null,
   "metadata": {},
   "outputs": [],
   "source": [
    "from __future__ import absolute_import\n",
    "from __future__ import print_function\n",
    "import os\n",
    "patients = read_patients_table(eicu_path,root_path)\n",
    "patient_cohort = patients[\"patientunitstayid\"].unique()"
   ]
  },
  {
   "cell_type": "code",
   "execution_count": null,
   "metadata": {},
   "outputs": [
    {
     "name": "stdout",
     "output_type": "stream",
     "text": [
      "Number of unique patients in: 193153\n"
     ]
    },
    {
     "data": {
      "text/html": [
       "<div>\n",
       "<style scoped>\n",
       "    .dataframe tbody tr th:only-of-type {\n",
       "        vertical-align: middle;\n",
       "    }\n",
       "\n",
       "    .dataframe tbody tr th {\n",
       "        vertical-align: top;\n",
       "    }\n",
       "\n",
       "    .dataframe thead th {\n",
       "        text-align: right;\n",
       "    }\n",
       "</style>\n",
       "<table border=\"1\" class=\"dataframe\">\n",
       "  <thead>\n",
       "    <tr style=\"text-align: right;\">\n",
       "      <th></th>\n",
       "      <th>patientunitstayid</th>\n",
       "      <th>gender</th>\n",
       "      <th>age</th>\n",
       "      <th>ethnicity</th>\n",
       "      <th>apacheadmissiondx</th>\n",
       "      <th>uniquepid</th>\n",
       "      <th>admissionheight</th>\n",
       "      <th>hospitaladmitoffset</th>\n",
       "      <th>admissionweight</th>\n",
       "      <th>hospitaldischargestatus</th>\n",
       "      <th>unitdischargeoffset</th>\n",
       "      <th>unitdischargestatus</th>\n",
       "    </tr>\n",
       "  </thead>\n",
       "  <tbody>\n",
       "    <tr>\n",
       "      <th>0</th>\n",
       "      <td>141168</td>\n",
       "      <td>1</td>\n",
       "      <td>70</td>\n",
       "      <td>3</td>\n",
       "      <td>0.0</td>\n",
       "      <td>002-34851</td>\n",
       "      <td>152.4</td>\n",
       "      <td>0</td>\n",
       "      <td>84.3</td>\n",
       "      <td>0</td>\n",
       "      <td>3596</td>\n",
       "      <td>0</td>\n",
       "    </tr>\n",
       "    <tr>\n",
       "      <th>1</th>\n",
       "      <td>141178</td>\n",
       "      <td>1</td>\n",
       "      <td>52</td>\n",
       "      <td>3</td>\n",
       "      <td>NaN</td>\n",
       "      <td>002-33870</td>\n",
       "      <td>162.6</td>\n",
       "      <td>-14</td>\n",
       "      <td>54.4</td>\n",
       "      <td>1</td>\n",
       "      <td>8</td>\n",
       "      <td>1</td>\n",
       "    </tr>\n",
       "    <tr>\n",
       "      <th>2</th>\n",
       "      <td>141179</td>\n",
       "      <td>1</td>\n",
       "      <td>52</td>\n",
       "      <td>3</td>\n",
       "      <td>NaN</td>\n",
       "      <td>002-33870</td>\n",
       "      <td>162.6</td>\n",
       "      <td>-22</td>\n",
       "      <td>NaN</td>\n",
       "      <td>1</td>\n",
       "      <td>2042</td>\n",
       "      <td>1</td>\n",
       "    </tr>\n",
       "    <tr>\n",
       "      <th>3</th>\n",
       "      <td>141194</td>\n",
       "      <td>2</td>\n",
       "      <td>68</td>\n",
       "      <td>3</td>\n",
       "      <td>-1.0</td>\n",
       "      <td>002-5276</td>\n",
       "      <td>180.3</td>\n",
       "      <td>-780</td>\n",
       "      <td>73.9</td>\n",
       "      <td>1</td>\n",
       "      <td>4813</td>\n",
       "      <td>1</td>\n",
       "    </tr>\n",
       "    <tr>\n",
       "      <th>4</th>\n",
       "      <td>141196</td>\n",
       "      <td>2</td>\n",
       "      <td>71</td>\n",
       "      <td>3</td>\n",
       "      <td>NaN</td>\n",
       "      <td>002-37665</td>\n",
       "      <td>162.6</td>\n",
       "      <td>-99</td>\n",
       "      <td>NaN</td>\n",
       "      <td>1</td>\n",
       "      <td>1463</td>\n",
       "      <td>1</td>\n",
       "    </tr>\n",
       "  </tbody>\n",
       "</table>\n",
       "</div>"
      ],
      "text/plain": [
       "   patientunitstayid gender  age ethnicity  apacheadmissiondx  uniquepid  \\\n",
       "0             141168      1   70         3                0.0  002-34851   \n",
       "1             141178      1   52         3                NaN  002-33870   \n",
       "2             141179      1   52         3                NaN  002-33870   \n",
       "3             141194      2   68         3               -1.0   002-5276   \n",
       "4             141196      2   71         3                NaN  002-37665   \n",
       "\n",
       "   admissionheight  hospitaladmitoffset  admissionweight  \\\n",
       "0            152.4                    0             84.3   \n",
       "1            162.6                  -14             54.4   \n",
       "2            162.6                  -22              NaN   \n",
       "3            180.3                 -780             73.9   \n",
       "4            162.6                  -99              NaN   \n",
       "\n",
       "  hospitaldischargestatus  unitdischargeoffset unitdischargestatus  \n",
       "0                       0                 3596                   0  \n",
       "1                       1                    8                   1  \n",
       "2                       1                 2042                   1  \n",
       "3                       1                 4813                   1  \n",
       "4                       1                 1463                   1  "
      ]
     },
     "execution_count": 17,
     "metadata": {},
     "output_type": "execute_result"
    }
   ],
   "source": [
    "print(f\"Number of unique patients in: {patients['patientunitstayid'].nunique()}\")\n",
    "patients.head()"
   ]
  },
  {
   "cell_type": "code",
   "execution_count": null,
   "metadata": {},
   "outputs": [
    {
     "data": {
      "text/plain": [
       "(193153, 12)"
      ]
     },
     "execution_count": 18,
     "metadata": {},
     "output_type": "execute_result"
    }
   ],
   "source": [
    "patients.shape"
   ]
  },
  {
   "cell_type": "code",
   "execution_count": null,
   "metadata": {},
   "outputs": [
    {
     "data": {
      "text/plain": [
       "(133409, 12)"
      ]
     },
     "execution_count": 19,
     "metadata": {},
     "output_type": "execute_result"
    }
   ],
   "source": [
    "patients.groupby(['uniquepid']).head(1).shape"
   ]
  },
  {
   "cell_type": "code",
   "execution_count": null,
   "metadata": {},
   "outputs": [
    {
     "data": {
      "text/plain": [
       "5958"
      ]
     },
     "execution_count": 20,
     "metadata": {},
     "output_type": "execute_result"
    }
   ],
   "source": [
    "139367 - 133409"
   ]
  },
  {
   "cell_type": "markdown",
   "metadata": {},
   "source": [
    "# Nurse Charting"
   ]
  },
  {
   "cell_type": "code",
   "execution_count": null,
   "metadata": {},
   "outputs": [],
   "source": [
    "import pandas as pd\n",
    "import os\n",
    "\n",
    "chunk_size = 50000\n",
    "drop_cols = []  # Add any columns you want to drop\n",
    "output_file = os.path.join(data_processed_path, 'nc.csv')\n",
    "first = True\n",
    "\n",
    "for chunk in pd.read_csv(os.path.join(eicu_path, 'nurseCharting.csv'), chunksize=chunk_size, low_memory=False):\n",
    "    chunk = chunk.drop(columns=[col for col in drop_cols if col in chunk.columns], errors='ignore')\n",
    "    chunk = chunk[chunk['patientunitstayid'].notnull()]\n",
    "    chunk['patientunitstayid'] = chunk['patientunitstayid'].astype(int)\n",
    "    # Write chunk to CSV\n",
    "    chunk.to_csv(output_file, mode='a', header=first, index=False)\n",
    "    first = False"
   ]
  },
  {
   "cell_type": "code",
   "execution_count": null,
   "metadata": {},
   "outputs": [],
   "source": [
    "df = pd.read_csv(os.path.join(data_processed_path, 'nc.csv'))"
   ]
  },
  {
   "cell_type": "code",
   "execution_count": null,
   "metadata": {},
   "outputs": [
    {
     "name": "stdout",
     "output_type": "stream",
     "text": [
      "Shape of the DataFrame: (152104233, 8)\n"
     ]
    }
   ],
   "source": [
    "print(f\"Shape of the DataFrame: {df.shape}\")\n",
    "ds = df[df['nursingchartcelltypevalname']==\"Delirium Score\"].patientunitstayid.unique()\n",
    "cam = df[df['nursingchartvalue']==\"CAM-ICU\"].patientunitstayid.unique()\n",
    "cam_cohort = set(ds).intersection(set(cam))\n",
    "cam_cohort = np.array(list(cam_cohort.intersection(set(patient_cohort))))\n",
    "cam_cohort = np.array(cam_cohort)\n",
    "cam_cohort = cam_cohort.astype(int)\n"
   ]
  },
  {
   "cell_type": "code",
   "execution_count": null,
   "metadata": {},
   "outputs": [
    {
     "data": {
      "text/plain": [
       "(194144, 24628)"
      ]
     },
     "execution_count": 25,
     "metadata": {},
     "output_type": "execute_result"
    }
   ],
   "source": [
    "df.patientunitstayid.nunique(), cam_cohort.shape[0]"
   ]
  },
  {
   "cell_type": "code",
   "execution_count": null,
   "metadata": {},
   "outputs": [],
   "source": [
    "nc = df[df['patientunitstayid'].isin(cam_cohort)]"
   ]
  },
  {
   "cell_type": "code",
   "execution_count": null,
   "metadata": {},
   "outputs": [],
   "source": [
    "nc.to_csv(os.path.join(data_processed_path, 'nc.csv'),index=False)"
   ]
  },
  {
   "cell_type": "code",
   "execution_count": null,
   "metadata": {},
   "outputs": [],
   "source": [
    "def filter_nc_on_columns(nc):\n",
    "    columns =['patientunitstayid','nursingchartoffset','nursingchartcelltypevallabel',\n",
    "              'nursingchartcelltypevalname','nursingchartvalue']\n",
    "    return nc[columns]\n",
    "def rename_nc_columns(nc):\n",
    "    nc.rename(index=str, columns={\"nursingchartoffset\": \"itemoffset\",\n",
    "                                  \"nursingchartcelltypevalname\":\"itemname\",\n",
    "                                  \"nursingchartcelltypevallabel\" : \"itemlabel\",\n",
    "                                  \"nursingchartvalue\": \"itemvalue\"}, inplace=True)\n",
    "    return nc\n",
    "def item_name_selected_from_nc(nc,label,name):\n",
    "    nc = nc[(nc.itemname.isin(name)) & (nc.itemlabel.isin(label))]\n",
    "    return nc\n",
    "def unify_itemname_nc(nc):  #SYNC\n",
    "    nc.loc[nc['itemname']=='Value','itemname'] = nc.itemlabel\n",
    "    nc.loc[nc['itemname']=='Non-Invasive BP Systolic','itemname'] = 'BP Systolic'\n",
    "    nc.loc[nc['itemname']=='Non-Invasive BP Diastolic','itemname'] = 'BP Diastolic'\n",
    "    nc.loc[nc['itemname']=='Invasive BP Systolic','itemname'] = 'BP Systolic'\n",
    "    nc.loc[nc['itemname']=='Invasive BP Diastolic','itemname'] = 'BP Diastolic'\n",
    "    nc.loc[nc['itemlabel']=='Arterial Line MAP (mmHg)','itemname'] = 'MAP (mmHg)'\n",
    "    nc.loc[nc['itemlabel']=='Invasive BP Mean','itemname'] = 'MAP (mmHg)'\n",
    "    nc.loc[nc['itemlabel']=='Non-Invasive BP Mean','itemname'] = 'MAP (mmHg)'\n",
    "    nc.loc[nc['itemlabel']=='SpO2','itemname'] = 'O2 Saturation'\n",
    "    nc.loc[nc['itemlabel']=='Bedside Glucose','itemname'] = 'glucose'\n",
    "    return nc"
   ]
  },
  {
   "cell_type": "code",
   "execution_count": null,
   "metadata": {},
   "outputs": [],
   "source": [
    "def read_nc_table(data_processed_path):    #SYNC\n",
    "    nc = dataframe_from_csv(os.path.join(data_processed_path, 'nc.csv'),index_col=False)\n",
    "    nc = filter_nc_on_columns(nc)\n",
    "    nc = rename_nc_columns(nc)\n",
    "    vitals = [['O2 Saturation' ,'O2 Saturation'],\n",
    "        ['SpO2', 'Value'],\n",
    "        ['Heart Rate' ,'Heart Rate'],\n",
    "        ['Temperature' ,'Temperature (C)'],\n",
    "        ['Bedside Glucose' ,'Bedside Glucose'],\n",
    "        ['Delirium Scale/Score' ,'Delirium Score'],\n",
    "        ['Glasgow coma score' ,'Verbal'],\n",
    "        ['Glasgow coma score' ,'GCS Total'],\n",
    "        ['Glasgow coma score' ,'Eyes'],\n",
    "        ['Glasgow coma score' ,'Motor'],\n",
    "        ['Glasgow coma score' ,'Verbal'],\n",
    "        ['Non-Invasive BP' ,'Non-Invasive BP Systolic'],\n",
    "        ['Non-Invasive BP' ,'Non-Invasive BP Diastolic'],\n",
    "        ['Invasive BP' ,'Invasive BP Systolic'],\n",
    "        ['Invasive BP' ,'Invasive BP Diastolic'],\n",
    "        ['MAP (mmHg)' ,'Value'],\n",
    "        ['Sedation Scale/Score/Goal','Sedation Score'],\n",
    "        ['ICP', 'ICP'],\n",
    "        ['CI','CI'],\n",
    "        ['Respiratory Rate','Respiratory Rate']] \n",
    "\n",
    "    label , name = [],[]\n",
    "    for v in vitals:\n",
    "        label.append(v[0])\n",
    "        name.append(v[1])\n",
    "    nc = item_name_selected_from_nc(nc,label,name)\n",
    "    nc = unify_itemname_nc(nc)\n",
    "    del nc['itemlabel']\n",
    "    return nc\n"
   ]
  },
  {
   "cell_type": "code",
   "execution_count": null,
   "metadata": {},
   "outputs": [],
   "source": [
    "nc = read_nc_table(data_processed_path)"
   ]
  },
  {
   "cell_type": "code",
   "execution_count": null,
   "metadata": {},
   "outputs": [],
   "source": [
    "nc_items = nc.itemname.unique()"
   ]
  },
  {
   "cell_type": "code",
   "execution_count": null,
   "metadata": {},
   "outputs": [
    {
     "name": "stdout",
     "output_type": "stream",
     "text": [
      "Number of unique items in nurse charting: 16\n",
      "Items in nurse charting:\n",
      "Heart Rate\n",
      "BP Diastolic\n",
      "Respiratory Rate\n",
      "O2 Saturation\n",
      "BP Systolic\n",
      "Delirium Score\n",
      "Motor\n",
      "Verbal\n",
      "Eyes\n",
      "GCS Total\n",
      "Temperature (C)\n",
      "Sedation Score\n",
      "glucose\n",
      "ICP\n",
      "CI\n",
      "MAP (mmHg)\n"
     ]
    }
   ],
   "source": [
    "print(f\"Number of unique items in nurse charting: {len(nc_items)}\")\n",
    "#show items\n",
    "print(\"Items in nurse charting:\")\n",
    "for item in nc_items:   \n",
    "    print(item) "
   ]
  },
  {
   "cell_type": "code",
   "execution_count": null,
   "metadata": {},
   "outputs": [],
   "source": [
    "# break up stays by unit stay\n",
    "#purpose: to break up the nurse charting data by unit stay ID and save each unit stay's data into a separate folder\n",
    "#each folder will be named after the unit stay ID and will contain a CSV file with the nurse charting data for that unit stay\n",
    "def break_up_stays_by_unit_stay_nc(nursecharting, root_path, stayid=None, verbose=1):\n",
    "    unit_stays = nursecharting.patientunitstayid.unique() if stayid is None else stayid\n",
    "    nb_unit_stays = unit_stays.shape[0]\n",
    "    for i, stay_id in enumerate(unit_stays):\n",
    "        if verbose:\n",
    "            sys.stdout.write('\\rStayID {0} of {1}...'.format(i+1, nb_unit_stays))\n",
    "        dn = os.path.join(root_path, str(stay_id))\n",
    "        try:\n",
    "            os.makedirs(dn)\n",
    "        except:\n",
    "            pass\n",
    "        nursecharting.loc[nursecharting.patientunitstayid == stay_id].sort_values(by='itemoffset').to_csv(os.path.join(dn, 'nc.csv'), index=False)\n",
    "    if verbose:\n",
    "        sys.stdout.write('DONE!\\n')"
   ]
  },
  {
   "cell_type": "code",
   "execution_count": null,
   "metadata": {},
   "outputs": [
    {
     "data": {
      "text/plain": [
       "24628"
      ]
     },
     "execution_count": 81,
     "metadata": {},
     "output_type": "execute_result"
    }
   ],
   "source": [
    "len(cam_cohort)"
   ]
  },
  {
   "cell_type": "code",
   "execution_count": null,
   "metadata": {},
   "outputs": [
    {
     "name": "stdout",
     "output_type": "stream",
     "text": [
      "StayID 24628 of 24628...DONE!\n"
     ]
    }
   ],
   "source": [
    "break_up_stays_by_unit_stay_nc(nc,data_processed_path,stayid=cam_cohort, verbose=1)"
   ]
  },
  {
   "cell_type": "markdown",
   "metadata": {},
   "source": [
    "# Patients "
   ]
  },
  {
   "cell_type": "code",
   "execution_count": null,
   "metadata": {},
   "outputs": [],
   "source": [
    "def break_up_stays_by_unit_stay(pats, root_path, stayid=None, verbose=1):\n",
    "    unit_stays = pats.patientunitstayid.unique() if stayid is None else stayid\n",
    "    nb_unit_stays = unit_stays.shape[0]\n",
    "    for i, stay_id in enumerate(unit_stays):\n",
    "        if verbose:\n",
    "            sys.stdout.write('\\rStayID {0} of {1}...'.format(i+1, nb_unit_stays))\n",
    "        dn = os.path.join(root_path, str(stay_id))\n",
    "        try:\n",
    "            os.makedirs(dn)\n",
    "        except:\n",
    "            pass\n",
    "        pat = pats.loc[pats[\"patientunitstayid\"] == stay_id]\n",
    "        pat.to_csv(os.path.join(dn, 'pat.csv'), index=False)\n",
    "    if verbose:\n",
    "        sys.stdout.write('DONE!\\n')"
   ]
  },
  {
   "cell_type": "code",
   "execution_count": null,
   "metadata": {},
   "outputs": [
    {
     "data": {
      "text/plain": [
       "(193153, 12)"
      ]
     },
     "execution_count": 85,
     "metadata": {},
     "output_type": "execute_result"
    }
   ],
   "source": [
    "patients.shape"
   ]
  },
  {
   "cell_type": "code",
   "execution_count": null,
   "metadata": {},
   "outputs": [
    {
     "name": "stdout",
     "output_type": "stream",
     "text": [
      "StayID 24628 of 24628...DONE!\n"
     ]
    }
   ],
   "source": [
    "break_up_stays_by_unit_stay(patients, data_processed_path,stayid=cam_cohort, verbose=1)"
   ]
  },
  {
   "cell_type": "markdown",
   "metadata": {},
   "source": [
    "# similiar Lab items, NC items and InfDrg items need to be unified "
   ]
  },
  {
   "cell_type": "markdown",
   "metadata": {},
   "source": [
    "### Lab Functions\n"
   ]
  },
  {
   "cell_type": "code",
   "execution_count": null,
   "metadata": {},
   "outputs": [],
   "source": [
    "lab = dataframe_from_csv(os.path.join(eicu_path, 'lab.csv'),index_col=False)"
   ]
  },
  {
   "cell_type": "code",
   "execution_count": null,
   "metadata": {},
   "outputs": [
    {
     "name": "stdout",
     "output_type": "stream",
     "text": [
      "Shape of the lab DataFrame: (39132531, 10)\n"
     ]
    }
   ],
   "source": [
    "lab.head()\n",
    "#shape\n",
    "print(f\"Shape of the lab DataFrame: {lab.shape}\")"
   ]
  },
  {
   "cell_type": "code",
   "execution_count": 3,
   "metadata": {},
   "outputs": [],
   "source": [
    "def filter_lab_on_columns(lab):\n",
    "    columns = ['patientunitstayid','labresultoffset', 'labname', 'labresult']\n",
    "    return lab[columns]\n",
    "\n",
    "def rename_lab_columns(lab):\n",
    "    lab.rename(index=str, columns={\"labresultoffset\": \"itemoffset\",\n",
    "                                   \"labname\": \"itemname\", \"labresult\": \"itemvalue\"}, inplace=True)\n",
    "    return lab\n",
    "\n",
    "def item_name_selected_from_lab(lab,items):\n",
    "    lab= lab[lab['itemname'].isin(items)]\n",
    "    return lab\n",
    "\n",
    "def check(x):\n",
    "    try:\n",
    "        x = float(str(x).strip())\n",
    "    except:\n",
    "        x = np.nan\n",
    "    return x\n",
    "\n",
    "def check_itemvalue(df):\n",
    "    df['itemvalue'] = df['itemvalue'].apply(lambda x: check(x))\n",
    "    df['itemvalue'] = df['itemvalue'].astype(float)\n",
    "    return df\n",
    "\n",
    "def read_lab_table(eicu_path):\n",
    "    lab = dataframe_from_csv(os.path.join(eicu_path, 'lab.csv'),index_col=False)\n",
    "    \n",
    "    items = ['O2 Sat (%)','WBC x 1000','sodium','BUN',\n",
    "             'bedside glucose','glucose', \n",
    "             'direct bilirubin',\n",
    "             'Hgb','platelets x 1000','potassium','chloride','bicarbonate',\n",
    "             'creatinine','ALT (SGPT)','AST (SGOT)','alkaline phos.',\n",
    "             'lactate','pH','ammonia','cortisol','TSH','serum osmolality']\n",
    "\n",
    "    lab = filter_lab_on_columns(lab)  \n",
    "    lab = rename_lab_columns(lab)\n",
    "    lab = item_name_selected_from_lab(lab,items) \n",
    "    lab.loc[lab['itemname'] == 'bedside glucose', 'itemname'] = 'glucose'  \n",
    "    lab.loc[lab['itemname'] == 'O2 Sat (%)', 'itemname'] = 'O2 Saturation'\n",
    "    lab = check_itemvalue(lab)\n",
    "    return lab"
   ]
  },
  {
   "cell_type": "code",
   "execution_count": null,
   "metadata": {},
   "outputs": [],
   "source": [
    "lab = read_lab_table(eicu_path) "
   ]
  },
  {
   "cell_type": "code",
   "execution_count": null,
   "metadata": {},
   "outputs": [],
   "source": [
    "def break_up_lab_by_unit_stay(lab, root_path, stayid=None, verbose=1):\n",
    "    unit_stays = lab.patientunitstayid.unique() if stayid is None else stayid\n",
    "    nb_unit_stays = unit_stays.shape[0]\n",
    "    for i, stay_id in enumerate(unit_stays):\n",
    "        if verbose:\n",
    "            sys.stdout.write('\\rStayID {0} of {1}...'.format(i+1, nb_unit_stays))\n",
    "        dn = os.path.join(root_path, str(stay_id))\n",
    "        try:\n",
    "            os.makedirs(dn)\n",
    "        except:\n",
    "            pass\n",
    "        lab.loc[lab.patientunitstayid == stay_id].sort_values(by='itemoffset').to_csv(os.path.join(dn, 'lab.csv'), index=False)\n",
    "    if verbose:\n",
    "        sys.stdout.write('DONE!\\n')"
   ]
  },
  {
   "cell_type": "code",
   "execution_count": null,
   "metadata": {},
   "outputs": [
    {
     "data": {
      "text/plain": [
       "(18446928, 4)"
      ]
     },
     "execution_count": 14,
     "metadata": {},
     "output_type": "execute_result"
    }
   ],
   "source": [
    "lab.shape"
   ]
  },
  {
   "cell_type": "code",
   "execution_count": null,
   "metadata": {},
   "outputs": [],
   "source": [
    "lab_items = lab.itemname.unique()"
   ]
  },
  {
   "cell_type": "code",
   "execution_count": null,
   "metadata": {},
   "outputs": [
    {
     "name": "stdout",
     "output_type": "stream",
     "text": [
      "StayID 24628 of 24628...DONE!\n"
     ]
    }
   ],
   "source": [
    "break_up_lab_by_unit_stay(lab,data_processed_path,stayid = cam_cohort, verbose = 1)"
   ]
  },
  {
   "cell_type": "markdown",
   "metadata": {},
   "source": [
    "## chekpoint"
   ]
  },
  {
   "cell_type": "code",
   "execution_count": null,
   "metadata": {},
   "outputs": [],
   "source": [
    "#save lab_items\n",
    "with open(os.path.join(data_processed_path, 'lab_items.txt'), 'w') as f:\n",
    "    for item in lab_items:\n",
    "        f.write(f\"{item}\\n\")\n",
    "#save nc_items\n",
    "with open(os.path.join(data_processed_path, 'nc_items.txt'), 'w') as f:\n",
    "    for item in nc_items:\n",
    "        f.write(f\"{item}\\n\")"
   ]
  },
  {
   "cell_type": "markdown",
   "metadata": {},
   "source": [
    "### Read each patient nc, lab and demographics and put all in one csv file named as time_series{ID}.csv"
   ]
  },
  {
   "cell_type": "code",
   "execution_count": null,
   "metadata": {},
   "outputs": [],
   "source": [
    "def convert_events_to_timeseries(events, variable_column='itemname', variables=[]):\n",
    "    metadata = events[['itemoffset', 'patientunitstayid']].sort_values(by=['itemoffset', 'patientunitstayid'])\\\n",
    "                    .drop_duplicates(keep='first').set_index('itemoffset')\n",
    "    timeseries = events[['itemoffset', variable_column, 'itemvalue']]\\\n",
    "                    .sort_values(by=['itemoffset', variable_column, 'itemvalue'], axis=0)\\\n",
    "                    .drop_duplicates(subset=['itemoffset', variable_column], keep='last')\n",
    "    timeseries = timeseries.pivot(index='itemoffset', columns=variable_column, values='itemvalue').merge(metadata, left_index=True, right_index=True)\\\n",
    "                    .sort_index(axis=0).reset_index()\n",
    "    for v in variables:\n",
    "        if v not in timeseries:\n",
    "            timeseries[v] = np.nan\n",
    "    return timeseries"
   ]
  },
  {
   "cell_type": "code",
   "execution_count": null,
   "metadata": {},
   "outputs": [
    {
     "data": {
      "text/plain": [
       "array(['pH', 'BUN', 'lactate', 'chloride', 'platelets x 1000',\n",
       "       'alkaline phos.', 'WBC x 1000', 'creatinine', 'Hgb', 'bicarbonate',\n",
       "       'potassium', 'ALT (SGPT)', 'AST (SGOT)', 'glucose', 'sodium',\n",
       "       'direct bilirubin', 'ammonia', 'TSH', 'O2 Saturation',\n",
       "       'serum osmolality', 'cortisol'], dtype=object)"
      ]
     },
     "execution_count": 23,
     "metadata": {},
     "output_type": "execute_result"
    }
   ],
   "source": [
    "lab_items"
   ]
  },
  {
   "cell_type": "code",
   "execution_count": null,
   "metadata": {},
   "outputs": [
    {
     "data": {
      "text/plain": [
       "array(['Heart Rate', 'BP Diastolic', 'Respiratory Rate', 'O2 Saturation',\n",
       "       'BP Systolic', 'Delirium Score', 'Motor', 'Verbal', 'Eyes',\n",
       "       'GCS Total', 'Temperature (C)', 'Sedation Score', 'glucose', 'ICP',\n",
       "       'CI', 'MAP (mmHg)'], dtype=object)"
      ]
     },
     "execution_count": 24,
     "metadata": {},
     "output_type": "execute_result"
    }
   ],
   "source": [
    "nc_items"
   ]
  },
  {
   "cell_type": "code",
   "execution_count": null,
   "metadata": {},
   "outputs": [
    {
     "data": {
      "text/plain": [
       "(21, 16)"
      ]
     },
     "execution_count": 26,
     "metadata": {},
     "output_type": "execute_result"
    }
   ],
   "source": [
    "len(lab_items), len(nc_items)"
   ]
  },
  {
   "cell_type": "code",
   "execution_count": null,
   "metadata": {},
   "outputs": [],
   "source": [
    "var_to_consider = list(lab_items) + list(nc_items)"
   ]
  },
  {
   "cell_type": "code",
   "execution_count": null,
   "metadata": {},
   "outputs": [
    {
     "data": {
      "text/plain": [
       "37"
      ]
     },
     "execution_count": 28,
     "metadata": {},
     "output_type": "execute_result"
    }
   ],
   "source": [
    "len(var_to_consider)"
   ]
  },
  {
   "cell_type": "code",
   "execution_count": null,
   "metadata": {},
   "outputs": [
    {
     "data": {
      "text/plain": [
       "['pH',\n",
       " 'BUN',\n",
       " 'lactate',\n",
       " 'chloride',\n",
       " 'platelets x 1000',\n",
       " 'alkaline phos.',\n",
       " 'WBC x 1000',\n",
       " 'creatinine',\n",
       " 'Hgb',\n",
       " 'bicarbonate',\n",
       " 'potassium',\n",
       " 'ALT (SGPT)',\n",
       " 'AST (SGOT)',\n",
       " 'glucose',\n",
       " 'sodium',\n",
       " 'direct bilirubin',\n",
       " 'ammonia',\n",
       " 'TSH',\n",
       " 'O2 Saturation',\n",
       " 'serum osmolality',\n",
       " 'cortisol',\n",
       " 'Heart Rate',\n",
       " 'BP Diastolic',\n",
       " 'Respiratory Rate',\n",
       " 'O2 Saturation',\n",
       " 'BP Systolic',\n",
       " 'Delirium Score',\n",
       " 'Motor',\n",
       " 'Verbal',\n",
       " 'Eyes',\n",
       " 'GCS Total',\n",
       " 'Temperature (C)',\n",
       " 'Sedation Score',\n",
       " 'glucose',\n",
       " 'ICP',\n",
       " 'CI',\n",
       " 'MAP (mmHg)']"
      ]
     },
     "execution_count": 29,
     "metadata": {},
     "output_type": "execute_result"
    }
   ],
   "source": [
    "var_to_consider"
   ]
  },
  {
   "cell_type": "markdown",
   "metadata": {},
   "source": [
    "# Binning"
   ]
  },
  {
   "cell_type": "code",
   "execution_count": null,
   "metadata": {},
   "outputs": [],
   "source": [
    "def binning(df, x=60):\n",
    "    df['itemoffset'] = (df['itemoffset']/x).astype(int)\n",
    "    # Only fill numeric columns with their mean\n",
    "    numeric_cols = df.select_dtypes(include=[np.number]).columns\n",
    "    df[numeric_cols] = df.groupby('itemoffset')[numeric_cols].transform(lambda x: x.fillna(x.mean()))\n",
    "    df.drop_duplicates(subset=['itemoffset'], keep='last', inplace=True)\n",
    "    return df"
   ]
  },
  {
   "cell_type": "markdown",
   "metadata": {},
   "source": [
    "# Extract Time series"
   ]
  },
  {
   "cell_type": "code",
   "execution_count": null,
   "metadata": {},
   "outputs": [],
   "source": [
    "import re\n",
    "import random\n",
    "from tqdm import tqdm  # Use tqdm for progress bar in Jupyter\n",
    "tqdm.pandas()\n",
    "\n",
    "def normalize_exception_msg(msg):\n",
    "    msg = re.sub(r\"\\d+\", \"[number]\", msg)\n",
    "    msg = re.sub(r\"\\[[^\\]]+\\]\", \"[id]\", msg)\n",
    "    msg = re.sub(r\"'[^']+'\", \"'[value]'\", msg)\n",
    "    return msg\n",
    "\n",
    "def extract_time_series_from_subject_sampled(t_path, sample_size=None):\n",
    "    stay_dirs = [d for d in os.listdir(t_path) if os.path.isdir(os.path.join(t_path, d))]\n",
    "    if sample_size is not None:\n",
    "        sampled_stays = random.sample(stay_dirs, min(sample_size, len(stay_dirs)))\n",
    "    else:\n",
    "        sampled_stays = stay_dirs\n",
    "    exception_counts = {}\n",
    "    for stay_dir in tqdm(sampled_stays, desc=\"Processing stays\", ascii=\" ▖▘▝▗▚▞█\" ):\n",
    "        dn = os.path.join(t_path, stay_dir)\n",
    "        try:\n",
    "            stay_id = int(stay_dir)\n",
    "        except Exception as e:\n",
    "            msg = f\"ID parse: {type(e).__name__}: {e}\"\n",
    "            norm_msg = normalize_exception_msg(msg)\n",
    "            exception_counts[norm_msg] = exception_counts.get(norm_msg, 0) + 1\n",
    "            continue\n",
    "        try:\n",
    "            pat_path = os.path.join(t_path, stay_dir, 'pat.csv')\n",
    "            lab_path = os.path.join(t_path, stay_dir, 'lab.csv')\n",
    "            nc_path = os.path.join(t_path, stay_dir, 'nc.csv')\n",
    "            pat = dataframe_from_csv(pat_path)\n",
    "            lab = dataframe_from_csv(lab_path)\n",
    "            nc = dataframe_from_csv(nc_path)\n",
    "            dfs_to_concat = [df for df in [nc, lab] if not df.empty]\n",
    "            if len(dfs_to_concat) == 0:\n",
    "                continue\n",
    "            nclab = pd.concat(dfs_to_concat).sort_values(by=['itemoffset'])\n",
    "            timeepisode = convert_events_to_timeseries(nclab, variables=var_to_consider)\n",
    "            nclabpat = pd.merge(timeepisode, pat, on='patientunitstayid')\n",
    "            df = binning(nclabpat, 60)\n",
    "            df.to_csv(os.path.join(t_path, stay_dir, 'timeseries.csv'), index=False)\n",
    "        except Exception as e:\n",
    "            print(f\"Error in stay {stay_id}: {e}\")\n",
    "            msg = f\"Process: {type(e).__name__}: {e}\"\n",
    "            norm_msg = normalize_exception_msg(msg)\n",
    "            exception_counts[norm_msg] = exception_counts.get(norm_msg, 0) + 1\n",
    "            continue\n",
    "    print(\"Sampled Exception summary:\")\n",
    "    for msg, count in exception_counts.items():\n",
    "        print(f\"{msg} - {count} times\")"
   ]
  },
  {
   "cell_type": "code",
   "execution_count": null,
   "metadata": {},
   "outputs": [
    {
     "name": "stderr",
     "output_type": "stream",
     "text": [
      "Processing stays:  98%|█████████▚| 24098/24628 [2:30:34<01:55,  4.60it/s]   "
     ]
    },
    {
     "name": "stdout",
     "output_type": "stream",
     "text": [
      "Error in stay 977225: [Errno 13] Permission denied: 'C:\\\\Users\\\\URHU\\\\Documents\\\\data_temp\\\\eICU\\\\977225\\\\timeseries.csv'\n"
     ]
    },
    {
     "name": "stderr",
     "output_type": "stream",
     "text": [
      "Processing stays: 100%|██████████| 24628/24628 [2:34:06<00:00,  2.66it/s]"
     ]
    },
    {
     "name": "stdout",
     "output_type": "stream",
     "text": [
      "Sampled Exception summary:\n",
      "Process: PermissionError: [id]] Permission denied: '[value]' - 1 times\n"
     ]
    },
    {
     "name": "stderr",
     "output_type": "stream",
     "text": [
      "\n"
     ]
    }
   ],
   "source": [
    "extract_time_series_from_subject_sampled(data_processed_path)"
   ]
  },
  {
   "cell_type": "markdown",
   "metadata": {},
   "source": [
    "### Delete folders without timeseries file"
   ]
  },
  {
   "cell_type": "code",
   "execution_count": null,
   "metadata": {},
   "outputs": [],
   "source": [
    "import shutil\n",
    "def delete_wo_timeseries(t_path):\n",
    "    for stay_dir in os.listdir(t_path):\n",
    "        dn = os.path.join(t_path, stay_dir)\n",
    "        try:\n",
    "            stay_id = int(stay_dir)\n",
    "            if not os.path.isdir(dn):\n",
    "                raise Exception\n",
    "        except:\n",
    "            continue\n",
    "        try:\n",
    "            sys.stdout.flush()\n",
    "            if not os.path.isfile(os.path.join(dn,'timeseries.csv')):\n",
    "                shutil.rmtree(dn)   \n",
    "        except :\n",
    "            continue\n",
    "    print('DONE')\n"
   ]
  },
  {
   "cell_type": "code",
   "execution_count": null,
   "metadata": {},
   "outputs": [
    {
     "name": "stdout",
     "output_type": "stream",
     "text": [
      "Number of directories without timeseries.csv: 0\n"
     ]
    }
   ],
   "source": [
    "#before deleting show the number of directories without timeseries.csv\n",
    "def count_directories_without_timeseries(t_path):\n",
    "    count = 0\n",
    "    for stay_dir in os.listdir(t_path):\n",
    "        dn = os.path.join(t_path, stay_dir)\n",
    "        if not os.path.isdir(dn):\n",
    "            continue\n",
    "        if not os.path.isfile(os.path.join(dn, 'timeseries.csv')):\n",
    "            count += 1\n",
    "    return count\n",
    "print(f\"Number of directories without timeseries.csv: {count_directories_without_timeseries(data_processed_path)}\")"
   ]
  },
  {
   "cell_type": "code",
   "execution_count": null,
   "metadata": {},
   "outputs": [
    {
     "name": "stdout",
     "output_type": "stream",
     "text": [
      "DONE\n"
     ]
    }
   ],
   "source": [
    "delete_wo_timeseries(data_processed_path)"
   ]
  },
  {
   "cell_type": "markdown",
   "metadata": {},
   "source": [
    "### All the data in one dataframe "
   ]
  },
  {
   "cell_type": "code",
   "execution_count": null,
   "metadata": {},
   "outputs": [],
   "source": [
    "import pandas as pd\n",
    "import os\n",
    "import sys\n",
    "\n",
    "unit_stays  = pd.Series(os.listdir(data_processed_path))\n",
    "unit_stays = list((filter(str.isdigit, unit_stays)))\n",
    "\n",
    "all_filenames = []\n",
    "for stay_id in(unit_stays):\n",
    "    df_file = os.path.join(data_processed_path, str(stay_id),'timeseries.csv')\n",
    "    all_filenames.append(df_file)"
   ]
  },
  {
   "cell_type": "code",
   "execution_count": null,
   "metadata": {},
   "outputs": [],
   "source": [
    "combined_csv = pd.concat([pd.read_csv(f) for f in all_filenames])\n",
    "combined_csv.to_csv(os.path.join(data_processed_path, 'all_data_delirium_eicu.csv'), index=False)"
   ]
  },
  {
   "cell_type": "markdown",
   "metadata": {},
   "source": [
    "# Preprocessing"
   ]
  },
  {
   "cell_type": "markdown",
   "metadata": {},
   "source": [
    "## Checkpoint 2\n"
   ]
  },
  {
   "cell_type": "markdown",
   "metadata": {},
   "source": [
    "## Delirium score preprocessing"
   ]
  },
  {
   "cell_type": "code",
   "execution_count": 50,
   "metadata": {},
   "outputs": [],
   "source": [
    "patients = read_patients_table(eicu_path,data_processed_path)"
   ]
  },
  {
   "cell_type": "code",
   "execution_count": 51,
   "metadata": {},
   "outputs": [
    {
     "data": {
      "text/plain": [
       "Index(['patientunitstayid', 'gender', 'age', 'ethnicity', 'apacheadmissiondx',\n",
       "       'uniquepid', 'admissionheight', 'hospitaladmitoffset',\n",
       "       'admissionweight', 'hospitaldischargestatus', 'unitdischargeoffset',\n",
       "       'unitdischargestatus'],\n",
       "      dtype='object')"
      ]
     },
     "execution_count": 51,
     "metadata": {},
     "output_type": "execute_result"
    }
   ],
   "source": [
    "patients.columns"
   ]
  },
  {
   "cell_type": "code",
   "execution_count": 52,
   "metadata": {},
   "outputs": [
    {
     "data": {
      "text/html": [
       "<div>\n",
       "<style scoped>\n",
       "    .dataframe tbody tr th:only-of-type {\n",
       "        vertical-align: middle;\n",
       "    }\n",
       "\n",
       "    .dataframe tbody tr th {\n",
       "        vertical-align: top;\n",
       "    }\n",
       "\n",
       "    .dataframe thead th {\n",
       "        text-align: right;\n",
       "    }\n",
       "</style>\n",
       "<table border=\"1\" class=\"dataframe\">\n",
       "  <thead>\n",
       "    <tr style=\"text-align: right;\">\n",
       "      <th></th>\n",
       "      <th>patientunitstayid</th>\n",
       "      <th>uniquepid</th>\n",
       "    </tr>\n",
       "  </thead>\n",
       "  <tbody>\n",
       "    <tr>\n",
       "      <th>0</th>\n",
       "      <td>141168</td>\n",
       "      <td>002-34851</td>\n",
       "    </tr>\n",
       "  </tbody>\n",
       "</table>\n",
       "</div>"
      ],
      "text/plain": [
       "   patientunitstayid  uniquepid\n",
       "0             141168  002-34851"
      ]
     },
     "execution_count": 52,
     "metadata": {},
     "output_type": "execute_result"
    }
   ],
   "source": [
    "patients_ = patients[['patientunitstayid','uniquepid']]\n",
    "patients_.head(1)"
   ]
  },
  {
   "cell_type": "code",
   "execution_count": 53,
   "metadata": {},
   "outputs": [
    {
     "name": "stderr",
     "output_type": "stream",
     "text": [
      "C:\\Users\\URHU\\AppData\\Local\\Temp\\ipykernel_33684\\828734127.py:1: DtypeWarning: Columns (6) have mixed types. Specify dtype option on import or set low_memory=False.\n",
      "  all_data_deli = pd.read_csv(os.path.join(data_processed_path, 'all_data_delirium_eicu.csv'))\n"
     ]
    },
    {
     "name": "stdout",
     "output_type": "stream",
     "text": [
      "shape of all_data_deli: (2382234, 48)\n"
     ]
    }
   ],
   "source": [
    "all_data_deli = pd.read_csv(os.path.join(data_processed_path, 'all_data_delirium_eicu.csv'))\n",
    "all_data_deli.head(1)\n",
    "print(\"shape of all_data_deli:\", all_data_deli.shape)"
   ]
  },
  {
   "cell_type": "code",
   "execution_count": 54,
   "metadata": {},
   "outputs": [
    {
     "data": {
      "text/html": [
       "<div>\n",
       "<style scoped>\n",
       "    .dataframe tbody tr th:only-of-type {\n",
       "        vertical-align: middle;\n",
       "    }\n",
       "\n",
       "    .dataframe tbody tr th {\n",
       "        vertical-align: top;\n",
       "    }\n",
       "\n",
       "    .dataframe thead th {\n",
       "        text-align: right;\n",
       "    }\n",
       "</style>\n",
       "<table border=\"1\" class=\"dataframe\">\n",
       "  <thead>\n",
       "    <tr style=\"text-align: right;\">\n",
       "      <th></th>\n",
       "      <th>itemoffset</th>\n",
       "      <th>BP Diastolic</th>\n",
       "      <th>BP Systolic</th>\n",
       "      <th>BUN</th>\n",
       "      <th>Delirium Score</th>\n",
       "      <th>Eyes</th>\n",
       "      <th>GCS Total</th>\n",
       "      <th>Heart Rate</th>\n",
       "      <th>Hgb</th>\n",
       "      <th>Motor</th>\n",
       "      <th>...</th>\n",
       "      <th>ethnicity</th>\n",
       "      <th>apacheadmissiondx</th>\n",
       "      <th>uniquepid_x</th>\n",
       "      <th>admissionheight</th>\n",
       "      <th>hospitaladmitoffset</th>\n",
       "      <th>admissionweight</th>\n",
       "      <th>hospitaldischargestatus</th>\n",
       "      <th>unitdischargeoffset</th>\n",
       "      <th>unitdischargestatus</th>\n",
       "      <th>uniquepid_y</th>\n",
       "    </tr>\n",
       "  </thead>\n",
       "  <tbody>\n",
       "    <tr>\n",
       "      <th>0</th>\n",
       "      <td>0</td>\n",
       "      <td>64.0</td>\n",
       "      <td>143.0</td>\n",
       "      <td>NaN</td>\n",
       "      <td>NaN</td>\n",
       "      <td>4.0</td>\n",
       "      <td>15.0</td>\n",
       "      <td>84.0</td>\n",
       "      <td>NaN</td>\n",
       "      <td>6.0</td>\n",
       "      <td>...</td>\n",
       "      <td>3</td>\n",
       "      <td>8.0</td>\n",
       "      <td>008-12458</td>\n",
       "      <td>160.0</td>\n",
       "      <td>-166</td>\n",
       "      <td>56.8</td>\n",
       "      <td>1</td>\n",
       "      <td>1807</td>\n",
       "      <td>1</td>\n",
       "      <td>008-12458</td>\n",
       "    </tr>\n",
       "  </tbody>\n",
       "</table>\n",
       "<p>1 rows × 49 columns</p>\n",
       "</div>"
      ],
      "text/plain": [
       "   itemoffset  BP Diastolic  BP Systolic  BUN Delirium Score  Eyes GCS Total  \\\n",
       "0           0          64.0        143.0  NaN            NaN   4.0      15.0   \n",
       "\n",
       "   Heart Rate  Hgb  Motor  ...  ethnicity  apacheadmissiondx  uniquepid_x  \\\n",
       "0        84.0  NaN    6.0  ...          3                8.0    008-12458   \n",
       "\n",
       "   admissionheight  hospitaladmitoffset  admissionweight  \\\n",
       "0            160.0                 -166             56.8   \n",
       "\n",
       "   hospitaldischargestatus  unitdischargeoffset  unitdischargestatus  \\\n",
       "0                        1                 1807                    1   \n",
       "\n",
       "   uniquepid_y  \n",
       "0    008-12458  \n",
       "\n",
       "[1 rows x 49 columns]"
      ]
     },
     "execution_count": 54,
     "metadata": {},
     "output_type": "execute_result"
    }
   ],
   "source": [
    "all_data_deli = pd.merge(all_data_deli, patients_, how='left', left_on=['patientunitstayid'],right_on=['patientunitstayid'])\n",
    "all_data_deli.head(1)"
   ]
  },
  {
   "cell_type": "code",
   "execution_count": 55,
   "metadata": {},
   "outputs": [
    {
     "data": {
      "text/plain": [
       "array([nan, 'No', '0', 'Yes', 'NO', 'YES', '2', '8', '7'], dtype=object)"
      ]
     },
     "execution_count": 55,
     "metadata": {},
     "output_type": "execute_result"
    }
   ],
   "source": [
    "all_data_deli[\"Delirium Score\"].unique()"
   ]
  },
  {
   "cell_type": "code",
   "execution_count": 56,
   "metadata": {},
   "outputs": [
    {
     "name": "stdout",
     "output_type": "stream",
     "text": [
      "Percentage of 'yes' in Delirium Score: 12.24%\n"
     ]
    },
    {
     "data": {
      "text/plain": [
       "Delirium Score\n",
       "no     139606\n",
       "yes     19462\n",
       "Name: count, dtype: int64"
      ]
     },
     "execution_count": 56,
     "metadata": {},
     "output_type": "execute_result"
    }
   ],
   "source": [
    "all_data_deli[\"Delirium Score\"] = all_data_deli[\"Delirium Score\"].str.lower()\n",
    "df = all_data_deli[\n",
    "    (all_data_deli[\"Delirium Score\"]=='yes') |\n",
    "    (all_data_deli[\"Delirium Score\"]=='no') |\n",
    "    (all_data_deli[\"Delirium Score\"].isna())\n",
    "]\n",
    "\n",
    "# percentage of yes compare to total\n",
    "print(f\"Percentage of 'yes' in Delirium Score: {df['Delirium Score'].value_counts(normalize=True).get('yes', 0) * 100:.2f}%\")\n",
    "df[\"Delirium Score\"].value_counts()"
   ]
  },
  {
   "cell_type": "code",
   "execution_count": 57,
   "metadata": {},
   "outputs": [],
   "source": [
    "df = df.rename(columns={\n",
    "    \"Hgb\": \"Hemoglobin\",\n",
    "    \"platelets x 1000\": \"Platelets\",\n",
    "    \"potassium\": \"Potassium\",\n",
    "    \"chloride\": \"Chloride\",\n",
    "    \"bicarbonate\": \"Bicarbonate\",\n",
    "    \"creatinine\": \"Creatinine\",\n",
    "    \"ALT (SGPT)\": \"ALT\",\n",
    "    \"AST (SGOT)\": \"AST\",\n",
    "    \"alkaline phos.\": \"Alkaline Phosphate\",\n",
    "    \"Delirium Score\": \"CAM\",\n",
    "    \"uniquepid_y\": \"uniquepid\"\n",
    "})"
   ]
  },
  {
   "cell_type": "code",
   "execution_count": 58,
   "metadata": {},
   "outputs": [
    {
     "name": "stdout",
     "output_type": "stream",
     "text": [
      "number of columns in df: 49\n",
      "check if df has a index column: None\n",
      "unique patientunitstayid: 24628\n",
      "uniquepid: 19727\n"
     ]
    }
   ],
   "source": [
    "print(\"number of columns in df:\", len(df.columns))\n",
    "print(\"check if df has a index column:\", df.index.name)\n",
    "print(\"unique patientunitstayid:\", df['patientunitstayid'].nunique())\n",
    "print(\"uniquepid:\", df['uniquepid'].nunique())"
   ]
  },
  {
   "cell_type": "code",
   "execution_count": 59,
   "metadata": {},
   "outputs": [
    {
     "data": {
      "text/plain": [
       "Index(['itemoffset', 'BP Diastolic', 'BP Systolic', 'BUN', 'CAM', 'Eyes',\n",
       "       'GCS Total', 'Heart Rate', 'Hemoglobin', 'Motor', 'O2 Saturation',\n",
       "       'Respiratory Rate', 'Sedation Score', 'Temperature (C)', 'Verbal',\n",
       "       'WBC x 1000', 'Bicarbonate', 'Chloride', 'Creatinine', 'glucose',\n",
       "       'Platelets', 'Potassium', 'sodium', 'patientunitstayid', 'pH',\n",
       "       'lactate', 'Alkaline Phosphate', 'ALT', 'AST', 'direct bilirubin',\n",
       "       'ammonia', 'TSH', 'serum osmolality', 'cortisol', 'ICP', 'CI',\n",
       "       'MAP (mmHg)', 'gender', 'age', 'ethnicity', 'apacheadmissiondx',\n",
       "       'uniquepid_x', 'admissionheight', 'hospitaladmitoffset',\n",
       "       'admissionweight', 'hospitaldischargestatus', 'unitdischargeoffset',\n",
       "       'unitdischargestatus', 'uniquepid'],\n",
       "      dtype='object')"
      ]
     },
     "execution_count": 59,
     "metadata": {},
     "output_type": "execute_result"
    }
   ],
   "source": [
    "d_map = {'no': 0, 'yes': 1, '': 2}\n",
    "\n",
    "def transform_deli(deli_series):\n",
    "    global d_map\n",
    "    return {'CAM': deli_series.fillna('').apply(lambda s: d_map[s] if s in d_map else d_map[''])}\n",
    "\n",
    "df.update(transform_deli(df['CAM']))\n",
    "df.loc[:, \"CAM\"] = df[\"CAM\"].astype(int)\n",
    "\n",
    "df.columns"
   ]
  },
  {
   "cell_type": "code",
   "execution_count": 60,
   "metadata": {},
   "outputs": [
    {
     "ename": "KeyError",
     "evalue": "\"['labelrec'] not in index\"",
     "output_type": "error",
     "traceback": [
      "\u001b[31m---------------------------------------------------------------------------\u001b[39m",
      "\u001b[31mKeyError\u001b[39m                                  Traceback (most recent call last)",
      "\u001b[36mCell\u001b[39m\u001b[36m \u001b[39m\u001b[32mIn[60]\u001b[39m\u001b[32m, line 11\u001b[39m\n\u001b[32m      1\u001b[39m column_order = [\n\u001b[32m      2\u001b[39m    \u001b[33m'\u001b[39m\u001b[33mpatientunitstayid\u001b[39m\u001b[33m'\u001b[39m,\u001b[33m'\u001b[39m\u001b[33muniquepid\u001b[39m\u001b[33m'\u001b[39m, \u001b[33m'\u001b[39m\u001b[33mitemoffset\u001b[39m\u001b[33m'\u001b[39m, \u001b[33m'\u001b[39m\u001b[33mgender\u001b[39m\u001b[33m'\u001b[39m, \u001b[33m'\u001b[39m\u001b[33mage\u001b[39m\u001b[33m'\u001b[39m, \u001b[33m'\u001b[39m\u001b[33madmissionheight\u001b[39m\u001b[33m'\u001b[39m,\n\u001b[32m      3\u001b[39m    \u001b[33m'\u001b[39m\u001b[33madmissionweight\u001b[39m\u001b[33m'\u001b[39m, \u001b[33m'\u001b[39m\u001b[33mHeart Rate\u001b[39m\u001b[33m'\u001b[39m, \u001b[33m'\u001b[39m\u001b[33mO2 Saturation\u001b[39m\u001b[33m'\u001b[39m, \u001b[33m'\u001b[39m\u001b[33mglucose\u001b[39m\u001b[33m'\u001b[39m,\n\u001b[32m   (...)\u001b[39m\u001b[32m      9\u001b[39m    \u001b[33m'\u001b[39m\u001b[33mlabelrec\u001b[39m\u001b[33m'\u001b[39m,   \u001b[33m'\u001b[39m\u001b[33mCAM\u001b[39m\u001b[33m'\u001b[39m\n\u001b[32m     10\u001b[39m    ]\n\u001b[32m---> \u001b[39m\u001b[32m11\u001b[39m df = \u001b[43mdf\u001b[49m\u001b[43m[\u001b[49m\u001b[43mcolumn_order\u001b[49m\u001b[43m]\u001b[49m\n\u001b[32m     12\u001b[39m \u001b[38;5;66;03m#display all columns\u001b[39;00m\n\u001b[32m     13\u001b[39m pd.set_option(\u001b[33m'\u001b[39m\u001b[33mdisplay.max_columns\u001b[39m\u001b[33m'\u001b[39m, \u001b[38;5;28;01mNone\u001b[39;00m)\n",
      "\u001b[36mFile \u001b[39m\u001b[32mv:\\delirium\\deli_env\\Lib\\site-packages\\pandas\\core\\frame.py:4113\u001b[39m, in \u001b[36mDataFrame.__getitem__\u001b[39m\u001b[34m(self, key)\u001b[39m\n\u001b[32m   4111\u001b[39m     \u001b[38;5;28;01mif\u001b[39;00m is_iterator(key):\n\u001b[32m   4112\u001b[39m         key = \u001b[38;5;28mlist\u001b[39m(key)\n\u001b[32m-> \u001b[39m\u001b[32m4113\u001b[39m     indexer = \u001b[38;5;28;43mself\u001b[39;49m\u001b[43m.\u001b[49m\u001b[43mcolumns\u001b[49m\u001b[43m.\u001b[49m\u001b[43m_get_indexer_strict\u001b[49m\u001b[43m(\u001b[49m\u001b[43mkey\u001b[49m\u001b[43m,\u001b[49m\u001b[43m \u001b[49m\u001b[33;43m\"\u001b[39;49m\u001b[33;43mcolumns\u001b[39;49m\u001b[33;43m\"\u001b[39;49m\u001b[43m)\u001b[49m[\u001b[32m1\u001b[39m]\n\u001b[32m   4115\u001b[39m \u001b[38;5;66;03m# take() does not accept boolean indexers\u001b[39;00m\n\u001b[32m   4116\u001b[39m \u001b[38;5;28;01mif\u001b[39;00m \u001b[38;5;28mgetattr\u001b[39m(indexer, \u001b[33m\"\u001b[39m\u001b[33mdtype\u001b[39m\u001b[33m\"\u001b[39m, \u001b[38;5;28;01mNone\u001b[39;00m) == \u001b[38;5;28mbool\u001b[39m:\n",
      "\u001b[36mFile \u001b[39m\u001b[32mv:\\delirium\\deli_env\\Lib\\site-packages\\pandas\\core\\indexes\\base.py:6212\u001b[39m, in \u001b[36mIndex._get_indexer_strict\u001b[39m\u001b[34m(self, key, axis_name)\u001b[39m\n\u001b[32m   6209\u001b[39m \u001b[38;5;28;01melse\u001b[39;00m:\n\u001b[32m   6210\u001b[39m     keyarr, indexer, new_indexer = \u001b[38;5;28mself\u001b[39m._reindex_non_unique(keyarr)\n\u001b[32m-> \u001b[39m\u001b[32m6212\u001b[39m \u001b[38;5;28;43mself\u001b[39;49m\u001b[43m.\u001b[49m\u001b[43m_raise_if_missing\u001b[49m\u001b[43m(\u001b[49m\u001b[43mkeyarr\u001b[49m\u001b[43m,\u001b[49m\u001b[43m \u001b[49m\u001b[43mindexer\u001b[49m\u001b[43m,\u001b[49m\u001b[43m \u001b[49m\u001b[43maxis_name\u001b[49m\u001b[43m)\u001b[49m\n\u001b[32m   6214\u001b[39m keyarr = \u001b[38;5;28mself\u001b[39m.take(indexer)\n\u001b[32m   6215\u001b[39m \u001b[38;5;28;01mif\u001b[39;00m \u001b[38;5;28misinstance\u001b[39m(key, Index):\n\u001b[32m   6216\u001b[39m     \u001b[38;5;66;03m# GH 42790 - Preserve name from an Index\u001b[39;00m\n",
      "\u001b[36mFile \u001b[39m\u001b[32mv:\\delirium\\deli_env\\Lib\\site-packages\\pandas\\core\\indexes\\base.py:6264\u001b[39m, in \u001b[36mIndex._raise_if_missing\u001b[39m\u001b[34m(self, key, indexer, axis_name)\u001b[39m\n\u001b[32m   6261\u001b[39m     \u001b[38;5;28;01mraise\u001b[39;00m \u001b[38;5;167;01mKeyError\u001b[39;00m(\u001b[33mf\u001b[39m\u001b[33m\"\u001b[39m\u001b[33mNone of [\u001b[39m\u001b[38;5;132;01m{\u001b[39;00mkey\u001b[38;5;132;01m}\u001b[39;00m\u001b[33m] are in the [\u001b[39m\u001b[38;5;132;01m{\u001b[39;00maxis_name\u001b[38;5;132;01m}\u001b[39;00m\u001b[33m]\u001b[39m\u001b[33m\"\u001b[39m)\n\u001b[32m   6263\u001b[39m not_found = \u001b[38;5;28mlist\u001b[39m(ensure_index(key)[missing_mask.nonzero()[\u001b[32m0\u001b[39m]].unique())\n\u001b[32m-> \u001b[39m\u001b[32m6264\u001b[39m \u001b[38;5;28;01mraise\u001b[39;00m \u001b[38;5;167;01mKeyError\u001b[39;00m(\u001b[33mf\u001b[39m\u001b[33m\"\u001b[39m\u001b[38;5;132;01m{\u001b[39;00mnot_found\u001b[38;5;132;01m}\u001b[39;00m\u001b[33m not in index\u001b[39m\u001b[33m\"\u001b[39m)\n",
      "\u001b[31mKeyError\u001b[39m: \"['labelrec'] not in index\""
     ]
    }
   ],
   "source": [
    "column_order = [\n",
    "   'patientunitstayid','uniquepid', 'itemoffset', 'gender', 'age', 'admissionheight',\n",
    "   'admissionweight', 'Heart Rate', 'O2 Saturation', 'glucose',\n",
    "   'Temperature (C)', 'sodium', 'BUN', 'WBC x 1000', 'direct bilirubin',\n",
    "   'Hemoglobin', 'Platelets', 'Potassium', 'Chloride', 'Bicarbonate',\n",
    "   'Creatinine', 'ALT', 'AST', 'Alkaline Phosphate', \n",
    "   # 'sofa', 'sofa_wo_gcs', 'vent_flag','rate_dopamine', 'rate_epinephrine', 'rate_norepinephrine',\n",
    "   # 'rate_phenylephrine', 'fluidin', 'fluidout',\n",
    "   'labelrec',   'CAM'\n",
    "   ]\n",
    "df = df[column_order]\n",
    "#display all columns\n",
    "pd.set_option('display.max_columns', None)\n",
    "df.head()"
   ]
  },
  {
   "cell_type": "markdown",
   "metadata": {},
   "source": [
    "# Add external variables"
   ]
  },
  {
   "cell_type": "markdown",
   "metadata": {},
   "source": [
    "## Add sofa score"
   ]
  },
  {
   "cell_type": "code",
   "execution_count": null,
   "metadata": {},
   "outputs": [],
   "source": [
    "df_eicu = df.copy()\n",
    "sofa = pd.read_csv(os.path.join(data_processed_path, 'eicu_pivoted_sofa.csv'))\n",
    "\n",
    "df_eicu['day'] = np.nan\n",
    "\n",
    "for i in range(1,1000):\n",
    "    df_eicu.loc[((df_eicu['itemoffset'] <= i*24) & (df_eicu['itemoffset'] >= (i-1)*24)),'day'] = i\n",
    "    \n",
    "new_df = pd.merge(df_eicu, sofa, how='left', left_on=['patientunitstayid','day'],right_on=['patientunitstayid','day'])"
   ]
  },
  {
   "cell_type": "code",
   "execution_count": null,
   "metadata": {},
   "outputs": [],
   "source": [
    "columns_order = ['patientunitstayid','uniquepid', 'itemoffset', 'gender', 'age', 'admissionheight',\n",
    "       'admissionweight', 'Heart Rate', 'O2 Saturation', 'glucose',\n",
    "       'Temperature (C)', 'sodium', 'BUN', 'WBC x 1000', 'direct bilirubin',\n",
    "       'Hemoglobin', 'Platelets', 'Potassium', 'Chloride', 'Bicarbonate',\n",
    "       'Creatinine', 'ALT', 'AST', 'Alkaline Phosphate','sofa', 'sofa_wo_gcs','CAM']\n"
   ]
  },
  {
   "cell_type": "code",
   "execution_count": null,
   "metadata": {},
   "outputs": [],
   "source": [
    "new_df = new_df[columns_order]"
   ]
  },
  {
   "cell_type": "code",
   "execution_count": null,
   "metadata": {},
   "outputs": [
    {
     "ename": "NameError",
     "evalue": "name 'new_df' is not defined",
     "output_type": "error",
     "traceback": [
      "\u001b[31m---------------------------------------------------------------------------\u001b[39m",
      "\u001b[31mNameError\u001b[39m                                 Traceback (most recent call last)",
      "\u001b[36mCell\u001b[39m\u001b[36m \u001b[39m\u001b[32mIn[81]\u001b[39m\u001b[32m, line 1\u001b[39m\n\u001b[32m----> \u001b[39m\u001b[32m1\u001b[39m \u001b[43mnew_df\u001b[49m.head()\n",
      "\u001b[31mNameError\u001b[39m: name 'new_df' is not defined"
     ]
    }
   ],
   "source": [
    "new_df.head()"
   ]
  },
  {
   "cell_type": "markdown",
   "metadata": {},
   "source": [
    "## Add wes data"
   ]
  },
  {
   "cell_type": "code",
   "execution_count": null,
   "metadata": {},
   "outputs": [],
   "source": [
    "df_eicu = new_df.copy()\n",
    "df_vent = pd.read_csv(os.path.join(data_processed_path, 'eicu_wes.csv'))"
   ]
  },
  {
   "cell_type": "code",
   "execution_count": null,
   "metadata": {},
   "outputs": [],
   "source": [
    "new_df = pd.merge(df_eicu, df_vent, how='left', left_on=['patientunitstayid','itemoffset'],right_on=['patientunitstayid','hr'])"
   ]
  },
  {
   "cell_type": "code",
   "execution_count": null,
   "metadata": {},
   "outputs": [],
   "source": [
    "all_deli = new_df.copy()"
   ]
  },
  {
   "cell_type": "code",
   "execution_count": null,
   "metadata": {},
   "outputs": [],
   "source": [
    "columns_order = ['patientunitstayid','uniquepid', 'itemoffset', 'gender', 'age', 'admissionheight',\n",
    "       'admissionweight', 'Heart Rate', 'O2 Saturation', 'glucose',\n",
    "       'Temperature (C)', 'sodium', 'BUN', 'WBC x 1000', 'direct bilirubin',\n",
    "       'Hemoglobin', 'Platelets', 'Potassium', 'Chloride', 'Bicarbonate',\n",
    "       'Creatinine', 'ALT', 'AST', 'Alkaline Phosphate', 'sofa', 'sofa_wo_gcs',\n",
    "       'vent_flag','rate_dopamine', 'rate_epinephrine', 'rate_norepinephrine',\n",
    "       'rate_phenylephrine', 'fluidin', 'fluidout','CAM']"
   ]
  },
  {
   "cell_type": "code",
   "execution_count": null,
   "metadata": {},
   "outputs": [],
   "source": [
    "all_deli = all_deli[columns_order]"
   ]
  },
  {
   "cell_type": "markdown",
   "metadata": {},
   "source": [
    "# Labelling"
   ]
  },
  {
   "cell_type": "code",
   "execution_count": 61,
   "metadata": {},
   "outputs": [],
   "source": [
    "label_deli = df[df['itemoffset'] > -7]"
   ]
  },
  {
   "cell_type": "code",
   "execution_count": 63,
   "metadata": {},
   "outputs": [],
   "source": [
    "label_deli.loc[:, 'labelrec'] = np.nan\n",
    "label_deli.loc[label_deli['CAM'] == 1, 'labelrec'] = 1\n",
    "label_deli.loc[label_deli['CAM'] == 0, 'labelrec'] = 0\n",
    "\n",
    "label_deli.loc[:, 'labelpt'] = np.nan\n",
    "\n",
    "pos_cam_coh = label_deli[label_deli['labelrec'] == 1]['patientunitstayid'].unique()\n",
    "label_deli.loc[label_deli['patientunitstayid'].isin(pos_cam_coh), 'labelpt'] = 1\n",
    "label_deli.loc[~label_deli['patientunitstayid'].isin(pos_cam_coh), 'labelpt'] = 0"
   ]
  },
  {
   "cell_type": "code",
   "execution_count": 64,
   "metadata": {},
   "outputs": [],
   "source": [
    "columns_order = ['patientunitstayid','uniquepid', 'itemoffset', 'gender', 'age', 'admissionheight',\n",
    "       'admissionweight', 'Heart Rate', 'O2 Saturation', 'glucose',\n",
    "       'Temperature (C)', 'sodium', 'BUN', 'WBC x 1000', 'direct bilirubin',\n",
    "       'Hemoglobin', 'Platelets', 'Potassium', 'Chloride', 'Bicarbonate',\n",
    "       'Creatinine', 'ALT', 'AST', 'Alkaline Phosphate', \n",
    "       # 'sofa', 'sofa_wo_gcs', 'vent_flag','rate_dopamine', 'rate_epinephrine', \n",
    "       # 'rate_norepinephrine', 'rate_phenylephrine', 'fluidin', 'fluidout',\n",
    "       'CAM','labelrec','labelpt']\n",
    "       "
   ]
  },
  {
   "cell_type": "code",
   "execution_count": 65,
   "metadata": {},
   "outputs": [
    {
     "data": {
      "text/plain": [
       "Index(['patientunitstayid', 'uniquepid', 'itemoffset', 'gender', 'age',\n",
       "       'admissionheight', 'admissionweight', 'Heart Rate', 'O2 Saturation',\n",
       "       'glucose', 'Temperature (C)', 'sodium', 'BUN', 'WBC x 1000',\n",
       "       'direct bilirubin', 'Hemoglobin', 'Platelets', 'Potassium', 'Chloride',\n",
       "       'Bicarbonate', 'Creatinine', 'ALT', 'AST', 'Alkaline Phosphate', 'CAM',\n",
       "       'labelrec', 'labelpt'],\n",
       "      dtype='object')"
      ]
     },
     "execution_count": 65,
     "metadata": {},
     "output_type": "execute_result"
    }
   ],
   "source": [
    "label_deli = label_deli[columns_order]\n",
    "label_deli.columns"
   ]
  },
  {
   "cell_type": "markdown",
   "metadata": {},
   "source": [
    "# Missing values"
   ]
  },
  {
   "cell_type": "markdown",
   "metadata": {},
   "source": [
    "## checkpoint 3"
   ]
  },
  {
   "cell_type": "code",
   "execution_count": 68,
   "metadata": {},
   "outputs": [],
   "source": [
    "#chekpoint\n",
    "label_deli.to_csv(os.path.join(data_processed_path, 'checkpoint3.csv'), index=False)"
   ]
  },
  {
   "cell_type": "code",
   "execution_count": 69,
   "metadata": {},
   "outputs": [],
   "source": [
    "new_df = label_deli.copy()"
   ]
  },
  {
   "cell_type": "markdown",
   "metadata": {},
   "source": [
    "## Record-wise"
   ]
  },
  {
   "cell_type": "code",
   "execution_count": 70,
   "metadata": {},
   "outputs": [
    {
     "data": {
      "text/html": [
       "<div>\n",
       "<style scoped>\n",
       "    .dataframe tbody tr th:only-of-type {\n",
       "        vertical-align: middle;\n",
       "    }\n",
       "\n",
       "    .dataframe tbody tr th {\n",
       "        vertical-align: top;\n",
       "    }\n",
       "\n",
       "    .dataframe thead th {\n",
       "        text-align: right;\n",
       "    }\n",
       "</style>\n",
       "<table border=\"1\" class=\"dataframe\">\n",
       "  <thead>\n",
       "    <tr style=\"text-align: right;\">\n",
       "      <th></th>\n",
       "      <th>column_name</th>\n",
       "      <th>percent_missing</th>\n",
       "    </tr>\n",
       "  </thead>\n",
       "  <tbody>\n",
       "    <tr>\n",
       "      <th>0</th>\n",
       "      <td>patientunitstayid</td>\n",
       "      <td>0.000000</td>\n",
       "    </tr>\n",
       "    <tr>\n",
       "      <th>1</th>\n",
       "      <td>uniquepid</td>\n",
       "      <td>0.000000</td>\n",
       "    </tr>\n",
       "    <tr>\n",
       "      <th>2</th>\n",
       "      <td>itemoffset</td>\n",
       "      <td>0.000000</td>\n",
       "    </tr>\n",
       "    <tr>\n",
       "      <th>3</th>\n",
       "      <td>gender</td>\n",
       "      <td>0.000000</td>\n",
       "    </tr>\n",
       "    <tr>\n",
       "      <th>4</th>\n",
       "      <td>age</td>\n",
       "      <td>0.000000</td>\n",
       "    </tr>\n",
       "    <tr>\n",
       "      <th>5</th>\n",
       "      <td>labelpt</td>\n",
       "      <td>0.000000</td>\n",
       "    </tr>\n",
       "    <tr>\n",
       "      <th>6</th>\n",
       "      <td>CAM</td>\n",
       "      <td>0.000000</td>\n",
       "    </tr>\n",
       "    <tr>\n",
       "      <th>7</th>\n",
       "      <td>admissionheight</td>\n",
       "      <td>1.261605</td>\n",
       "    </tr>\n",
       "    <tr>\n",
       "      <th>8</th>\n",
       "      <td>admissionweight</td>\n",
       "      <td>2.402053</td>\n",
       "    </tr>\n",
       "    <tr>\n",
       "      <th>9</th>\n",
       "      <td>Heart Rate</td>\n",
       "      <td>32.920681</td>\n",
       "    </tr>\n",
       "    <tr>\n",
       "      <th>10</th>\n",
       "      <td>O2 Saturation</td>\n",
       "      <td>33.488584</td>\n",
       "    </tr>\n",
       "    <tr>\n",
       "      <th>11</th>\n",
       "      <td>Temperature (C)</td>\n",
       "      <td>77.143252</td>\n",
       "    </tr>\n",
       "    <tr>\n",
       "      <th>12</th>\n",
       "      <td>glucose</td>\n",
       "      <td>84.264457</td>\n",
       "    </tr>\n",
       "    <tr>\n",
       "      <th>13</th>\n",
       "      <td>labelrec</td>\n",
       "      <td>93.154791</td>\n",
       "    </tr>\n",
       "    <tr>\n",
       "      <th>14</th>\n",
       "      <td>Potassium</td>\n",
       "      <td>95.203363</td>\n",
       "    </tr>\n",
       "    <tr>\n",
       "      <th>15</th>\n",
       "      <td>sodium</td>\n",
       "      <td>95.348698</td>\n",
       "    </tr>\n",
       "    <tr>\n",
       "      <th>16</th>\n",
       "      <td>Hemoglobin</td>\n",
       "      <td>95.580448</td>\n",
       "    </tr>\n",
       "    <tr>\n",
       "      <th>17</th>\n",
       "      <td>Chloride</td>\n",
       "      <td>95.594504</td>\n",
       "    </tr>\n",
       "    <tr>\n",
       "      <th>18</th>\n",
       "      <td>Creatinine</td>\n",
       "      <td>95.663238</td>\n",
       "    </tr>\n",
       "    <tr>\n",
       "      <th>19</th>\n",
       "      <td>BUN</td>\n",
       "      <td>95.692765</td>\n",
       "    </tr>\n",
       "    <tr>\n",
       "      <th>20</th>\n",
       "      <td>Bicarbonate</td>\n",
       "      <td>95.856134</td>\n",
       "    </tr>\n",
       "    <tr>\n",
       "      <th>21</th>\n",
       "      <td>WBC x 1000</td>\n",
       "      <td>96.173591</td>\n",
       "    </tr>\n",
       "    <tr>\n",
       "      <th>22</th>\n",
       "      <td>Platelets</td>\n",
       "      <td>96.213770</td>\n",
       "    </tr>\n",
       "    <tr>\n",
       "      <th>23</th>\n",
       "      <td>AST</td>\n",
       "      <td>98.761689</td>\n",
       "    </tr>\n",
       "    <tr>\n",
       "      <th>24</th>\n",
       "      <td>Alkaline Phosphate</td>\n",
       "      <td>98.788299</td>\n",
       "    </tr>\n",
       "    <tr>\n",
       "      <th>25</th>\n",
       "      <td>ALT</td>\n",
       "      <td>98.795901</td>\n",
       "    </tr>\n",
       "    <tr>\n",
       "      <th>26</th>\n",
       "      <td>direct bilirubin</td>\n",
       "      <td>99.738591</td>\n",
       "    </tr>\n",
       "  </tbody>\n",
       "</table>\n",
       "</div>"
      ],
      "text/plain": [
       "           column_name  percent_missing\n",
       "0    patientunitstayid         0.000000\n",
       "1            uniquepid         0.000000\n",
       "2           itemoffset         0.000000\n",
       "3               gender         0.000000\n",
       "4                  age         0.000000\n",
       "5              labelpt         0.000000\n",
       "6                  CAM         0.000000\n",
       "7      admissionheight         1.261605\n",
       "8      admissionweight         2.402053\n",
       "9           Heart Rate        32.920681\n",
       "10       O2 Saturation        33.488584\n",
       "11     Temperature (C)        77.143252\n",
       "12             glucose        84.264457\n",
       "13            labelrec        93.154791\n",
       "14           Potassium        95.203363\n",
       "15              sodium        95.348698\n",
       "16          Hemoglobin        95.580448\n",
       "17            Chloride        95.594504\n",
       "18          Creatinine        95.663238\n",
       "19                 BUN        95.692765\n",
       "20         Bicarbonate        95.856134\n",
       "21          WBC x 1000        96.173591\n",
       "22           Platelets        96.213770\n",
       "23                 AST        98.761689\n",
       "24  Alkaline Phosphate        98.788299\n",
       "25                 ALT        98.795901\n",
       "26    direct bilirubin        99.738591"
      ]
     },
     "execution_count": 70,
     "metadata": {},
     "output_type": "execute_result"
    }
   ],
   "source": [
    "import missingno as msno\n",
    "import seaborn as sns\n",
    "import matplotlib.pyplot as plt\n",
    "columns = columns_order \n",
    "percent_missing = new_df[columns].isnull().sum() * 100 / len(new_df)\n",
    "missing_value_df = pd.DataFrame({'column_name': columns,'percent_missing': percent_missing})\n",
    "missing_value_df.sort_values('percent_missing', inplace=True)\n",
    "missing_value_df.reset_index(inplace=True, drop=True)\n",
    "missing_value_df"
   ]
  },
  {
   "cell_type": "markdown",
   "metadata": {},
   "source": [
    "## Patient-wise\n"
   ]
  },
  {
   "cell_type": "code",
   "execution_count": 71,
   "metadata": {},
   "outputs": [
    {
     "name": "stderr",
     "output_type": "stream",
     "text": [
      "C:\\Users\\URHU\\AppData\\Local\\Temp\\ipykernel_33684\\3914616271.py:1: FutureWarning: DataFrameGroupBy.apply operated on the grouping columns. This behavior is deprecated, and in a future version of pandas the grouping columns will be excluded from the operation. Either pass `include_groups=False` to exclude the groupings or explicitly select the grouping columns after groupby to silence this warning.\n",
      "  df_g = new_df[columns_order].groupby(\"patientunitstayid\").apply(lambda x: x.notnull().mean())\n"
     ]
    },
    {
     "data": {
      "text/html": [
       "<div>\n",
       "<style scoped>\n",
       "    .dataframe tbody tr th:only-of-type {\n",
       "        vertical-align: middle;\n",
       "    }\n",
       "\n",
       "    .dataframe tbody tr th {\n",
       "        vertical-align: top;\n",
       "    }\n",
       "\n",
       "    .dataframe thead th {\n",
       "        text-align: right;\n",
       "    }\n",
       "</style>\n",
       "<table border=\"1\" class=\"dataframe\">\n",
       "  <thead>\n",
       "    <tr style=\"text-align: right;\">\n",
       "      <th></th>\n",
       "      <th>column_name</th>\n",
       "      <th>percent_missing</th>\n",
       "    </tr>\n",
       "  </thead>\n",
       "  <tbody>\n",
       "    <tr>\n",
       "      <th>0</th>\n",
       "      <td>patientunitstayid</td>\n",
       "      <td>0.000000</td>\n",
       "    </tr>\n",
       "    <tr>\n",
       "      <th>1</th>\n",
       "      <td>uniquepid</td>\n",
       "      <td>0.000000</td>\n",
       "    </tr>\n",
       "    <tr>\n",
       "      <th>2</th>\n",
       "      <td>itemoffset</td>\n",
       "      <td>0.000000</td>\n",
       "    </tr>\n",
       "    <tr>\n",
       "      <th>3</th>\n",
       "      <td>gender</td>\n",
       "      <td>0.000000</td>\n",
       "    </tr>\n",
       "    <tr>\n",
       "      <th>4</th>\n",
       "      <td>age</td>\n",
       "      <td>0.000000</td>\n",
       "    </tr>\n",
       "    <tr>\n",
       "      <th>5</th>\n",
       "      <td>labelpt</td>\n",
       "      <td>0.000000</td>\n",
       "    </tr>\n",
       "    <tr>\n",
       "      <th>6</th>\n",
       "      <td>CAM</td>\n",
       "      <td>0.000000</td>\n",
       "    </tr>\n",
       "    <tr>\n",
       "      <th>7</th>\n",
       "      <td>Temperature (C)</td>\n",
       "      <td>1.628294</td>\n",
       "    </tr>\n",
       "    <tr>\n",
       "      <th>8</th>\n",
       "      <td>admissionheight</td>\n",
       "      <td>2.221139</td>\n",
       "    </tr>\n",
       "    <tr>\n",
       "      <th>9</th>\n",
       "      <td>Heart Rate</td>\n",
       "      <td>4.186462</td>\n",
       "    </tr>\n",
       "    <tr>\n",
       "      <th>10</th>\n",
       "      <td>O2 Saturation</td>\n",
       "      <td>4.263613</td>\n",
       "    </tr>\n",
       "    <tr>\n",
       "      <th>11</th>\n",
       "      <td>admissionweight</td>\n",
       "      <td>4.292037</td>\n",
       "    </tr>\n",
       "    <tr>\n",
       "      <th>12</th>\n",
       "      <td>glucose</td>\n",
       "      <td>7.438990</td>\n",
       "    </tr>\n",
       "    <tr>\n",
       "      <th>13</th>\n",
       "      <td>Potassium</td>\n",
       "      <td>11.073212</td>\n",
       "    </tr>\n",
       "    <tr>\n",
       "      <th>14</th>\n",
       "      <td>sodium</td>\n",
       "      <td>11.255939</td>\n",
       "    </tr>\n",
       "    <tr>\n",
       "      <th>15</th>\n",
       "      <td>Chloride</td>\n",
       "      <td>11.629512</td>\n",
       "    </tr>\n",
       "    <tr>\n",
       "      <th>16</th>\n",
       "      <td>Creatinine</td>\n",
       "      <td>11.670118</td>\n",
       "    </tr>\n",
       "    <tr>\n",
       "      <th>17</th>\n",
       "      <td>BUN</td>\n",
       "      <td>11.836602</td>\n",
       "    </tr>\n",
       "    <tr>\n",
       "      <th>18</th>\n",
       "      <td>Hemoglobin</td>\n",
       "      <td>12.677143</td>\n",
       "    </tr>\n",
       "    <tr>\n",
       "      <th>19</th>\n",
       "      <td>WBC x 1000</td>\n",
       "      <td>13.777561</td>\n",
       "    </tr>\n",
       "    <tr>\n",
       "      <th>20</th>\n",
       "      <td>labelrec</td>\n",
       "      <td>14.508466</td>\n",
       "    </tr>\n",
       "    <tr>\n",
       "      <th>21</th>\n",
       "      <td>Bicarbonate</td>\n",
       "      <td>14.788647</td>\n",
       "    </tr>\n",
       "    <tr>\n",
       "      <th>22</th>\n",
       "      <td>Platelets</td>\n",
       "      <td>15.243432</td>\n",
       "    </tr>\n",
       "    <tr>\n",
       "      <th>23</th>\n",
       "      <td>AST</td>\n",
       "      <td>50.318756</td>\n",
       "    </tr>\n",
       "    <tr>\n",
       "      <th>24</th>\n",
       "      <td>Alkaline Phosphate</td>\n",
       "      <td>50.736996</td>\n",
       "    </tr>\n",
       "    <tr>\n",
       "      <th>25</th>\n",
       "      <td>ALT</td>\n",
       "      <td>50.935965</td>\n",
       "    </tr>\n",
       "    <tr>\n",
       "      <th>26</th>\n",
       "      <td>direct bilirubin</td>\n",
       "      <td>86.502619</td>\n",
       "    </tr>\n",
       "  </tbody>\n",
       "</table>\n",
       "</div>"
      ],
      "text/plain": [
       "           column_name  percent_missing\n",
       "0    patientunitstayid         0.000000\n",
       "1            uniquepid         0.000000\n",
       "2           itemoffset         0.000000\n",
       "3               gender         0.000000\n",
       "4                  age         0.000000\n",
       "5              labelpt         0.000000\n",
       "6                  CAM         0.000000\n",
       "7      Temperature (C)         1.628294\n",
       "8      admissionheight         2.221139\n",
       "9           Heart Rate         4.186462\n",
       "10       O2 Saturation         4.263613\n",
       "11     admissionweight         4.292037\n",
       "12             glucose         7.438990\n",
       "13           Potassium        11.073212\n",
       "14              sodium        11.255939\n",
       "15            Chloride        11.629512\n",
       "16          Creatinine        11.670118\n",
       "17                 BUN        11.836602\n",
       "18          Hemoglobin        12.677143\n",
       "19          WBC x 1000        13.777561\n",
       "20            labelrec        14.508466\n",
       "21         Bicarbonate        14.788647\n",
       "22           Platelets        15.243432\n",
       "23                 AST        50.318756\n",
       "24  Alkaline Phosphate        50.736996\n",
       "25                 ALT        50.935965\n",
       "26    direct bilirubin        86.502619"
      ]
     },
     "execution_count": 71,
     "metadata": {},
     "output_type": "execute_result"
    }
   ],
   "source": [
    "df_g = new_df[columns_order].groupby(\"patientunitstayid\").apply(lambda x: x.notnull().mean())\n",
    "\n",
    "for i in df_g.columns:\n",
    "    df_g[i] = df_g[i].replace({0:np.nan})\n",
    "\n",
    "    \n",
    "    #after Imputation\n",
    "\n",
    "import missingno as msno\n",
    "import seaborn as sns\n",
    "import matplotlib.pyplot as plt\n",
    "columns = df_g.columns\n",
    "percent_missing = df_g.isnull().sum() * 100 / len(df_g)\n",
    "missing_value_df = pd.DataFrame({'column_name': columns,'percent_missing': percent_missing})\n",
    "missing_value_df.sort_values('percent_missing', inplace=True)\n",
    "missing_value_df.reset_index(inplace=True, drop=True)\n",
    "missing_value_df"
   ]
  },
  {
   "cell_type": "code",
   "execution_count": 73,
   "metadata": {},
   "outputs": [
    {
     "data": {
      "text/html": [
       "<div>\n",
       "<style scoped>\n",
       "    .dataframe tbody tr th:only-of-type {\n",
       "        vertical-align: middle;\n",
       "    }\n",
       "\n",
       "    .dataframe tbody tr th {\n",
       "        vertical-align: top;\n",
       "    }\n",
       "\n",
       "    .dataframe thead th {\n",
       "        text-align: right;\n",
       "    }\n",
       "</style>\n",
       "<table border=\"1\" class=\"dataframe\">\n",
       "  <thead>\n",
       "    <tr style=\"text-align: right;\">\n",
       "      <th></th>\n",
       "      <th>patientunitstayid</th>\n",
       "      <th>uniquepid</th>\n",
       "      <th>itemoffset</th>\n",
       "      <th>gender</th>\n",
       "      <th>age</th>\n",
       "      <th>admissionheight</th>\n",
       "      <th>admissionweight</th>\n",
       "      <th>Heart Rate</th>\n",
       "      <th>O2 Saturation</th>\n",
       "      <th>glucose</th>\n",
       "      <th>...</th>\n",
       "      <th>Potassium</th>\n",
       "      <th>Chloride</th>\n",
       "      <th>Bicarbonate</th>\n",
       "      <th>Creatinine</th>\n",
       "      <th>ALT</th>\n",
       "      <th>AST</th>\n",
       "      <th>Alkaline Phosphate</th>\n",
       "      <th>CAM</th>\n",
       "      <th>labelrec</th>\n",
       "      <th>labelpt</th>\n",
       "    </tr>\n",
       "  </thead>\n",
       "  <tbody>\n",
       "    <tr>\n",
       "      <th>0</th>\n",
       "      <td>1009163</td>\n",
       "      <td>008-12458</td>\n",
       "      <td>0</td>\n",
       "      <td>1</td>\n",
       "      <td>70</td>\n",
       "      <td>160.0</td>\n",
       "      <td>56.8</td>\n",
       "      <td>84.0</td>\n",
       "      <td>98.0</td>\n",
       "      <td>NaN</td>\n",
       "      <td>...</td>\n",
       "      <td>NaN</td>\n",
       "      <td>NaN</td>\n",
       "      <td>NaN</td>\n",
       "      <td>NaN</td>\n",
       "      <td>NaN</td>\n",
       "      <td>NaN</td>\n",
       "      <td>NaN</td>\n",
       "      <td>2</td>\n",
       "      <td>NaN</td>\n",
       "      <td>0.0</td>\n",
       "    </tr>\n",
       "    <tr>\n",
       "      <th>1</th>\n",
       "      <td>1009163</td>\n",
       "      <td>008-12458</td>\n",
       "      <td>1</td>\n",
       "      <td>1</td>\n",
       "      <td>70</td>\n",
       "      <td>160.0</td>\n",
       "      <td>56.8</td>\n",
       "      <td>87.0</td>\n",
       "      <td>98.0</td>\n",
       "      <td>NaN</td>\n",
       "      <td>...</td>\n",
       "      <td>NaN</td>\n",
       "      <td>NaN</td>\n",
       "      <td>NaN</td>\n",
       "      <td>NaN</td>\n",
       "      <td>NaN</td>\n",
       "      <td>NaN</td>\n",
       "      <td>NaN</td>\n",
       "      <td>2</td>\n",
       "      <td>NaN</td>\n",
       "      <td>0.0</td>\n",
       "    </tr>\n",
       "    <tr>\n",
       "      <th>2</th>\n",
       "      <td>1009163</td>\n",
       "      <td>008-12458</td>\n",
       "      <td>2</td>\n",
       "      <td>1</td>\n",
       "      <td>70</td>\n",
       "      <td>160.0</td>\n",
       "      <td>56.8</td>\n",
       "      <td>92.0</td>\n",
       "      <td>96.0</td>\n",
       "      <td>NaN</td>\n",
       "      <td>...</td>\n",
       "      <td>NaN</td>\n",
       "      <td>NaN</td>\n",
       "      <td>NaN</td>\n",
       "      <td>NaN</td>\n",
       "      <td>NaN</td>\n",
       "      <td>NaN</td>\n",
       "      <td>NaN</td>\n",
       "      <td>2</td>\n",
       "      <td>NaN</td>\n",
       "      <td>0.0</td>\n",
       "    </tr>\n",
       "    <tr>\n",
       "      <th>3</th>\n",
       "      <td>1009163</td>\n",
       "      <td>008-12458</td>\n",
       "      <td>3</td>\n",
       "      <td>1</td>\n",
       "      <td>70</td>\n",
       "      <td>160.0</td>\n",
       "      <td>56.8</td>\n",
       "      <td>86.0</td>\n",
       "      <td>94.0</td>\n",
       "      <td>NaN</td>\n",
       "      <td>...</td>\n",
       "      <td>NaN</td>\n",
       "      <td>NaN</td>\n",
       "      <td>NaN</td>\n",
       "      <td>NaN</td>\n",
       "      <td>NaN</td>\n",
       "      <td>NaN</td>\n",
       "      <td>NaN</td>\n",
       "      <td>2</td>\n",
       "      <td>NaN</td>\n",
       "      <td>0.0</td>\n",
       "    </tr>\n",
       "    <tr>\n",
       "      <th>4</th>\n",
       "      <td>1009163</td>\n",
       "      <td>008-12458</td>\n",
       "      <td>4</td>\n",
       "      <td>1</td>\n",
       "      <td>70</td>\n",
       "      <td>160.0</td>\n",
       "      <td>56.8</td>\n",
       "      <td>87.0</td>\n",
       "      <td>93.0</td>\n",
       "      <td>NaN</td>\n",
       "      <td>...</td>\n",
       "      <td>NaN</td>\n",
       "      <td>NaN</td>\n",
       "      <td>NaN</td>\n",
       "      <td>NaN</td>\n",
       "      <td>NaN</td>\n",
       "      <td>NaN</td>\n",
       "      <td>NaN</td>\n",
       "      <td>2</td>\n",
       "      <td>NaN</td>\n",
       "      <td>0.0</td>\n",
       "    </tr>\n",
       "  </tbody>\n",
       "</table>\n",
       "<p>5 rows × 27 columns</p>\n",
       "</div>"
      ],
      "text/plain": [
       "   patientunitstayid  uniquepid  itemoffset  gender  age  admissionheight  \\\n",
       "0            1009163  008-12458           0       1   70            160.0   \n",
       "1            1009163  008-12458           1       1   70            160.0   \n",
       "2            1009163  008-12458           2       1   70            160.0   \n",
       "3            1009163  008-12458           3       1   70            160.0   \n",
       "4            1009163  008-12458           4       1   70            160.0   \n",
       "\n",
       "   admissionweight  Heart Rate  O2 Saturation  glucose  ...  Potassium  \\\n",
       "0             56.8        84.0           98.0      NaN  ...        NaN   \n",
       "1             56.8        87.0           98.0      NaN  ...        NaN   \n",
       "2             56.8        92.0           96.0      NaN  ...        NaN   \n",
       "3             56.8        86.0           94.0      NaN  ...        NaN   \n",
       "4             56.8        87.0           93.0      NaN  ...        NaN   \n",
       "\n",
       "   Chloride  Bicarbonate  Creatinine  ALT  AST  Alkaline Phosphate  CAM  \\\n",
       "0       NaN          NaN         NaN  NaN  NaN                 NaN    2   \n",
       "1       NaN          NaN         NaN  NaN  NaN                 NaN    2   \n",
       "2       NaN          NaN         NaN  NaN  NaN                 NaN    2   \n",
       "3       NaN          NaN         NaN  NaN  NaN                 NaN    2   \n",
       "4       NaN          NaN         NaN  NaN  NaN                 NaN    2   \n",
       "\n",
       "   labelrec  labelpt  \n",
       "0       NaN      0.0  \n",
       "1       NaN      0.0  \n",
       "2       NaN      0.0  \n",
       "3       NaN      0.0  \n",
       "4       NaN      0.0  \n",
       "\n",
       "[5 rows x 27 columns]"
      ]
     },
     "execution_count": 73,
     "metadata": {},
     "output_type": "execute_result"
    }
   ],
   "source": [
    "new_df.head()"
   ]
  },
  {
   "cell_type": "markdown",
   "metadata": {},
   "source": [
    "# Pearson correlation"
   ]
  },
  {
   "cell_type": "markdown",
   "metadata": {},
   "source": [
    "## all data"
   ]
  },
  {
   "cell_type": "code",
   "execution_count": 74,
   "metadata": {},
   "outputs": [
    {
     "data": {
      "text/plain": [
       "Index(['patientunitstayid', 'uniquepid', 'itemoffset', 'gender', 'age',\n",
       "       'admissionheight', 'admissionweight', 'Heart Rate', 'O2 Saturation',\n",
       "       'glucose', 'Temperature (C)', 'sodium', 'BUN', 'WBC x 1000',\n",
       "       'direct bilirubin', 'Hemoglobin', 'Platelets', 'Potassium', 'Chloride',\n",
       "       'Bicarbonate', 'Creatinine', 'ALT', 'AST', 'Alkaline Phosphate', 'CAM',\n",
       "       'labelrec', 'labelpt'],\n",
       "      dtype='object')"
      ]
     },
     "execution_count": 74,
     "metadata": {},
     "output_type": "execute_result"
    }
   ],
   "source": [
    "new_df.columns"
   ]
  },
  {
   "cell_type": "code",
   "execution_count": 78,
   "metadata": {},
   "outputs": [],
   "source": [
    "columns_for_corr = ['age', 'admissionheight',\n",
    "       'admissionweight', 'Heart Rate', 'O2 Saturation', 'glucose',\n",
    "       'Temperature (C)', 'sodium', 'BUN', 'WBC x 1000', \n",
    "       'Hemoglobin', 'Platelets', 'Potassium', 'Chloride', 'Bicarbonate',\n",
    "       'Creatinine',\n",
    "       # 'Ventilation','Vasopressor dose',\n",
    "       'gender',\n",
    "       # 'Sofa', 'Sofa_wo_gcs',  \n",
    "       'CAM']"
   ]
  },
  {
   "cell_type": "code",
   "execution_count": null,
   "metadata": {},
   "outputs": [
    {
     "ename": "KeyError",
     "evalue": "'Epinephrine'",
     "output_type": "error",
     "traceback": [
      "\u001b[31m---------------------------------------------------------------------------\u001b[39m",
      "\u001b[31mKeyError\u001b[39m                                  Traceback (most recent call last)",
      "\u001b[36mFile \u001b[39m\u001b[32mv:\\delirium\\deli_env\\Lib\\site-packages\\pandas\\core\\indexes\\base.py:3812\u001b[39m, in \u001b[36mIndex.get_loc\u001b[39m\u001b[34m(self, key)\u001b[39m\n\u001b[32m   3811\u001b[39m \u001b[38;5;28;01mtry\u001b[39;00m:\n\u001b[32m-> \u001b[39m\u001b[32m3812\u001b[39m     \u001b[38;5;28;01mreturn\u001b[39;00m \u001b[38;5;28;43mself\u001b[39;49m\u001b[43m.\u001b[49m\u001b[43m_engine\u001b[49m\u001b[43m.\u001b[49m\u001b[43mget_loc\u001b[49m\u001b[43m(\u001b[49m\u001b[43mcasted_key\u001b[49m\u001b[43m)\u001b[49m\n\u001b[32m   3813\u001b[39m \u001b[38;5;28;01mexcept\u001b[39;00m \u001b[38;5;167;01mKeyError\u001b[39;00m \u001b[38;5;28;01mas\u001b[39;00m err:\n",
      "\u001b[36mFile \u001b[39m\u001b[32mpandas/_libs/index.pyx:167\u001b[39m, in \u001b[36mpandas._libs.index.IndexEngine.get_loc\u001b[39m\u001b[34m()\u001b[39m\n",
      "\u001b[36mFile \u001b[39m\u001b[32mpandas/_libs/index.pyx:196\u001b[39m, in \u001b[36mpandas._libs.index.IndexEngine.get_loc\u001b[39m\u001b[34m()\u001b[39m\n",
      "\u001b[36mFile \u001b[39m\u001b[32mpandas/_libs/hashtable_class_helper.pxi:7088\u001b[39m, in \u001b[36mpandas._libs.hashtable.PyObjectHashTable.get_item\u001b[39m\u001b[34m()\u001b[39m\n",
      "\u001b[36mFile \u001b[39m\u001b[32mpandas/_libs/hashtable_class_helper.pxi:7096\u001b[39m, in \u001b[36mpandas._libs.hashtable.PyObjectHashTable.get_item\u001b[39m\u001b[34m()\u001b[39m\n",
      "\u001b[31mKeyError\u001b[39m: 'Epinephrine'",
      "\nThe above exception was the direct cause of the following exception:\n",
      "\u001b[31mKeyError\u001b[39m                                  Traceback (most recent call last)",
      "\u001b[36mCell\u001b[39m\u001b[36m \u001b[39m\u001b[32mIn[105]\u001b[39m\u001b[32m, line 1\u001b[39m\n\u001b[32m----> \u001b[39m\u001b[32m1\u001b[39m \u001b[43mnew_df\u001b[49m\u001b[43m[\u001b[49m\u001b[33;43m'\u001b[39;49m\u001b[33;43mEpinephrine\u001b[39;49m\u001b[33;43m'\u001b[39;49m\u001b[43m]\u001b[49m.fillna(value=\u001b[32m0\u001b[39m,inplace=\u001b[38;5;28;01mTrue\u001b[39;00m)\n\u001b[32m      2\u001b[39m new_df[\u001b[33m'\u001b[39m\u001b[33mNorepinephrine\u001b[39m\u001b[33m'\u001b[39m].fillna(value=\u001b[32m0\u001b[39m,inplace=\u001b[38;5;28;01mTrue\u001b[39;00m) \n\u001b[32m      3\u001b[39m new_df[\u001b[33m'\u001b[39m\u001b[33mPhenylephrine\u001b[39m\u001b[33m'\u001b[39m].fillna(value=\u001b[32m0\u001b[39m,inplace=\u001b[38;5;28;01mTrue\u001b[39;00m)\n",
      "\u001b[36mFile \u001b[39m\u001b[32mv:\\delirium\\deli_env\\Lib\\site-packages\\pandas\\core\\frame.py:4107\u001b[39m, in \u001b[36mDataFrame.__getitem__\u001b[39m\u001b[34m(self, key)\u001b[39m\n\u001b[32m   4105\u001b[39m \u001b[38;5;28;01mif\u001b[39;00m \u001b[38;5;28mself\u001b[39m.columns.nlevels > \u001b[32m1\u001b[39m:\n\u001b[32m   4106\u001b[39m     \u001b[38;5;28;01mreturn\u001b[39;00m \u001b[38;5;28mself\u001b[39m._getitem_multilevel(key)\n\u001b[32m-> \u001b[39m\u001b[32m4107\u001b[39m indexer = \u001b[38;5;28;43mself\u001b[39;49m\u001b[43m.\u001b[49m\u001b[43mcolumns\u001b[49m\u001b[43m.\u001b[49m\u001b[43mget_loc\u001b[49m\u001b[43m(\u001b[49m\u001b[43mkey\u001b[49m\u001b[43m)\u001b[49m\n\u001b[32m   4108\u001b[39m \u001b[38;5;28;01mif\u001b[39;00m is_integer(indexer):\n\u001b[32m   4109\u001b[39m     indexer = [indexer]\n",
      "\u001b[36mFile \u001b[39m\u001b[32mv:\\delirium\\deli_env\\Lib\\site-packages\\pandas\\core\\indexes\\base.py:3819\u001b[39m, in \u001b[36mIndex.get_loc\u001b[39m\u001b[34m(self, key)\u001b[39m\n\u001b[32m   3814\u001b[39m     \u001b[38;5;28;01mif\u001b[39;00m \u001b[38;5;28misinstance\u001b[39m(casted_key, \u001b[38;5;28mslice\u001b[39m) \u001b[38;5;129;01mor\u001b[39;00m (\n\u001b[32m   3815\u001b[39m         \u001b[38;5;28misinstance\u001b[39m(casted_key, abc.Iterable)\n\u001b[32m   3816\u001b[39m         \u001b[38;5;129;01mand\u001b[39;00m \u001b[38;5;28many\u001b[39m(\u001b[38;5;28misinstance\u001b[39m(x, \u001b[38;5;28mslice\u001b[39m) \u001b[38;5;28;01mfor\u001b[39;00m x \u001b[38;5;129;01min\u001b[39;00m casted_key)\n\u001b[32m   3817\u001b[39m     ):\n\u001b[32m   3818\u001b[39m         \u001b[38;5;28;01mraise\u001b[39;00m InvalidIndexError(key)\n\u001b[32m-> \u001b[39m\u001b[32m3819\u001b[39m     \u001b[38;5;28;01mraise\u001b[39;00m \u001b[38;5;167;01mKeyError\u001b[39;00m(key) \u001b[38;5;28;01mfrom\u001b[39;00m\u001b[38;5;250m \u001b[39m\u001b[34;01merr\u001b[39;00m\n\u001b[32m   3820\u001b[39m \u001b[38;5;28;01mexcept\u001b[39;00m \u001b[38;5;167;01mTypeError\u001b[39;00m:\n\u001b[32m   3821\u001b[39m     \u001b[38;5;66;03m# If we have a listlike key, _check_indexing_error will raise\u001b[39;00m\n\u001b[32m   3822\u001b[39m     \u001b[38;5;66;03m#  InvalidIndexError. Otherwise we fall through and re-raise\u001b[39;00m\n\u001b[32m   3823\u001b[39m     \u001b[38;5;66;03m#  the TypeError.\u001b[39;00m\n\u001b[32m   3824\u001b[39m     \u001b[38;5;28mself\u001b[39m._check_indexing_error(key)\n",
      "\u001b[31mKeyError\u001b[39m: 'Epinephrine'"
     ]
    }
   ],
   "source": [
    "# new_df['Epinephrine'].fillna(value=0,inplace=True)\n",
    "# new_df['Norepinephrine'].fillna(value=0,inplace=True) \n",
    "# new_df['Phenylephrine'].fillna(value=0,inplace=True)\n",
    "# new_df['Dopamine'].fillna(value=0,inplace=True)"
   ]
  },
  {
   "cell_type": "code",
   "execution_count": null,
   "metadata": {},
   "outputs": [],
   "source": [
    "# new_df['Epinephrine'].fillna(value=0,inplace=True)\n",
    "# new_df['Norepinephrine'].fillna(value=0,inplace=True) \n",
    "# new_df['Phenylephrine'].fillna(value=0,inplace=True)\n",
    "# new_df['Dopamine'].fillna(value=0,inplace=True)\n",
    "# new_df['Vasopressor dose'] = np.nan\n",
    "# new_df['Vasopressor dose'] = new_df['Epinephrine']+new_df['Norepinephrine'] + new_df['Phenylephrine']/10 + new_df['Dopamine']/2\n",
    "# new_df.drop(columns=['Epinephrine', 'Norepinephrine','Phenylephrine','Dopamine'],inplace=True)"
   ]
  },
  {
   "cell_type": "code",
   "execution_count": 79,
   "metadata": {},
   "outputs": [
    {
     "data": {
      "image/png": "[encoded data removed]",
      "text/plain": [
       "<Figure size 1000x1000 with 2 Axes>"
      ]
     },
     "metadata": {},
     "output_type": "display_data"
    }
   ],
   "source": [
    "import seaborn as sns\n",
    "import matplotlib.pyplot as plt\n",
    "\n",
    "colormap = plt.cm.RdBu\n",
    "\n",
    "mask = np.zeros(new_df[columns_for_corr].corr().shape, dtype=bool)\n",
    "mask[np.tril_indices(len(mask))] = True\n",
    "mask = ~mask\n",
    "\n",
    "\n",
    "plt.figure(figsize=(10,10))\n",
    "\n",
    "sns.set(font_scale=1.4)\n",
    "plt.title('Pearson Correlation of Features', y=1.05, size=15)\n",
    "\n",
    "sns.heatmap(new_df[columns_for_corr].corr(), mask = mask, linewidths=0.1,vmax=1.0, square=True, cmap=colormap, linecolor='white', annot=False)\n",
    "\n",
    "plt.savefig('eicu_corr_jama.png',dpi=450, facecolor='white', bbox_inches = 'tight',transparent=True)\n",
    "plt.show()"
   ]
  },
  {
   "cell_type": "markdown",
   "metadata": {},
   "source": [
    "# Imputation"
   ]
  },
  {
   "cell_type": "code",
   "execution_count": 80,
   "metadata": {},
   "outputs": [],
   "source": [
    "def check(x):\n",
    "    try:\n",
    "        x = float(str(x).strip())\n",
    "    except:\n",
    "        x = np.nan\n",
    "    return x\n",
    "\n",
    "def check_itemvalue(df):\n",
    "    for c in df.columns:\n",
    "        df[c] = df[c].apply(lambda x: check(x))\n",
    "    return df\n"
   ]
  },
  {
   "cell_type": "code",
   "execution_count": 81,
   "metadata": {},
   "outputs": [
    {
     "data": {
      "text/plain": [
       "Index(['patientunitstayid', 'uniquepid', 'itemoffset', 'gender', 'age',\n",
       "       'admissionheight', 'admissionweight', 'Heart Rate', 'O2 Saturation',\n",
       "       'glucose', 'Temperature (C)', 'sodium', 'BUN', 'WBC x 1000',\n",
       "       'direct bilirubin', 'Hemoglobin', 'Platelets', 'Potassium', 'Chloride',\n",
       "       'Bicarbonate', 'Creatinine', 'ALT', 'AST', 'Alkaline Phosphate', 'CAM',\n",
       "       'labelrec', 'labelpt'],\n",
       "      dtype='object')"
      ]
     },
     "execution_count": 81,
     "metadata": {},
     "output_type": "execute_result"
    }
   ],
   "source": [
    "new_df.reset_index(inplace=True,drop=True)\n",
    "new_df.columns"
   ]
  },
  {
   "cell_type": "code",
   "execution_count": null,
   "metadata": {},
   "outputs": [],
   "source": [
    "#rename admissionheight and admissionweight\n",
    "new_df.rename(columns={\n",
    "    'admissionheight': 'Height',\n",
    "    'admissionweight': 'Weight'\n",
    "}, inplace=True)"
   ]
  },
  {
   "cell_type": "code",
   "execution_count": 85,
   "metadata": {},
   "outputs": [],
   "source": [
    "mean_columns = ['age', 'Height','Weight']"
   ]
  },
  {
   "cell_type": "code",
   "execution_count": 86,
   "metadata": {},
   "outputs": [],
   "source": [
    "for i in mean_columns:\n",
    "    new_df[i] = new_df[i].fillna(new_df.groupby(\"patientunitstayid\")[i].transform('mean'))"
   ]
  },
  {
   "cell_type": "code",
   "execution_count": 87,
   "metadata": {},
   "outputs": [],
   "source": [
    "## Impute with mean of whole cohort\n",
    "for i in mean_columns:\n",
    "    new_df[i] = new_df[i].fillna(new_df[i].mean())"
   ]
  },
  {
   "cell_type": "code",
   "execution_count": 88,
   "metadata": {},
   "outputs": [
    {
     "data": {
      "text/plain": [
       "Index(['patientunitstayid', 'uniquepid', 'itemoffset', 'gender', 'age',\n",
       "       'Height', 'Weight', 'Heart Rate', 'O2 Saturation', 'glucose',\n",
       "       'Temperature (C)', 'sodium', 'BUN', 'WBC x 1000', 'direct bilirubin',\n",
       "       'Hemoglobin', 'Platelets', 'Potassium', 'Chloride', 'Bicarbonate',\n",
       "       'Creatinine', 'ALT', 'AST', 'Alkaline Phosphate', 'CAM', 'labelrec',\n",
       "       'labelpt'],\n",
       "      dtype='object')"
      ]
     },
     "execution_count": 88,
     "metadata": {},
     "output_type": "execute_result"
    }
   ],
   "source": [
    "new_df.columns"
   ]
  },
  {
   "cell_type": "markdown",
   "metadata": {},
   "source": [
    "# No. of Patients"
   ]
  },
  {
   "cell_type": "code",
   "execution_count": 89,
   "metadata": {},
   "outputs": [
    {
     "data": {
      "text/plain": [
       "(2262356, 27)"
      ]
     },
     "execution_count": 89,
     "metadata": {},
     "output_type": "execute_result"
    }
   ],
   "source": [
    "new_df.shape"
   ]
  },
  {
   "cell_type": "code",
   "execution_count": 90,
   "metadata": {},
   "outputs": [
    {
     "data": {
      "text/plain": [
       "(24627, 26)"
      ]
     },
     "execution_count": 90,
     "metadata": {},
     "output_type": "execute_result"
    }
   ],
   "source": [
    "new_df.groupby(\"patientunitstayid\").count().shape\n"
   ]
  },
  {
   "cell_type": "code",
   "execution_count": 91,
   "metadata": {},
   "outputs": [
    {
     "data": {
      "text/plain": [
       "(19727, 26)"
      ]
     },
     "execution_count": 91,
     "metadata": {},
     "output_type": "execute_result"
    }
   ],
   "source": [
    "new_df.groupby(\"uniquepid\").count().shape\n"
   ]
  },
  {
   "cell_type": "markdown",
   "metadata": {},
   "source": [
    "# Length of Stay (LOS)"
   ]
  },
  {
   "cell_type": "markdown",
   "metadata": {},
   "source": [
    "## checkpoint 4"
   ]
  },
  {
   "cell_type": "markdown",
   "metadata": {},
   "source": [
    "## Merging LOS data"
   ]
  },
  {
   "cell_type": "code",
   "execution_count": null,
   "metadata": {},
   "outputs": [
    {
     "name": "stdout",
     "output_type": "stream",
     "text": [
      "shape of new_df: (2262356, 27)\n",
      "number of unique patientunitstayid: 24627\n",
      "number of unique uniquepid: 19727\n",
      "count of stayid '1009163': 37\n"
     ]
    }
   ],
   "source": [
    "#save new_df\n",
    "# new_df.to_csv(os.path.join(data_processed_path, 'checkpoint4.csv'), index=False)\n",
    "#read\n",
    "# new_df = pd.read_csv(os.path.join(data_processed_path, 'checkpoint4.csv'))\n",
    "\n",
    "print(\"shape of new_df:\", new_df.shape)\n",
    "print(\"number of unique patientunitstayid:\", new_df['patientunitstayid'].nunique())\n",
    "print(\"number of unique uniquepid:\", new_df['uniquepid'].nunique())\n",
    "print(\"count of stayid '1009163':\", new_df[new_df['patientunitstayid'] == 1009163].shape[0])"
   ]
  },
  {
   "cell_type": "code",
   "execution_count": 146,
   "metadata": {},
   "outputs": [
    {
     "name": "stdout",
     "output_type": "stream",
     "text": [
      "shape of new_df_los: (4277453, 28)\n",
      "number of unique patientunitstayid: 24627\n",
      "number of unique uniquepid: 19727\n",
      "count of stayid '1009163': 74\n"
     ]
    }
   ],
   "source": [
    "los = pd.read_csv(os.path.join(eicu_path, 'apachePatientResult.csv'))\n",
    "los = los[['patientunitstayid','actualiculos']]\n",
    "los['actualiculos'] = los['actualiculos'] * 24\n",
    "los.rename(columns={\"actualiculos\": \"LOS\"},inplace=True)\n",
    "new_df_los = pd.merge(new_df, los, how='left', left_on=['patientunitstayid'],right_on=['patientunitstayid'])\n",
    "print(\"shape of new_df_los:\", new_df_los.shape)\n",
    "print(\"number of unique patientunitstayid:\", new_df_los['patientunitstayid'].nunique())\n",
    "print(\"number of unique uniquepid:\", new_df_los['uniquepid'].nunique())\n",
    "print(\"count of stayid '1009163':\", new_df_los[new_df_los['patientunitstayid'] == 1009163].shape[0])"
   ]
  },
  {
   "cell_type": "code",
   "execution_count": 147,
   "metadata": {},
   "outputs": [
    {
     "name": "stdout",
     "output_type": "stream",
     "text": [
      "before dropping duplicates, shape of new_df_los: (3654606, 28)\n",
      "after dropping duplicates, shape of new_df_los_nodups: (1827303, 28)\n"
     ]
    }
   ],
   "source": [
    "new_df_los = new_df_los[new_df_los['LOS']>=24]       \n",
    "new_df_los = new_df_los[new_df_los['itemoffset'] > 0] #CHANGE TO ZERO\n",
    "print(\"before dropping duplicates, shape of new_df_los:\", new_df_los.shape)\n",
    "new_df_los_nodups = new_df_los.drop_duplicates()\n",
    "print(\"after dropping duplicates, shape of new_df_los_nodups:\", new_df_los_nodups.shape)"
   ]
  },
  {
   "cell_type": "code",
   "execution_count": 148,
   "metadata": {},
   "outputs": [],
   "source": [
    "label_deli = new_df_los_nodups.copy()\n",
    "label_deli['labelrec'] = np.nan\n",
    "label_deli.loc[label_deli['CAM']==1,'labelrec']=1\n",
    "label_deli.loc[label_deli['CAM']==0,'labelrec']=0\n",
    "label_deli['labelpt'] = np.nan\n",
    "pos_cam_coh = label_deli[label_deli['labelrec']==1]['patientunitstayid'].unique()\n",
    "label_deli.loc[label_deli['patientunitstayid'].isin(pos_cam_coh), 'labelpt']=1\n",
    "label_deli.loc[~(label_deli['patientunitstayid'].isin(pos_cam_coh)), 'labelpt']=0\n",
    "pos_cam_df = label_deli[label_deli['labelpt']==1]\n",
    "neg_cam_df = label_deli[label_deli['labelpt']==0]\n",
    "pos_cam_df.reset_index(inplace=True)\n",
    "pos_cam_df = pos_cam_df.drop(columns=['index'])\n",
    "neg_cam_df.reset_index(inplace=True)\n",
    "neg_cam_df = neg_cam_df.drop(columns=['index'])\n",
    "neg_cam_df['CAM'] = neg_cam_df['labelpt']\n",
    "pos_cam_df['CAM'] = pos_cam_df['labelpt']\n",
    "pos_cam_df.to_csv(os.path.join(data_processed_path, 'pos_eicu_notimputed_24los.csv'), index=False)\n",
    "neg_cam_df.to_csv(os.path.join(data_processed_path, 'neg_eicu_notimputed_24los.csv'), index=False)"
   ]
  },
  {
   "cell_type": "markdown",
   "metadata": {},
   "source": [
    "## Missing values"
   ]
  },
  {
   "cell_type": "markdown",
   "metadata": {},
   "source": [
    "### checkpoint 5"
   ]
  },
  {
   "cell_type": "code",
   "execution_count": 150,
   "metadata": {},
   "outputs": [],
   "source": [
    "# labe deli\n",
    "label_deli.to_csv(os.path.join(data_processed_path, 'eicu_notimputed_24los.csv'), index=False)\n",
    "label_deli = pd.read_csv(os.path.join(data_processed_path, 'eicu_notimputed_24los.csv'))"
   ]
  },
  {
   "cell_type": "code",
   "execution_count": 151,
   "metadata": {},
   "outputs": [
    {
     "data": {
      "text/plain": [
       "(16546, 27)"
      ]
     },
     "execution_count": 151,
     "metadata": {},
     "output_type": "execute_result"
    }
   ],
   "source": [
    "new_df_los_nodups.groupby(\"patientunitstayid\").count().shape"
   ]
  },
  {
   "cell_type": "code",
   "execution_count": 152,
   "metadata": {},
   "outputs": [
    {
     "data": {
      "text/plain": [
       "(14228, 27)"
      ]
     },
     "execution_count": 152,
     "metadata": {},
     "output_type": "execute_result"
    }
   ],
   "source": [
    "new_df_los_nodups.groupby(\"uniquepid\").count().shape"
   ]
  },
  {
   "cell_type": "code",
   "execution_count": null,
   "metadata": {},
   "outputs": [],
   "source": [
    "# zero_columns = ['vent_flag', 'rate_dopamine', 'rate_epinephrine', 'rate_norepinephrine',\n",
    "#        'rate_phenylephrine']\n",
    "# new_df[zero_columns] = new_df[zero_columns].fillna(value=0)"
   ]
  },
  {
   "cell_type": "code",
   "execution_count": 153,
   "metadata": {},
   "outputs": [
    {
     "name": "stderr",
     "output_type": "stream",
     "text": [
      "C:\\Users\\URHU\\AppData\\Local\\Temp\\ipykernel_33684\\628855616.py:9: FutureWarning: DataFrameGroupBy.apply operated on the grouping columns. This behavior is deprecated, and in a future version of pandas the grouping columns will be excluded from the operation. Either pass `include_groups=False` to exclude the groupings or explicitly select the grouping columns after groupby to silence this warning.\n",
      "  df_g = new_df[columns_order].groupby(\"patientunitstayid\").apply(lambda x: x.drop('patientunitstayid', axis=1).notnull().mean())\n"
     ]
    },
    {
     "data": {
      "text/html": [
       "<div>\n",
       "<style scoped>\n",
       "    .dataframe tbody tr th:only-of-type {\n",
       "        vertical-align: middle;\n",
       "    }\n",
       "\n",
       "    .dataframe tbody tr th {\n",
       "        vertical-align: top;\n",
       "    }\n",
       "\n",
       "    .dataframe thead th {\n",
       "        text-align: right;\n",
       "    }\n",
       "</style>\n",
       "<table border=\"1\" class=\"dataframe\">\n",
       "  <thead>\n",
       "    <tr style=\"text-align: right;\">\n",
       "      <th></th>\n",
       "      <th>column_name</th>\n",
       "      <th>percent_missing</th>\n",
       "    </tr>\n",
       "  </thead>\n",
       "  <tbody>\n",
       "    <tr>\n",
       "      <th>0</th>\n",
       "      <td>uniquepid</td>\n",
       "      <td>0.000000</td>\n",
       "    </tr>\n",
       "    <tr>\n",
       "      <th>1</th>\n",
       "      <td>itemoffset</td>\n",
       "      <td>0.000000</td>\n",
       "    </tr>\n",
       "    <tr>\n",
       "      <th>2</th>\n",
       "      <td>gender</td>\n",
       "      <td>0.000000</td>\n",
       "    </tr>\n",
       "    <tr>\n",
       "      <th>3</th>\n",
       "      <td>age</td>\n",
       "      <td>0.000000</td>\n",
       "    </tr>\n",
       "    <tr>\n",
       "      <th>4</th>\n",
       "      <td>Height</td>\n",
       "      <td>0.000000</td>\n",
       "    </tr>\n",
       "    <tr>\n",
       "      <th>5</th>\n",
       "      <td>Weight</td>\n",
       "      <td>0.000000</td>\n",
       "    </tr>\n",
       "    <tr>\n",
       "      <th>6</th>\n",
       "      <td>labelpt</td>\n",
       "      <td>0.000000</td>\n",
       "    </tr>\n",
       "    <tr>\n",
       "      <th>7</th>\n",
       "      <td>CAM</td>\n",
       "      <td>0.000000</td>\n",
       "    </tr>\n",
       "    <tr>\n",
       "      <th>8</th>\n",
       "      <td>Temperature (C)</td>\n",
       "      <td>1.628294</td>\n",
       "    </tr>\n",
       "    <tr>\n",
       "      <th>9</th>\n",
       "      <td>Heart Rate</td>\n",
       "      <td>4.186462</td>\n",
       "    </tr>\n",
       "    <tr>\n",
       "      <th>10</th>\n",
       "      <td>O2 Saturation</td>\n",
       "      <td>4.263613</td>\n",
       "    </tr>\n",
       "    <tr>\n",
       "      <th>11</th>\n",
       "      <td>glucose</td>\n",
       "      <td>7.438990</td>\n",
       "    </tr>\n",
       "    <tr>\n",
       "      <th>12</th>\n",
       "      <td>Potassium</td>\n",
       "      <td>11.073212</td>\n",
       "    </tr>\n",
       "    <tr>\n",
       "      <th>13</th>\n",
       "      <td>sodium</td>\n",
       "      <td>11.255939</td>\n",
       "    </tr>\n",
       "    <tr>\n",
       "      <th>14</th>\n",
       "      <td>Chloride</td>\n",
       "      <td>11.629512</td>\n",
       "    </tr>\n",
       "    <tr>\n",
       "      <th>15</th>\n",
       "      <td>Creatinine</td>\n",
       "      <td>11.670118</td>\n",
       "    </tr>\n",
       "    <tr>\n",
       "      <th>16</th>\n",
       "      <td>BUN</td>\n",
       "      <td>11.836602</td>\n",
       "    </tr>\n",
       "    <tr>\n",
       "      <th>17</th>\n",
       "      <td>Hemoglobin</td>\n",
       "      <td>12.677143</td>\n",
       "    </tr>\n",
       "    <tr>\n",
       "      <th>18</th>\n",
       "      <td>WBC x 1000</td>\n",
       "      <td>13.777561</td>\n",
       "    </tr>\n",
       "    <tr>\n",
       "      <th>19</th>\n",
       "      <td>labelrec</td>\n",
       "      <td>14.508466</td>\n",
       "    </tr>\n",
       "    <tr>\n",
       "      <th>20</th>\n",
       "      <td>Bicarbonate</td>\n",
       "      <td>14.788647</td>\n",
       "    </tr>\n",
       "    <tr>\n",
       "      <th>21</th>\n",
       "      <td>Platelets</td>\n",
       "      <td>15.243432</td>\n",
       "    </tr>\n",
       "    <tr>\n",
       "      <th>22</th>\n",
       "      <td>AST</td>\n",
       "      <td>50.318756</td>\n",
       "    </tr>\n",
       "    <tr>\n",
       "      <th>23</th>\n",
       "      <td>Alkaline Phosphate</td>\n",
       "      <td>50.736996</td>\n",
       "    </tr>\n",
       "    <tr>\n",
       "      <th>24</th>\n",
       "      <td>ALT</td>\n",
       "      <td>50.935965</td>\n",
       "    </tr>\n",
       "    <tr>\n",
       "      <th>25</th>\n",
       "      <td>direct bilirubin</td>\n",
       "      <td>86.502619</td>\n",
       "    </tr>\n",
       "  </tbody>\n",
       "</table>\n",
       "</div>"
      ],
      "text/plain": [
       "           column_name  percent_missing\n",
       "0            uniquepid         0.000000\n",
       "1           itemoffset         0.000000\n",
       "2               gender         0.000000\n",
       "3                  age         0.000000\n",
       "4               Height         0.000000\n",
       "5               Weight         0.000000\n",
       "6              labelpt         0.000000\n",
       "7                  CAM         0.000000\n",
       "8      Temperature (C)         1.628294\n",
       "9           Heart Rate         4.186462\n",
       "10       O2 Saturation         4.263613\n",
       "11             glucose         7.438990\n",
       "12           Potassium        11.073212\n",
       "13              sodium        11.255939\n",
       "14            Chloride        11.629512\n",
       "15          Creatinine        11.670118\n",
       "16                 BUN        11.836602\n",
       "17          Hemoglobin        12.677143\n",
       "18          WBC x 1000        13.777561\n",
       "19            labelrec        14.508466\n",
       "20         Bicarbonate        14.788647\n",
       "21           Platelets        15.243432\n",
       "22                 AST        50.318756\n",
       "23  Alkaline Phosphate        50.736996\n",
       "24                 ALT        50.935965\n",
       "25    direct bilirubin        86.502619"
      ]
     },
     "execution_count": 153,
     "metadata": {},
     "output_type": "execute_result"
    }
   ],
   "source": [
    "columns_order = ['patientunitstayid', 'uniquepid', 'itemoffset', 'gender', 'age',\n",
    "       'Height', 'Weight', 'Heart Rate', 'O2 Saturation', 'glucose',\n",
    "       'Temperature (C)', 'sodium', 'BUN', 'WBC x 1000', 'direct bilirubin', 'Hemoglobin',\n",
    "       'Platelets', 'Potassium', 'Chloride', 'Bicarbonate', 'Creatinine',\n",
    "       'ALT', 'AST', 'Alkaline Phosphate', 'CAM', 'labelrec', 'labelpt']\n",
    "\n",
    "# PATIENT WISE ZERO FILL\n",
    "\n",
    "df_g = new_df[columns_order].groupby(\"patientunitstayid\").apply(lambda x: x.drop('patientunitstayid', axis=1).notnull().mean())\n",
    "\n",
    "for i in df_g.columns:\n",
    "    df_g[i] = df_g[i].replace({0:np.nan})\n",
    "\n",
    "    \n",
    "    #after Imputation\n",
    "\n",
    "import missingno as msno\n",
    "import seaborn as sns\n",
    "import matplotlib.pyplot as plt\n",
    "columns = df_g.columns\n",
    "percent_missing = df_g.isnull().sum() * 100 / len(df_g)\n",
    "missing_value_df = pd.DataFrame({'column_name': columns,'percent_missing': percent_missing})\n",
    "missing_value_df.sort_values('percent_missing', inplace=True)\n",
    "missing_value_df.reset_index(inplace=True, drop=True)\n",
    "missing_value_df"
   ]
  },
  {
   "cell_type": "markdown",
   "metadata": {},
   "source": [
    "## Ffill"
   ]
  },
  {
   "cell_type": "code",
   "execution_count": 154,
   "metadata": {},
   "outputs": [
    {
     "data": {
      "text/plain": [
       "Index(['patientunitstayid', 'uniquepid', 'itemoffset', 'gender', 'age',\n",
       "       'Height', 'Weight', 'Heart Rate', 'O2 Saturation', 'glucose',\n",
       "       'Temperature (C)', 'sodium', 'BUN', 'WBC x 1000', 'direct bilirubin',\n",
       "       'Hemoglobin', 'Platelets', 'Potassium', 'Chloride', 'Bicarbonate',\n",
       "       'Creatinine', 'ALT', 'AST', 'Alkaline Phosphate', 'CAM', 'labelrec',\n",
       "       'labelpt'],\n",
       "      dtype='object')"
      ]
     },
     "execution_count": 154,
     "metadata": {},
     "output_type": "execute_result"
    }
   ],
   "source": [
    "new_df.columns"
   ]
  },
  {
   "cell_type": "code",
   "execution_count": 155,
   "metadata": {},
   "outputs": [],
   "source": [
    "forward_columns = ['Heart Rate', 'O2 Saturation', 'glucose',\n",
    "       'Temperature (C)', 'sodium', 'BUN', 'WBC x 1000', 'direct bilirubin',\n",
    "       'Hemoglobin', 'Platelets', 'Potassium', 'Chloride', 'Bicarbonate',\n",
    "       'Creatinine', 'ALT', 'AST', 'Alkaline Phosphate', \n",
    "       # 'sofa', 'sofa_wo_gcs','fluidin', 'fluidout'\n",
    "       ]"
   ]
  },
  {
   "cell_type": "code",
   "execution_count": 156,
   "metadata": {},
   "outputs": [
    {
     "data": {
      "application/vnd.jupyter.widget-view+json": {
       "model_id": "a6ebe871db7c43bf8dbb9f35e4dd0106",
       "version_major": 2,
       "version_minor": 0
      },
      "text/plain": [
       "  0%|          | 0/17 [00:00<?, ?it/s]"
      ]
     },
     "metadata": {},
     "output_type": "display_data"
    }
   ],
   "source": [
    "for i in tqdm(forward_columns):\n",
    "    new_df[i] = new_df.groupby(\"patientunitstayid\")[i].transform(lambda v: v.ffill())"
   ]
  },
  {
   "cell_type": "code",
   "execution_count": 157,
   "metadata": {},
   "outputs": [
    {
     "name": "stderr",
     "output_type": "stream",
     "text": [
      "C:\\Users\\URHU\\AppData\\Local\\Temp\\ipykernel_33684\\3349158753.py:3: FutureWarning: DataFrameGroupBy.apply operated on the grouping columns. This behavior is deprecated, and in a future version of pandas the grouping columns will be excluded from the operation. Either pass `include_groups=False` to exclude the groupings or explicitly select the grouping columns after groupby to silence this warning.\n",
      "  df_g = new_df[columns_order].groupby(\"patientunitstayid\", group_keys=False).apply(lambda x: x.drop('patientunitstayid', axis=1).notnull().mean())\n"
     ]
    },
    {
     "data": {
      "text/html": [
       "<div>\n",
       "<style scoped>\n",
       "    .dataframe tbody tr th:only-of-type {\n",
       "        vertical-align: middle;\n",
       "    }\n",
       "\n",
       "    .dataframe tbody tr th {\n",
       "        vertical-align: top;\n",
       "    }\n",
       "\n",
       "    .dataframe thead th {\n",
       "        text-align: right;\n",
       "    }\n",
       "</style>\n",
       "<table border=\"1\" class=\"dataframe\">\n",
       "  <thead>\n",
       "    <tr style=\"text-align: right;\">\n",
       "      <th></th>\n",
       "      <th>column_name</th>\n",
       "      <th>percent_missing</th>\n",
       "    </tr>\n",
       "  </thead>\n",
       "  <tbody>\n",
       "    <tr>\n",
       "      <th>0</th>\n",
       "      <td>uniquepid</td>\n",
       "      <td>0.000000</td>\n",
       "    </tr>\n",
       "    <tr>\n",
       "      <th>1</th>\n",
       "      <td>itemoffset</td>\n",
       "      <td>0.000000</td>\n",
       "    </tr>\n",
       "    <tr>\n",
       "      <th>2</th>\n",
       "      <td>gender</td>\n",
       "      <td>0.000000</td>\n",
       "    </tr>\n",
       "    <tr>\n",
       "      <th>3</th>\n",
       "      <td>age</td>\n",
       "      <td>0.000000</td>\n",
       "    </tr>\n",
       "    <tr>\n",
       "      <th>4</th>\n",
       "      <td>Height</td>\n",
       "      <td>0.000000</td>\n",
       "    </tr>\n",
       "    <tr>\n",
       "      <th>5</th>\n",
       "      <td>Weight</td>\n",
       "      <td>0.000000</td>\n",
       "    </tr>\n",
       "    <tr>\n",
       "      <th>6</th>\n",
       "      <td>labelpt</td>\n",
       "      <td>0.000000</td>\n",
       "    </tr>\n",
       "    <tr>\n",
       "      <th>7</th>\n",
       "      <td>CAM</td>\n",
       "      <td>0.000000</td>\n",
       "    </tr>\n",
       "    <tr>\n",
       "      <th>8</th>\n",
       "      <td>Temperature (C)</td>\n",
       "      <td>1.628294</td>\n",
       "    </tr>\n",
       "    <tr>\n",
       "      <th>9</th>\n",
       "      <td>Heart Rate</td>\n",
       "      <td>4.186462</td>\n",
       "    </tr>\n",
       "    <tr>\n",
       "      <th>10</th>\n",
       "      <td>O2 Saturation</td>\n",
       "      <td>4.263613</td>\n",
       "    </tr>\n",
       "    <tr>\n",
       "      <th>11</th>\n",
       "      <td>glucose</td>\n",
       "      <td>7.438990</td>\n",
       "    </tr>\n",
       "    <tr>\n",
       "      <th>12</th>\n",
       "      <td>Potassium</td>\n",
       "      <td>11.073212</td>\n",
       "    </tr>\n",
       "    <tr>\n",
       "      <th>13</th>\n",
       "      <td>sodium</td>\n",
       "      <td>11.255939</td>\n",
       "    </tr>\n",
       "    <tr>\n",
       "      <th>14</th>\n",
       "      <td>Chloride</td>\n",
       "      <td>11.629512</td>\n",
       "    </tr>\n",
       "    <tr>\n",
       "      <th>15</th>\n",
       "      <td>Creatinine</td>\n",
       "      <td>11.670118</td>\n",
       "    </tr>\n",
       "    <tr>\n",
       "      <th>16</th>\n",
       "      <td>BUN</td>\n",
       "      <td>11.836602</td>\n",
       "    </tr>\n",
       "    <tr>\n",
       "      <th>17</th>\n",
       "      <td>Hemoglobin</td>\n",
       "      <td>12.677143</td>\n",
       "    </tr>\n",
       "    <tr>\n",
       "      <th>18</th>\n",
       "      <td>WBC x 1000</td>\n",
       "      <td>13.777561</td>\n",
       "    </tr>\n",
       "    <tr>\n",
       "      <th>19</th>\n",
       "      <td>labelrec</td>\n",
       "      <td>14.508466</td>\n",
       "    </tr>\n",
       "    <tr>\n",
       "      <th>20</th>\n",
       "      <td>Bicarbonate</td>\n",
       "      <td>14.788647</td>\n",
       "    </tr>\n",
       "    <tr>\n",
       "      <th>21</th>\n",
       "      <td>Platelets</td>\n",
       "      <td>15.243432</td>\n",
       "    </tr>\n",
       "    <tr>\n",
       "      <th>22</th>\n",
       "      <td>AST</td>\n",
       "      <td>50.318756</td>\n",
       "    </tr>\n",
       "    <tr>\n",
       "      <th>23</th>\n",
       "      <td>Alkaline Phosphate</td>\n",
       "      <td>50.736996</td>\n",
       "    </tr>\n",
       "    <tr>\n",
       "      <th>24</th>\n",
       "      <td>ALT</td>\n",
       "      <td>50.935965</td>\n",
       "    </tr>\n",
       "    <tr>\n",
       "      <th>25</th>\n",
       "      <td>direct bilirubin</td>\n",
       "      <td>86.502619</td>\n",
       "    </tr>\n",
       "  </tbody>\n",
       "</table>\n",
       "</div>"
      ],
      "text/plain": [
       "           column_name  percent_missing\n",
       "0            uniquepid         0.000000\n",
       "1           itemoffset         0.000000\n",
       "2               gender         0.000000\n",
       "3                  age         0.000000\n",
       "4               Height         0.000000\n",
       "5               Weight         0.000000\n",
       "6              labelpt         0.000000\n",
       "7                  CAM         0.000000\n",
       "8      Temperature (C)         1.628294\n",
       "9           Heart Rate         4.186462\n",
       "10       O2 Saturation         4.263613\n",
       "11             glucose         7.438990\n",
       "12           Potassium        11.073212\n",
       "13              sodium        11.255939\n",
       "14            Chloride        11.629512\n",
       "15          Creatinine        11.670118\n",
       "16                 BUN        11.836602\n",
       "17          Hemoglobin        12.677143\n",
       "18          WBC x 1000        13.777561\n",
       "19            labelrec        14.508466\n",
       "20         Bicarbonate        14.788647\n",
       "21           Platelets        15.243432\n",
       "22                 AST        50.318756\n",
       "23  Alkaline Phosphate        50.736996\n",
       "24                 ALT        50.935965\n",
       "25    direct bilirubin        86.502619"
      ]
     },
     "execution_count": 157,
     "metadata": {},
     "output_type": "execute_result"
    }
   ],
   "source": [
    "# PATIENT WISE FORWARD FILL\n",
    "# To avoid the FutureWarning, exclude the grouping column from the operation:\n",
    "df_g = new_df[columns_order].groupby(\"patientunitstayid\", group_keys=False).apply(lambda x: x.drop('patientunitstayid', axis=1).notnull().mean())\n",
    "\n",
    "for i in df_g.columns:\n",
    "    df_g[i] = df_g[i].replace({0:np.nan})\n",
    "\n",
    "    \n",
    "    #after Imputation\n",
    "\n",
    "import missingno as msno\n",
    "import seaborn as sns\n",
    "import matplotlib.pyplot as plt\n",
    "columns = df_g.columns\n",
    "percent_missing = df_g.isnull().sum() * 100 / len(df_g)\n",
    "missing_value_df = pd.DataFrame({'column_name': columns,'percent_missing': percent_missing})\n",
    "missing_value_df.sort_values('percent_missing', inplace=True)\n",
    "missing_value_df.reset_index(inplace=True, drop=True)\n",
    "missing_value_df"
   ]
  },
  {
   "cell_type": "markdown",
   "metadata": {},
   "source": [
    "## BFill"
   ]
  },
  {
   "cell_type": "code",
   "execution_count": 158,
   "metadata": {},
   "outputs": [],
   "source": [
    "backward_columns = forward_columns"
   ]
  },
  {
   "cell_type": "code",
   "execution_count": 159,
   "metadata": {},
   "outputs": [
    {
     "data": {
      "application/vnd.jupyter.widget-view+json": {
       "model_id": "16580e46c7fd4d63bc3dcd44a56ef0dd",
       "version_major": 2,
       "version_minor": 0
      },
      "text/plain": [
       "  0%|          | 0/17 [00:00<?, ?it/s]"
      ]
     },
     "metadata": {},
     "output_type": "display_data"
    }
   ],
   "source": [
    "for i in tqdm(backward_columns):\n",
    "    new_df[i] = new_df.groupby(\"patientunitstayid\")[i].transform(lambda v: v.bfill())"
   ]
  },
  {
   "cell_type": "code",
   "execution_count": 160,
   "metadata": {},
   "outputs": [
    {
     "data": {
      "text/plain": [
       "(24627, (2262356, 27))"
      ]
     },
     "execution_count": 160,
     "metadata": {},
     "output_type": "execute_result"
    }
   ],
   "source": [
    "new_df.patientunitstayid.nunique(), new_df.shape"
   ]
  },
  {
   "cell_type": "markdown",
   "metadata": {},
   "source": [
    "## retake cam"
   ]
  },
  {
   "cell_type": "code",
   "execution_count": null,
   "metadata": {},
   "outputs": [
    {
     "data": {
      "text/plain": [
       "(1827303, 28)"
      ]
     },
     "execution_count": 161,
     "metadata": {},
     "output_type": "execute_result"
    }
   ],
   "source": [
    "los = pd.read_csv(os.path.join(eicu_path, 'apachePatientResult.csv'))\n",
    "los = los[['patientunitstayid','actualiculos']]\n",
    "los['actualiculos'] = los['actualiculos'] * 24\n",
    "los.rename(columns={\"actualiculos\": \"LOS\"},inplace=True)\n",
    "new_df_los = pd.merge(new_df, los, how='left', left_on=['patientunitstayid'],right_on=['patientunitstayid'])\n",
    "new_df_los = new_df_los[new_df_los['LOS']>=24]\n",
    "new_df_los = new_df_los[new_df_los['itemoffset'] > 0] #CHANGE TO ZERO\n",
    "new_df_los_nodups = new_df_los.drop_duplicates()\n",
    "new_df_los_nodups.shape"
   ]
  },
  {
   "cell_type": "code",
   "execution_count": 162,
   "metadata": {},
   "outputs": [
    {
     "name": "stderr",
     "output_type": "stream",
     "text": [
      "C:\\Users\\URHU\\AppData\\Local\\Temp\\ipykernel_33684\\1713887086.py:2: FutureWarning: DataFrameGroupBy.apply operated on the grouping columns. This behavior is deprecated, and in a future version of pandas the grouping columns will be excluded from the operation. Either pass `include_groups=False` to exclude the groupings or explicitly select the grouping columns after groupby to silence this warning.\n",
      "  df_g = new_df_los_nodups[columns_order].groupby(\"patientunitstayid\").apply(lambda x: x.notnull().mean())\n"
     ]
    },
    {
     "data": {
      "text/html": [
       "<div>\n",
       "<style scoped>\n",
       "    .dataframe tbody tr th:only-of-type {\n",
       "        vertical-align: middle;\n",
       "    }\n",
       "\n",
       "    .dataframe tbody tr th {\n",
       "        vertical-align: top;\n",
       "    }\n",
       "\n",
       "    .dataframe thead th {\n",
       "        text-align: right;\n",
       "    }\n",
       "</style>\n",
       "<table border=\"1\" class=\"dataframe\">\n",
       "  <thead>\n",
       "    <tr style=\"text-align: right;\">\n",
       "      <th></th>\n",
       "      <th>column_name</th>\n",
       "      <th>percent_missing</th>\n",
       "    </tr>\n",
       "  </thead>\n",
       "  <tbody>\n",
       "    <tr>\n",
       "      <th>0</th>\n",
       "      <td>patientunitstayid</td>\n",
       "      <td>0.000000</td>\n",
       "    </tr>\n",
       "    <tr>\n",
       "      <th>1</th>\n",
       "      <td>uniquepid</td>\n",
       "      <td>0.000000</td>\n",
       "    </tr>\n",
       "    <tr>\n",
       "      <th>2</th>\n",
       "      <td>itemoffset</td>\n",
       "      <td>0.000000</td>\n",
       "    </tr>\n",
       "    <tr>\n",
       "      <th>3</th>\n",
       "      <td>gender</td>\n",
       "      <td>0.000000</td>\n",
       "    </tr>\n",
       "    <tr>\n",
       "      <th>4</th>\n",
       "      <td>age</td>\n",
       "      <td>0.000000</td>\n",
       "    </tr>\n",
       "    <tr>\n",
       "      <th>5</th>\n",
       "      <td>Height</td>\n",
       "      <td>0.000000</td>\n",
       "    </tr>\n",
       "    <tr>\n",
       "      <th>6</th>\n",
       "      <td>Weight</td>\n",
       "      <td>0.000000</td>\n",
       "    </tr>\n",
       "    <tr>\n",
       "      <th>7</th>\n",
       "      <td>labelpt</td>\n",
       "      <td>0.000000</td>\n",
       "    </tr>\n",
       "    <tr>\n",
       "      <th>8</th>\n",
       "      <td>CAM</td>\n",
       "      <td>0.000000</td>\n",
       "    </tr>\n",
       "    <tr>\n",
       "      <th>9</th>\n",
       "      <td>Temperature (C)</td>\n",
       "      <td>0.278013</td>\n",
       "    </tr>\n",
       "    <tr>\n",
       "      <th>10</th>\n",
       "      <td>Heart Rate</td>\n",
       "      <td>3.662517</td>\n",
       "    </tr>\n",
       "    <tr>\n",
       "      <th>11</th>\n",
       "      <td>O2 Saturation</td>\n",
       "      <td>3.747129</td>\n",
       "    </tr>\n",
       "    <tr>\n",
       "      <th>12</th>\n",
       "      <td>glucose</td>\n",
       "      <td>4.532818</td>\n",
       "    </tr>\n",
       "    <tr>\n",
       "      <th>13</th>\n",
       "      <td>Potassium</td>\n",
       "      <td>7.584915</td>\n",
       "    </tr>\n",
       "    <tr>\n",
       "      <th>14</th>\n",
       "      <td>sodium</td>\n",
       "      <td>7.772271</td>\n",
       "    </tr>\n",
       "    <tr>\n",
       "      <th>15</th>\n",
       "      <td>Chloride</td>\n",
       "      <td>8.110722</td>\n",
       "    </tr>\n",
       "    <tr>\n",
       "      <th>16</th>\n",
       "      <td>Creatinine</td>\n",
       "      <td>8.225553</td>\n",
       "    </tr>\n",
       "    <tr>\n",
       "      <th>17</th>\n",
       "      <td>BUN</td>\n",
       "      <td>8.322253</td>\n",
       "    </tr>\n",
       "    <tr>\n",
       "      <th>18</th>\n",
       "      <td>Hemoglobin</td>\n",
       "      <td>9.005198</td>\n",
       "    </tr>\n",
       "    <tr>\n",
       "      <th>19</th>\n",
       "      <td>WBC x 1000</td>\n",
       "      <td>10.014505</td>\n",
       "    </tr>\n",
       "    <tr>\n",
       "      <th>20</th>\n",
       "      <td>Bicarbonate</td>\n",
       "      <td>10.014505</td>\n",
       "    </tr>\n",
       "    <tr>\n",
       "      <th>21</th>\n",
       "      <td>Platelets</td>\n",
       "      <td>10.902937</td>\n",
       "    </tr>\n",
       "    <tr>\n",
       "      <th>22</th>\n",
       "      <td>labelrec</td>\n",
       "      <td>12.220476</td>\n",
       "    </tr>\n",
       "    <tr>\n",
       "      <th>23</th>\n",
       "      <td>AST</td>\n",
       "      <td>46.035296</td>\n",
       "    </tr>\n",
       "    <tr>\n",
       "      <th>24</th>\n",
       "      <td>Alkaline Phosphate</td>\n",
       "      <td>46.422096</td>\n",
       "    </tr>\n",
       "    <tr>\n",
       "      <th>25</th>\n",
       "      <td>ALT</td>\n",
       "      <td>46.591321</td>\n",
       "    </tr>\n",
       "    <tr>\n",
       "      <th>26</th>\n",
       "      <td>direct bilirubin</td>\n",
       "      <td>84.805995</td>\n",
       "    </tr>\n",
       "  </tbody>\n",
       "</table>\n",
       "</div>"
      ],
      "text/plain": [
       "           column_name  percent_missing\n",
       "0    patientunitstayid         0.000000\n",
       "1            uniquepid         0.000000\n",
       "2           itemoffset         0.000000\n",
       "3               gender         0.000000\n",
       "4                  age         0.000000\n",
       "5               Height         0.000000\n",
       "6               Weight         0.000000\n",
       "7              labelpt         0.000000\n",
       "8                  CAM         0.000000\n",
       "9      Temperature (C)         0.278013\n",
       "10          Heart Rate         3.662517\n",
       "11       O2 Saturation         3.747129\n",
       "12             glucose         4.532818\n",
       "13           Potassium         7.584915\n",
       "14              sodium         7.772271\n",
       "15            Chloride         8.110722\n",
       "16          Creatinine         8.225553\n",
       "17                 BUN         8.322253\n",
       "18          Hemoglobin         9.005198\n",
       "19          WBC x 1000        10.014505\n",
       "20         Bicarbonate        10.014505\n",
       "21           Platelets        10.902937\n",
       "22            labelrec        12.220476\n",
       "23                 AST        46.035296\n",
       "24  Alkaline Phosphate        46.422096\n",
       "25                 ALT        46.591321\n",
       "26    direct bilirubin        84.805995"
      ]
     },
     "execution_count": 162,
     "metadata": {},
     "output_type": "execute_result"
    }
   ],
   "source": [
    "\n",
    "# MISSING RATE After Filtering on 48 hours\n",
    "df_g = new_df_los_nodups[columns_order].groupby(\"patientunitstayid\").apply(lambda x: x.notnull().mean())\n",
    "for i in df_g.columns:\n",
    "    df_g[i] = df_g[i].replace({0:np.nan})\n",
    "    #after Imputation\n",
    "import missingno as msno\n",
    "import seaborn as sns\n",
    "import matplotlib.pyplot as plt\n",
    "columns = df_g.columns\n",
    "percent_missing = df_g.isnull().sum() * 100 / len(df_g)\n",
    "missing_value_df = pd.DataFrame({'column_name': columns,'percent_missing': percent_missing})\n",
    "missing_value_df.sort_values('percent_missing', inplace=True)\n",
    "missing_value_df.reset_index(inplace=True, drop=True)\n",
    "missing_value_df"
   ]
  },
  {
   "cell_type": "code",
   "execution_count": 163,
   "metadata": {},
   "outputs": [
    {
     "data": {
      "text/html": [
       "<div>\n",
       "<style scoped>\n",
       "    .dataframe tbody tr th:only-of-type {\n",
       "        vertical-align: middle;\n",
       "    }\n",
       "\n",
       "    .dataframe tbody tr th {\n",
       "        vertical-align: top;\n",
       "    }\n",
       "\n",
       "    .dataframe thead th {\n",
       "        text-align: right;\n",
       "    }\n",
       "</style>\n",
       "<table border=\"1\" class=\"dataframe\">\n",
       "  <thead>\n",
       "    <tr style=\"text-align: right;\">\n",
       "      <th></th>\n",
       "      <th>column_name</th>\n",
       "      <th>percent_missing</th>\n",
       "    </tr>\n",
       "  </thead>\n",
       "  <tbody>\n",
       "    <tr>\n",
       "      <th>0</th>\n",
       "      <td>patientunitstayid</td>\n",
       "      <td>0.000000</td>\n",
       "    </tr>\n",
       "    <tr>\n",
       "      <th>1</th>\n",
       "      <td>uniquepid</td>\n",
       "      <td>0.000000</td>\n",
       "    </tr>\n",
       "    <tr>\n",
       "      <th>2</th>\n",
       "      <td>itemoffset</td>\n",
       "      <td>0.000000</td>\n",
       "    </tr>\n",
       "    <tr>\n",
       "      <th>3</th>\n",
       "      <td>gender</td>\n",
       "      <td>0.000000</td>\n",
       "    </tr>\n",
       "    <tr>\n",
       "      <th>4</th>\n",
       "      <td>age</td>\n",
       "      <td>0.000000</td>\n",
       "    </tr>\n",
       "    <tr>\n",
       "      <th>5</th>\n",
       "      <td>Height</td>\n",
       "      <td>0.000000</td>\n",
       "    </tr>\n",
       "    <tr>\n",
       "      <th>6</th>\n",
       "      <td>Weight</td>\n",
       "      <td>0.000000</td>\n",
       "    </tr>\n",
       "    <tr>\n",
       "      <th>7</th>\n",
       "      <td>labelpt</td>\n",
       "      <td>0.000000</td>\n",
       "    </tr>\n",
       "    <tr>\n",
       "      <th>8</th>\n",
       "      <td>CAM</td>\n",
       "      <td>0.000000</td>\n",
       "    </tr>\n",
       "    <tr>\n",
       "      <th>9</th>\n",
       "      <td>Temperature (C)</td>\n",
       "      <td>0.094620</td>\n",
       "    </tr>\n",
       "    <tr>\n",
       "      <th>10</th>\n",
       "      <td>Heart Rate</td>\n",
       "      <td>1.997862</td>\n",
       "    </tr>\n",
       "    <tr>\n",
       "      <th>11</th>\n",
       "      <td>glucose</td>\n",
       "      <td>2.049523</td>\n",
       "    </tr>\n",
       "    <tr>\n",
       "      <th>12</th>\n",
       "      <td>O2 Saturation</td>\n",
       "      <td>2.070702</td>\n",
       "    </tr>\n",
       "    <tr>\n",
       "      <th>13</th>\n",
       "      <td>Potassium</td>\n",
       "      <td>3.728883</td>\n",
       "    </tr>\n",
       "    <tr>\n",
       "      <th>14</th>\n",
       "      <td>sodium</td>\n",
       "      <td>3.822245</td>\n",
       "    </tr>\n",
       "    <tr>\n",
       "      <th>15</th>\n",
       "      <td>Chloride</td>\n",
       "      <td>4.093246</td>\n",
       "    </tr>\n",
       "    <tr>\n",
       "      <th>16</th>\n",
       "      <td>BUN</td>\n",
       "      <td>4.195418</td>\n",
       "    </tr>\n",
       "    <tr>\n",
       "      <th>17</th>\n",
       "      <td>Creatinine</td>\n",
       "      <td>4.234328</td>\n",
       "    </tr>\n",
       "    <tr>\n",
       "      <th>18</th>\n",
       "      <td>Hemoglobin</td>\n",
       "      <td>4.704803</td>\n",
       "    </tr>\n",
       "    <tr>\n",
       "      <th>19</th>\n",
       "      <td>WBC x 1000</td>\n",
       "      <td>5.326758</td>\n",
       "    </tr>\n",
       "    <tr>\n",
       "      <th>20</th>\n",
       "      <td>Bicarbonate</td>\n",
       "      <td>5.862246</td>\n",
       "    </tr>\n",
       "    <tr>\n",
       "      <th>21</th>\n",
       "      <td>Platelets</td>\n",
       "      <td>6.243847</td>\n",
       "    </tr>\n",
       "    <tr>\n",
       "      <th>22</th>\n",
       "      <td>AST</td>\n",
       "      <td>37.543363</td>\n",
       "    </tr>\n",
       "    <tr>\n",
       "      <th>23</th>\n",
       "      <td>Alkaline Phosphate</td>\n",
       "      <td>37.854149</td>\n",
       "    </tr>\n",
       "    <tr>\n",
       "      <th>24</th>\n",
       "      <td>ALT</td>\n",
       "      <td>38.081369</td>\n",
       "    </tr>\n",
       "    <tr>\n",
       "      <th>25</th>\n",
       "      <td>direct bilirubin</td>\n",
       "      <td>78.900817</td>\n",
       "    </tr>\n",
       "    <tr>\n",
       "      <th>26</th>\n",
       "      <td>labelrec</td>\n",
       "      <td>93.583057</td>\n",
       "    </tr>\n",
       "  </tbody>\n",
       "</table>\n",
       "</div>"
      ],
      "text/plain": [
       "           column_name  percent_missing\n",
       "0    patientunitstayid         0.000000\n",
       "1            uniquepid         0.000000\n",
       "2           itemoffset         0.000000\n",
       "3               gender         0.000000\n",
       "4                  age         0.000000\n",
       "5               Height         0.000000\n",
       "6               Weight         0.000000\n",
       "7              labelpt         0.000000\n",
       "8                  CAM         0.000000\n",
       "9      Temperature (C)         0.094620\n",
       "10          Heart Rate         1.997862\n",
       "11             glucose         2.049523\n",
       "12       O2 Saturation         2.070702\n",
       "13           Potassium         3.728883\n",
       "14              sodium         3.822245\n",
       "15            Chloride         4.093246\n",
       "16                 BUN         4.195418\n",
       "17          Creatinine         4.234328\n",
       "18          Hemoglobin         4.704803\n",
       "19          WBC x 1000         5.326758\n",
       "20         Bicarbonate         5.862246\n",
       "21           Platelets         6.243847\n",
       "22                 AST        37.543363\n",
       "23  Alkaline Phosphate        37.854149\n",
       "24                 ALT        38.081369\n",
       "25    direct bilirubin        78.900817\n",
       "26            labelrec        93.583057"
      ]
     },
     "execution_count": 163,
     "metadata": {},
     "output_type": "execute_result"
    }
   ],
   "source": [
    "\n",
    "# MISSING RATE After Filtering on 48 hours\n",
    "\n",
    "\n",
    "import missingno as msno\n",
    "import seaborn as sns\n",
    "import matplotlib.pyplot as plt\n",
    "columns = columns_order \n",
    "percent_missing = new_df_los_nodups[columns].isnull().sum() * 100 / len(new_df_los_nodups)\n",
    "missing_value_df = pd.DataFrame({'column_name': columns,'percent_missing': percent_missing})\n",
    "missing_value_df.sort_values('percent_missing', inplace=True)\n",
    "missing_value_df.reset_index(inplace=True, drop=True)\n",
    "missing_value_df"
   ]
  },
  {
   "cell_type": "markdown",
   "metadata": {},
   "source": [
    "## Drop columns with high missing rate (ALT,AST,Alk Ph, Dir Bil)"
   ]
  },
  {
   "cell_type": "code",
   "execution_count": 165,
   "metadata": {},
   "outputs": [
    {
     "name": "stdout",
     "output_type": "stream",
     "text": [
      "16546 (1827303, 28)\n",
      "16546\n",
      "(1827303, 24)\n"
     ]
    },
    {
     "name": "stderr",
     "output_type": "stream",
     "text": [
      "C:\\Users\\URHU\\AppData\\Local\\Temp\\ipykernel_33684\\1192930112.py:3: SettingWithCopyWarning: \n",
      "A value is trying to be set on a copy of a slice from a DataFrame\n",
      "\n",
      "See the caveats in the documentation: https://pandas.pydata.org/pandas-docs/stable/user_guide/indexing.html#returning-a-view-versus-a-copy\n",
      "  new_df_los_nodups.drop(columns=['ALT', 'AST','Alkaline Phosphate','direct bilirubin',\n"
     ]
    }
   ],
   "source": [
    "\n",
    "print(new_df_los_nodups.patientunitstayid.nunique(), new_df_los_nodups.shape)\n",
    "\n",
    "new_df_los_nodups.drop(columns=['ALT', 'AST','Alkaline Phosphate','direct bilirubin',\n",
    "                                # 'fluidin', 'fluidout'\n",
    "                                ],inplace=True)\n",
    "\n",
    "print(new_df_los_nodups.patientunitstayid.nunique())\n",
    "\n",
    "print(new_df_los_nodups.shape)"
   ]
  },
  {
   "cell_type": "code",
   "execution_count": 166,
   "metadata": {},
   "outputs": [
    {
     "name": "stdout",
     "output_type": "stream",
     "text": [
      "(2262356, 27)\n"
     ]
    }
   ],
   "source": [
    "print(new_df.shape)"
   ]
  },
  {
   "cell_type": "markdown",
   "metadata": {},
   "source": [
    "### Missing values dropna "
   ]
  },
  {
   "cell_type": "code",
   "execution_count": 167,
   "metadata": {},
   "outputs": [
    {
     "data": {
      "text/plain": [
       "Index(['patientunitstayid', 'uniquepid', 'itemoffset', 'gender', 'age',\n",
       "       'Height', 'Weight', 'Heart Rate', 'O2 Saturation', 'glucose',\n",
       "       'Temperature (C)', 'sodium', 'BUN', 'WBC x 1000', 'direct bilirubin',\n",
       "       'Hemoglobin', 'Platelets', 'Potassium', 'Chloride', 'Bicarbonate',\n",
       "       'Creatinine', 'ALT', 'AST', 'Alkaline Phosphate', 'CAM', 'labelrec',\n",
       "       'labelpt'],\n",
       "      dtype='object')"
      ]
     },
     "execution_count": 167,
     "metadata": {},
     "output_type": "execute_result"
    }
   ],
   "source": [
    "new_df.columns"
   ]
  },
  {
   "cell_type": "code",
   "execution_count": 168,
   "metadata": {},
   "outputs": [],
   "source": [
    "columns_order = ['patientunitstayid', 'uniquepid', 'itemoffset', 'gender', 'age',\n",
    "       'Height', 'Weight', 'Heart Rate', 'O2 Saturation', 'glucose',\n",
    "       'Temperature (C)', 'sodium', 'BUN', 'WBC x 1000', 'Hemoglobin', 'Platelets',\n",
    "       'Potassium', 'Chloride', 'Bicarbonate', 'Creatinine', \n",
    "       # 'sofa', 'sofa_wo_gcs', 'vent_flag','rate_dopamine', 'rate_epinephrine', 'rate_norepinephrine', 'rate_phenylephrine',\n",
    "       'CAM', 'labelrec', 'labelpt', 'LOS']\n"
   ]
  },
  {
   "cell_type": "markdown",
   "metadata": {},
   "source": [
    "## Drop patients with missing values"
   ]
  },
  {
   "cell_type": "code",
   "execution_count": 169,
   "metadata": {},
   "outputs": [
    {
     "name": "stdout",
     "output_type": "stream",
     "text": [
      "nan in labelrec: 1844453\n",
      "nan in labelpt: 0\n",
      "unique cam: [2 0 1]\n"
     ]
    }
   ],
   "source": [
    "new_df = new_df.dropna(subset=['Heart Rate', 'O2 Saturation', 'glucose',\n",
    "       'Temperature (C)', 'sodium', 'BUN', 'WBC x 1000', 'Hemoglobin',\n",
    "       'Platelets', 'Potassium', 'Chloride', 'Bicarbonate', 'Creatinine',\n",
    "       # 'sofa', 'sofa_wo_gcs', 'vent_flag', 'rate_dopamine', 'rate_epinephrine', 'rate_norepinephrine', 'rate_phenylephrine'\n",
    "       ])\n",
    "\n",
    "print(\"nan in labelrec:\", new_df['labelrec'].isna().sum())\n",
    "print(\"nan in labelpt:\", new_df['labelpt'].isna().sum())\n",
    "print(\"unique cam:\", new_df['CAM'].unique())"
   ]
  },
  {
   "cell_type": "code",
   "execution_count": 171,
   "metadata": {},
   "outputs": [
    {
     "name": "stdout",
     "output_type": "stream",
     "text": [
      "nan in labelpt: 0\n",
      "nan in labelrec: 1710046\n",
      "nan in cam: 0\n",
      "unique cam: [2 0 1]\n",
      "cam that equals 2: 1710046\n"
     ]
    }
   ],
   "source": [
    "\n",
    "label_deli = new_df_los_nodups.copy()\n",
    "label_deli['labelrec'] = np.nan\n",
    "label_deli.loc[label_deli['CAM']==1,'labelrec']=1\n",
    "label_deli.loc[label_deli['CAM']==0,'labelrec']=0\n",
    "label_deli['labelpt'] = np.nan\n",
    "\n",
    "\n",
    "pos_cam_coh = label_deli[label_deli['labelrec']==1]['patientunitstayid'].unique()\n",
    "label_deli.loc[label_deli['patientunitstayid'].isin(pos_cam_coh), 'labelpt']=1\n",
    "label_deli.loc[~(label_deli['patientunitstayid'].isin(pos_cam_coh)), 'labelpt']=0\n",
    "print(\"nan in labelpt:\", label_deli['labelpt'].isna().sum())\n",
    "print(\"nan in labelrec:\", label_deli['labelrec'].isna().sum())\n",
    "print(\"nan in cam:\", label_deli['CAM'].isna().sum())\n",
    "print(\"unique cam:\", label_deli['CAM'].unique())\n",
    "print(\"cam that equals 2:\", label_deli[label_deli['CAM'] == 2].shape[0])\n",
    "\n",
    "pos_cam_df = label_deli[label_deli['labelpt']==1]\n",
    "neg_cam_df = label_deli[label_deli['labelpt']==0]\n",
    "pos_cam_df.reset_index(inplace=True)\n",
    "pos_cam_df = pos_cam_df.drop(columns=['index'])\n",
    "\n",
    "neg_cam_df.reset_index(inplace=True)\n",
    "neg_cam_df = neg_cam_df.drop(columns=['index'])\n",
    "\n",
    "neg_cam_df['CAM'] = neg_cam_df['labelpt']\n",
    "pos_cam_df['CAM'] = pos_cam_df['labelpt']\n",
    "\n",
    "pos_cam_df.to_csv(os.path.join(data_processed_path, 'pos_eicu_imputed_24los.csv'), index=False)\n",
    "neg_cam_df.to_csv(os.path.join(data_processed_path, 'neg_eicu_imputed_24los.csv'), index=False)"
   ]
  },
  {
   "cell_type": "code",
   "execution_count": 173,
   "metadata": {},
   "outputs": [],
   "source": [
    "#merge pos and neg cam df\n",
    "all_deli = pd.concat([pos_cam_df, neg_cam_df], ignore_index=True)"
   ]
  },
  {
   "cell_type": "code",
   "execution_count": null,
   "metadata": {},
   "outputs": [
    {
     "name": "stdout",
     "output_type": "stream",
     "text": [
      "count of labelpt == labelrec: 95233\n"
     ]
    },
    {
     "ename": "",
     "evalue": "",
     "output_type": "error",
     "traceback": [
      "\u001b[1;31mThe Kernel crashed while executing code in the current cell or a previous cell. \n",
      "\u001b[1;31mPlease review the code in the cell(s) to identify a possible cause of the failure. \n",
      "\u001b[1;31mClick <a href='https://aka.ms/vscodeJupyterKernelCrash'>here</a> for more info. \n",
      "\u001b[1;31mView Jupyter <a href='command:jupyter.viewOutput'>log</a> for further details."
     ]
    }
   ],
   "source": [
    "#print labelpt == labelrec\n",
    "print(\"count of labelpt == labelrec:\", (all_deli['labelpt'] == all_deli['labelrec']).sum())"
   ]
  }
 ],
 "metadata": {
  "kernelspec": {
   "display_name": "deli_env",
   "language": "python",
   "name": "python3"
  },
  "language_info": {
   "codemirror_mode": {
    "name": "ipython",
    "version": 3
   },
   "file_extension": ".py",
   "mimetype": "text/x-python",
   "name": "python",
   "nbconvert_exporter": "python",
   "pygments_lexer": "ipython3",
   "version": "3.13.5"
  }
 },
 "nbformat": 4,
 "nbformat_minor": 2
}
